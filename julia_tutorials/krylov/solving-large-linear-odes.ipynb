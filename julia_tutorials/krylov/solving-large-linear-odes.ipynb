{
 "cells": [
  {
   "cell_type": "markdown",
   "metadata": {},
   "source": [
    "# Solving large linear ODEs with matrix-free operators by Krylov methods\n",
    "\n",
    "Presented by Chiyoung Ahn (chiyahn@mail.ubc.ca)\n",
    "\n",
    "This notebook demonstrates how Julia `DiffEq` ecosystem can be used to solve large systems of linear ODEs rapidly."
   ]
  },
  {
   "cell_type": "code",
   "execution_count": null,
   "metadata": {},
   "outputs": [],
   "source": [
    "] add BenchmarkTools Parameters DifferentialEquations IterativeSolvers LinearMaps DiffEqOperators"
   ]
  },
  {
   "cell_type": "code",
   "execution_count": 1,
   "metadata": {
    "scrolled": true
   },
   "outputs": [
    {
     "data": {
      "text/plain": [
       "Plots.GRBackend()"
      ]
     },
     "execution_count": 1,
     "metadata": {},
     "output_type": "execute_result"
    }
   ],
   "source": [
    "using LinearAlgebra, SparseArrays, Parameters, DifferentialEquations, IterativeSolvers, LinearMaps, DiffEqOperators\n",
    "using Plots, BenchmarkTools\n",
    "gr(fmt = :png)"
   ]
  },
  {
   "cell_type": "markdown",
   "metadata": {},
   "source": [
    "## Solving linear ODEs with old school matrix-based operators"
   ]
  },
  {
   "cell_type": "markdown",
   "metadata": {},
   "source": [
    "Consider a continuous-time Markov chain model on a $N$-dimensional path with large $N$ and the following transition matrix:\n",
    "$$\n",
    "Q = \n",
    "\\begin{pmatrix}\n",
    "-\\theta & \\theta & 0 & ... & ...  & ...  & 0 \\\\\n",
    "\\theta/2 & -\\theta & \\theta/2 & 0  & \\ddots & ...& 0 \\\\\n",
    "0 & \\theta/2 & -\\theta & \\theta/2 & 0  & \\ddots  & \\vdots \\\\\n",
    "0 & 0 & \\theta/2 & -\\theta & \\theta/2 & 0 & \\vdots \\\\\n",
    "\\vdots & \\ddots & \\ddots & \\ddots & \\ddots  &\\ddots  & \\vdots \\\\\n",
    "0 & ... & ... & ... & 0 & \\theta & -\\theta\n",
    "\\end{pmatrix}\n",
    "$$\n",
    "For instance, for $\\theta = 0.5$ with $N = 4$, the chain is\n",
    "$$\n",
    "\\begin{pmatrix}\n",
    "-0.5 & 0.5 & 0 & 0 \\\\\n",
    "0.25 & -0.5 & 0.25 & 0 \\\\\n",
    "0 & 0.25 & -0.5 & 0.25 \\\\\n",
    "0 & 0 & 0.5 & -0.5\n",
    "\\end{pmatrix}\n",
    "$$\n",
    "\n",
    "For now we assume that $Q$ is time-independent; later in this tutorial we will consider time-variant Markov chain with discrete time steps. The path $f(t)$ associated with $Q$ at $t$ is determined by\n",
    "$$\n",
    "f'(t) = Q^T f(t)\n",
    "$$\n",
    "\n",
    "Creating a matrix for this particular model is relatively easy:"
   ]
  },
  {
   "cell_type": "code",
   "execution_count": 2,
   "metadata": {},
   "outputs": [
    {
     "data": {
      "text/plain": [
       "4×4 Array{Float64,2}:\n",
       " -0.5    0.5    0.0    0.0 \n",
       "  0.25  -0.5    0.25   0.0 \n",
       "  0.0    0.25  -0.5    0.25\n",
       "  0.0    0.0    0.5   -0.5 "
      ]
     },
     "metadata": {},
     "output_type": "display_data"
    }
   ],
   "source": [
    "function get_Q_T_matrix(N) \n",
    "    # construct a base matrix\n",
    "    mat = spdiagm(-1 => fill(θ/2, N-1), 0 => fill(-θ, N), 1 => fill(θ/2, N-1))\n",
    "    # (1,2) and (N,N-1) elements should be 0.5\n",
    "    mat[1,2] = θ\n",
    "    mat[N,(N-1)] = θ\n",
    "    return mat'\n",
    "end\n",
    "\n",
    "# define transition matrix Q\n",
    "N_small = 4\n",
    "θ = 0.5\n",
    "Q_T = get_Q_T_matrix(N_small)\n",
    "display(Matrix(Q_T')) # display Q"
   ]
  },
  {
   "cell_type": "markdown",
   "metadata": {},
   "source": [
    "so is solving the system:"
   ]
  },
  {
   "cell_type": "code",
   "execution_count": 22,
   "metadata": {
    "scrolled": false
   },
   "outputs": [
    {
     "name": "stdout",
     "output_type": "stream",
     "text": [
      "  1.746648 seconds (6.85 M allocations: 354.076 MiB, 7.03% gc time)\n"
     ]
    },
    {
     "data": {
      "image/png": "[encoded data removed]"
     },
     "execution_count": 22,
     "metadata": {},
     "output_type": "execute_result"
    }
   ],
   "source": [
    "# solve model with matrix Q\n",
    "function solve_transition_dynamics_matrix(Q_T_matrix, f_0, T)\n",
    "    # define the corresponding ODE problem\n",
    "    df(f,p,t) = Q_T_matrix * f\n",
    "    prob = ODEProblem(df,f_0,(0.0,T),Euler()) # use canonical Euler methods\n",
    "    # solve using a default solver;\n",
    "    # run twice to get the accurate computation time after compilation OR use @btime instead\n",
    "    @time solve(prob)\n",
    "end\n",
    "f_0 = [1.0; fill(0.0, N_small-1)]\n",
    "sol_matrix = solve_transition_dynamics_matrix(Q_T, f_0, 40.0)\n",
    "plot(sol_matrix, title=\"Solution, using transition matrix\")"
   ]
  },
  {
   "cell_type": "markdown",
   "metadata": {},
   "source": [
    "Even if we have used sparse matrices, once $N$ gets fairly large, retrieving the solution can take a huge amount of time. Consider the following case with $N = 10^6$:"
   ]
  },
  {
   "cell_type": "code",
   "execution_count": 23,
   "metadata": {},
   "outputs": [
    {
     "name": "stdout",
     "output_type": "stream",
     "text": [
      "  8.839971 seconds (3.07 M allocations: 9.935 GiB, 49.17% gc time)\n"
     ]
    }
   ],
   "source": [
    "N_large = 10^6\n",
    "Q_T_large = get_Q_T_matrix(N_large)\n",
    "f_0 = [1.0; fill(0.0, N_large-1)]\n",
    "sol_matrix = solve_transition_dynamics_matrix(Q_T_large, f_0, 40.0);"
   ]
  },
  {
   "cell_type": "markdown",
   "metadata": {},
   "source": [
    "Certainly doable, but once we have something like $N = 10^8$, computation becomes simply impossible. Even if we set up a matrix in tridiagonal forms, computation gain is not apparent:"
   ]
  },
  {
   "cell_type": "code",
   "execution_count": 24,
   "metadata": {},
   "outputs": [
    {
     "name": "stdout",
     "output_type": "stream",
     "text": [
      "  9.242202 seconds (6.02 M allocations: 10.087 GiB, 48.37% gc time)\n"
     ]
    }
   ],
   "source": [
    "function get_Q_T_matrix_tridiag(N) \n",
    "    # construct a base matrix\n",
    "    mat = Tridiagonal(fill(θ/2, N-1), fill(-θ, N), fill(θ/2, N-1))\n",
    "    # (1,2) and (N,N-1) elements should be 0.5 -- take transpose first\n",
    "    mat[2,1] = θ\n",
    "    mat[(N-1),N] = θ\n",
    "    return mat\n",
    "end\n",
    "\n",
    "Q_T_large_tridiag = get_Q_T_matrix_tridiag(N_large)\n",
    "f_0 = [1.0; fill(0.0, N_large-1)]\n",
    "sol_matrix = solve_transition_dynamics_matrix(Q_T_large_tridiag, f_0, 40.0);"
   ]
  },
  {
   "cell_type": "markdown",
   "metadata": {},
   "source": [
    "Note that the sparse matrix tricks we used above can't be applied when the transition matrix is dense due to memory allocation. Also, when we have a complex transition process, writing a transition process in a matrix form can be fairly difficult or undesirable!"
   ]
  },
  {
   "cell_type": "markdown",
   "metadata": {},
   "source": [
    "## Rapidly solving linear ODEs with matrix-free operators by Krylovin'"
   ]
  },
  {
   "cell_type": "markdown",
   "metadata": {},
   "source": [
    "Here we show how matrix free operators for $Q^T$ can be defined without relying on a matrix. First, define a function `Q_transpose!` that determines the multiplicative behaviour:"
   ]
  },
  {
   "cell_type": "code",
   "execution_count": 6,
   "metadata": {},
   "outputs": [
    {
     "data": {
      "text/plain": [
       "Q_T! (generic function with 1 method)"
      ]
     },
     "execution_count": 6,
     "metadata": {},
     "output_type": "execute_result"
    }
   ],
   "source": [
    "function Q_T!(df, f, p, t)\n",
    "    @unpack θ, N = p\n",
    "    df[1] = -θ*f[1]+θ/2*f[2]\n",
    "    df[N] = θ/2*f[N-1]-θ*f[N]\n",
    "    for i in 2:(N-1)\n",
    "        df[i] = θ/2*f[i-1] - θ*f[i] + θ/2*f[i+1]\n",
    "    end\n",
    "    df[2] += θ/2*f[1] # from i = 1\n",
    "    df[N-1] += θ/2*f[N] # from i = N\n",
    "end"
   ]
  },
  {
   "cell_type": "markdown",
   "metadata": {},
   "source": [
    "which is essentially allocating $Q^T f(t)$ into `df` ($f'(t)$). We can then define the corresponding matrix-free operator `O!`; note that some additional properties have to be assigned as well:"
   ]
  },
  {
   "cell_type": "code",
   "execution_count": 7,
   "metadata": {},
   "outputs": [],
   "source": [
    "N_small = 4\n",
    "p = (θ = θ, N = N_small)\n",
    "O! = MatrixFreeOperator(Q_T!, (p, 0.0))\n",
    "Base.size(::typeof(O!), n) = n==1 || n == 2 ? N_small : 1\n",
    "LinearAlgebra.opnorm(::typeof(O!), n::Real) = n==Inf ? 0.1 : nothing\n",
    "LinearAlgebra.ishermitian(::typeof(O!)) = false"
   ]
  },
  {
   "cell_type": "markdown",
   "metadata": {},
   "source": [
    "Solving the ODE problem with matrix-free operators is fairly similar to the one for matrix based linear ODEs. Once we use Krylov methods, the solution can be readily found in a few seconds.\n"
   ]
  },
  {
   "cell_type": "code",
   "execution_count": 8,
   "metadata": {},
   "outputs": [
    {
     "data": {
      "image/png": "[encoded data removed]"
     },
     "execution_count": 8,
     "metadata": {},
     "output_type": "execute_result"
    }
   ],
   "source": [
    "# solve model without matrix\n",
    "function solve_transition_dynamics(O!, f_0, T, p; t_interpolation=range(0,T,length=20))\n",
    "    # define the corresponding ODE problem\n",
    "    prob = ODEProblem(O!,f_0,(0.0,T), p)\n",
    "    # solve using Krylov methods\n",
    "    solve(prob, LinearExponential(krylov=:simple), tstops=t_interpolation) \n",
    "end\n",
    "N_small = 4\n",
    "f_0 = [1.0; fill(0.0, N_small-1)]\n",
    "sol = solve_transition_dynamics(O!, f_0, 40.0, p)\n",
    "plot(sol, title=\"Solution, using Krylov methods\")"
   ]
  },
  {
   "cell_type": "markdown",
   "metadata": {},
   "source": [
    "Note that we have to provide `tstops` in `solve()`. This `tstops` is not a collection of discrete time step being used; it is rather a collection of sample points for interpolation on the exact solution -- using `LinearExponential` will make `solve()` return an analytic solution using Krylov methods evaluated at `tstops`, and evaluating the returned `sol_krylov` at `t` will provide the solution at `t` by interpolation based on the analytic solution found at `tstops`."
   ]
  },
  {
   "cell_type": "markdown",
   "metadata": {},
   "source": [
    "Compare the performance and memory allocation for $N = 10^6$ case:"
   ]
  },
  {
   "cell_type": "code",
   "execution_count": 9,
   "metadata": {},
   "outputs": [
    {
     "name": "stdout",
     "output_type": "stream",
     "text": [
      "  2.173 s (4210 allocations: 588.08 MiB)\n"
     ]
    }
   ],
   "source": [
    "N_large = 10^6\n",
    "\n",
    "# define matrix-free operators\n",
    "p = (θ = θ, N = N_large)\n",
    "O! = MatrixFreeOperator(Q_T!, (p, 0.0))\n",
    "Base.size(::typeof(O!), n) = n==1 || n == 2 ? N_large : 1\n",
    "LinearAlgebra.opnorm(::typeof(O!), n::Real) = n==Inf ? 0.1 : nothing\n",
    "LinearAlgebra.ishermitian(::typeof(O!)) = false\n",
    "\n",
    "# solve!\n",
    "f_0 = [1.0; fill(0.0, N_large-1)]\n",
    "@btime sol_krylov = solve_transition_dynamics(O!, f_0, 40.0, p);"
   ]
  },
  {
   "cell_type": "markdown",
   "metadata": {},
   "source": [
    "Magnificent! Note that the solution is close to the one computed from a matrix-based operator above (even with $N=10^6$):"
   ]
  },
  {
   "cell_type": "code",
   "execution_count": 10,
   "metadata": {
    "scrolled": true
   },
   "outputs": [
    {
     "ename": "UndefVarError",
     "evalue": "UndefVarError: sol_krylov not defined",
     "output_type": "error",
     "traceback": [
      "UndefVarError: sol_krylov not defined",
      "",
      "Stacktrace:",
      " [1] top-level scope at In[10]:1"
     ]
    }
   ],
   "source": [
    "norm(sol_matrix.(0:1:40.0) - sol_krylov.(0:1:40.0))"
   ]
  },
  {
   "cell_type": "markdown",
   "metadata": {},
   "source": [
    "Furthermore, an extreme case with $N = 10^8$ isn't impossible once we reduce the number of nodes:"
   ]
  },
  {
   "cell_type": "code",
   "execution_count": 11,
   "metadata": {},
   "outputs": [
    {
     "name": "stdout",
     "output_type": "stream",
     "text": [
      "162.114647 seconds (1.88 M allocations: 35.105 GiB, 6.21% gc time)\n"
     ]
    }
   ],
   "source": [
    "N_extreme = 10^8\n",
    "\n",
    "# define matrix-free operators\n",
    "p = (θ = θ, N = N_extreme)\n",
    "O! = MatrixFreeOperator(Q_T!, (p, 0.0))\n",
    "Base.size(::typeof(O!), n) = n==1 || n == 2 ? N_extreme : 1\n",
    "LinearAlgebra.opnorm(::typeof(O!), n::Real) = n==Inf ? 0.1 : nothing\n",
    "LinearAlgebra.ishermitian(::typeof(O!)) = false\n",
    "\n",
    "# solve!\n",
    "f_0 = [1.0; fill(0.0, N_extreme-1)]\n",
    "# run twice to get the accurate computation time after compilation OR use @btime instead\n",
    "@time solve_transition_dynamics(O!, f_0, 40.0, p; t_interpolation=range(0,40.0,length=10));"
   ]
  },
  {
   "cell_type": "markdown",
   "metadata": {},
   "source": [
    "## Computing stationary distributions"
   ]
  },
  {
   "cell_type": "markdown",
   "metadata": {},
   "source": [
    "It is well-known that stationary distributions of Markov chains can be computed by finding the normalized eigenvector of the transpose of the transition matrix $Q^T$ associated with the eigenvalue of zero, i.e., finding $v$ such that $Q^T v = 0$. For large systems with complex dynamics, computing the solution can be fairly difficult. \n",
    "\n",
    "In Julia, `IterativeSolvers` can be used to find the solution using iterative methods such as conjugate gradient and GMRES. Good news is that, `IterativeSolvers` also supports matrix-free operators too:"
   ]
  },
  {
   "cell_type": "code",
   "execution_count": 12,
   "metadata": {
    "scrolled": true
   },
   "outputs": [
    {
     "name": "stdout",
     "output_type": "stream",
     "text": [
      "  1.970 ms (5515 allocations: 134.52 KiB)\n"
     ]
    },
    {
     "data": {
      "text/plain": [
       "1000-element Array{Float64,1}:\n",
       " 0.0005005007746196351\n",
       " 0.0010010015491555293\n",
       " 0.0010010015490376507\n",
       " 0.0010010015487789833\n",
       " 0.0010010015485635041\n",
       " 0.0010010015482220175\n",
       " 0.0010010015478413336\n",
       " 0.0010010015473056887\n",
       " 0.0010010015468022062\n",
       " 0.0010010015461751993\n",
       " 0.0010010015455426922\n",
       " 0.0010010015447258127\n",
       " 0.0010010015438686594\n",
       " ⋮                    \n",
       " 0.0010010015447258136\n",
       " 0.0010010015455426935\n",
       " 0.0010010015461751993\n",
       " 0.0010010015468022069\n",
       " 0.0010010015473056895\n",
       " 0.0010010015478413349\n",
       " 0.0010010015482220184\n",
       " 0.0010010015485635057\n",
       " 0.0010010015487789848\n",
       " 0.0010010015490376511\n",
       " 0.0010010015491555297\n",
       " 0.0005005007746196357"
      ]
     },
     "execution_count": 12,
     "metadata": {},
     "output_type": "execute_result"
    }
   ],
   "source": [
    "N = 10^3\n",
    "\n",
    "# define parameters for matrix-free operator basis (Q_transpose!)\n",
    "p = (θ = θ, N = N)\n",
    "\n",
    "# find the stationary distribution (`stationary`)\n",
    "map_matfree! = LinearMap((y,x) -> Q_T!(y, x, p, 0.0), N; ismutating=true) # defines multiplicative behaviour\n",
    "stationary, history = @btime cg!(fill(1/N, N), map_matfree!, fill(0.0, N), log = true) # use conjugate gradient\n",
    "# stationary, history = @time gmres!(fill(1/N, N), map_matfree!, fill(0.0, N), log = true) # enable this line for GMRES\n",
    "stationary /= sum(stationary) # normalize\n",
    "stationary"
   ]
  }
 ],
 "metadata": {
  "kernelspec": {
   "display_name": "Julia 1.0.0",
   "language": "julia",
   "name": "julia-1.0"
  },
  "language_info": {
   "file_extension": ".jl",
   "mimetype": "application/julia",
   "name": "julia",
   "version": "1.0.0"
  }
 },
 "nbformat": 4,
 "nbformat_minor": 2
}
