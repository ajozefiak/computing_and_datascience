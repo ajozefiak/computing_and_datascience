{
 "cells": [
  {
   "cell_type": "markdown",
   "metadata": {},
   "source": [
    "# Using Julia with Juliabox\n",
    "\n",
    "This is a tutorial for Julia and Juliabox \n",
    "\n",
    "Julia as a compuatational language has a lot in common with C++, Fortran etc. It is a compiled language (Like Fortran and C++) so it shares the advantage of fast compuational speed, however with different compilers and as you get more and more familiar with the language, it becomes quite user friendly like a dynamic language (Matlab for instance). For a more detailed description of Julia the language, you can go to https://github.com/econtoolkit/julia and https://lectures.quantecon.org/jl/index.html . These two sources contain lots of information about how to set up and use Julia through different platforms, and self-contained tutorials for programming in Julia.\n",
    "\n",
    "The primary source of using Julia we'll introduce here is through Juliabox, it's an installation-free environment to use Julia. To get access to Juliabox, click the link:\n",
    "\n",
    "https://next.juliabox.com/\n",
    "\n",
    "You can login with Github, Google or LinkedIn. Note: Do Not install packages using \"Pkg.add()\" command in Juliabox, do it manually by clicking \"Package\" button here."
   ]
  },
  {
   "cell_type": "markdown",
   "metadata": {},
   "source": [
    " # Julia with Jupyter\n",
    " \n",
    " By using Juliabox, everyone can have an easy access to Julia(the programing software) and Jupyter(the compiler). And in Jupyter, one can easily type up descriptions and Latex Syntax to explain what the code does. For example, I have a function of $x$ and $y$ in mind and want to plot it with Julia:\n",
    "\n",
    "$$ f(x,y)=x^{2} + 1$$"
   ]
  },
  {
   "cell_type": "code",
   "execution_count": 15,
   "metadata": {},
   "outputs": [
    {
     "name": "stderr",
     "output_type": "stream",
     "text": [
      "\u001b[1m\u001b[36mINFO: \u001b[39m\u001b[22m\u001b[36mPackage Plots is already installed\n",
      "\u001b[39m\u001b[1m\u001b[36mINFO: \u001b[39m\u001b[22m\u001b[36mMETADATA is out-of-date — you may not have the latest version of Plots\n",
      "\u001b[39m\u001b[1m\u001b[36mINFO: \u001b[39m\u001b[22m\u001b[36mUse `Pkg.update()` to get the latest versions of your packages\n",
      "\u001b[39m"
     ]
    },
    {
     "data": {
      "text/html": [
       "<img src=\"data:image/png;base64,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\" />"
      ]
     },
     "execution_count": 15,
     "metadata": {},
     "output_type": "execute_result"
    }
   ],
   "source": [
    "x = [1.1,1.8,2.3,2.5,2.8,3.3]\n",
    "f = x.^2+1\n",
    "using Plots\n",
    "plot(x,f,color=\"red\")"
   ]
  },
  {
   "cell_type": "markdown",
   "metadata": {},
   "source": [
    "# Julia with Jupyter\n",
    "\n",
    "When working with Julia, there are two most commonly used edit modes in Jupyter: Code and Markdown. \n",
    "\n",
    "When start a command line in Jupyter, it's in code mode by default, to enter markdown mode, simply hit ` esc` then `m`, you will enter markdown mode. In markdown mode if you hit `Enter`, it will just start a new line, if you want to finish this markdown session and show the results of your typing, hit `Shift+Enter`\n",
    "\n",
    "## Markdown environment\n",
    "\n",
    "The Markdown environment is used for typing descriptions and mathematical derivation. One can type headlines by adding \"#\" infront of the context:\n",
    "# Fake headline\n",
    "## Fake subtitle...etc\n",
    "### Even smaller title\n",
    "\n",
    "In terms of math, if it is in between of paragraphs, you need to type the math expressions between \"\\$\" symbols: \n",
    "\n",
    "This is an example of a \"deep\" equation:  $\\Theta = \\sum_{t=0}^{\\infty} w_{t}-\\beta^{t}\\frac{u'(c_{t})}{u'(c_{0})}$, followed by some words that doesn't make sense.\n",
    "\n",
    "If you want to include formal math in a seperated paragraph, include the math between \"\\$\\$\" symbols:\n",
    "\n",
    "$$f(x,y)=\\frac{e^{\\gamma}b^{x}}{\\alpha x+\\sigma +y}$$\n",
    "\n",
    "The sytax for math is quite similar to that of LATEX, for the cookbook of greek letters and symbols, one can refer to \n",
    "https://cn.sharelatex.com/learn/List_of_Greek_letters_and_math_symbols\n",
    "\n",
    "For more math related code, I found this useful: https://en.wikibooks.org/wiki/LaTeX/Mathematics\n"
   ]
  },
  {
   "cell_type": "markdown",
   "metadata": {},
   "source": [
    "## Code Environment\n",
    "\n",
    "In code environment, hit `Enter` will NOT execute the code, and you can keep editting your code until you hit `Shift+Enter`. After doing that, Jupyter will show the result of the last line of your code."
   ]
  },
  {
   "cell_type": "code",
   "execution_count": 19,
   "metadata": {},
   "outputs": [
    {
     "data": {
      "text/plain": [
       "3"
      ]
     },
     "execution_count": 19,
     "metadata": {},
     "output_type": "execute_result"
    }
   ],
   "source": [
    "x=1\n",
    "y=2\n",
    "x+y"
   ]
  },
  {
   "cell_type": "markdown",
   "metadata": {},
   "source": [
    "If you dont want that, use \";\" at the end of your code to hide the output"
   ]
  },
  {
   "cell_type": "code",
   "execution_count": 42,
   "metadata": {},
   "outputs": [],
   "source": [
    "c=x+y;"
   ]
  },
  {
   "cell_type": "markdown",
   "metadata": {},
   "source": [
    "To create vectors and matrices, it's pretty similar to matlab:"
   ]
  },
  {
   "cell_type": "code",
   "execution_count": 39,
   "metadata": {},
   "outputs": [
    {
     "data": {
      "text/plain": [
       "2×3 Array{Int64,2}:\n",
       " 1  2  3\n",
       " 3  4  5"
      ]
     },
     "execution_count": 39,
     "metadata": {},
     "output_type": "execute_result"
    }
   ],
   "source": [
    "x_vec=[1 2 3;3 4 5]"
   ]
  },
  {
   "cell_type": "code",
   "execution_count": 40,
   "metadata": {},
   "outputs": [
    {
     "data": {
      "text/plain": [
       "3×2 Array{Int64,2}:\n",
       " 1  2\n",
       " 2  3\n",
       " 4  5"
      ]
     },
     "execution_count": 40,
     "metadata": {},
     "output_type": "execute_result"
    }
   ],
   "source": [
    "y_vec=[1 2; 2 3; 4 5]"
   ]
  },
  {
   "cell_type": "code",
   "execution_count": 41,
   "metadata": {},
   "outputs": [
    {
     "data": {
      "text/plain": [
       "2×2 Array{Int64,2}:\n",
       " 17  23\n",
       " 31  43"
      ]
     },
     "execution_count": 41,
     "metadata": {},
     "output_type": "execute_result"
    }
   ],
   "source": [
    "res=x_vec*y_vec"
   ]
  },
  {
   "cell_type": "code",
   "execution_count": 44,
   "metadata": {},
   "outputs": [
    {
     "data": {
      "text/plain": [
       "Array{Int64,2}"
      ]
     },
     "execution_count": 44,
     "metadata": {},
     "output_type": "execute_result"
    }
   ],
   "source": [
    "typeof(res)"
   ]
  },
  {
   "cell_type": "markdown",
   "metadata": {},
   "source": [
    "One can generate random numbers using \"rand\" command:"
   ]
  },
  {
   "cell_type": "code",
   "execution_count": 45,
   "metadata": {},
   "outputs": [
    {
     "data": {
      "text/plain": [
       "20-element Array{Float64,1}:\n",
       " 0.527788\n",
       " 0.461173\n",
       " 0.341645\n",
       " 0.999297\n",
       " 0.54402 \n",
       " 0.917675\n",
       " 0.123778\n",
       " 0.662094\n",
       " 0.23396 \n",
       " 0.566698\n",
       " 0.935842\n",
       " 0.222645\n",
       " 0.149953\n",
       " 0.318667\n",
       " 0.860461\n",
       " 0.775039\n",
       " 0.692292\n",
       " 0.874456\n",
       " 0.532992\n",
       " 0.242035"
      ]
     },
     "execution_count": 45,
     "metadata": {},
     "output_type": "execute_result"
    }
   ],
   "source": [
    "e=rand(20)"
   ]
  },
  {
   "cell_type": "markdown",
   "metadata": {},
   "source": [
    "# Loops using \"for\"\n",
    "\n",
    "The loops in Julia is much faster than that in matlab, one can easily use loops to do computation and create matrices.\n",
    "\n",
    "For example, suppose you want to compute $e^{2}$ where $e$ is the 20 by 1 vector you created above, you have several ways to do it:"
   ]
  },
  {
   "cell_type": "code",
   "execution_count": 58,
   "metadata": {},
   "outputs": [
    {
     "name": "stdout",
     "output_type": "stream",
     "text": [
      "0.2785605117178643\n",
      "0.21268067829303774\n",
      "0.11672109584386157\n",
      "0.9985935321127676\n",
      "0.29595802822253914\n",
      "0.8421274255286096\n",
      "0.015321069011656236\n",
      "0.4383681744809487\n",
      "0.05473714263523679\n",
      "0.3211461486428053\n",
      "0.8758000330387502\n",
      "0.049570931612155755\n",
      "0.022485872488690488\n",
      "0.10154841221534902\n",
      "0.7403933099933533\n",
      "0.6006849722153341\n",
      "0.479268341766498\n",
      "0.7646728970052644\n",
      "0.2840806475709151\n",
      "0.0585809439466259\n"
     ]
    }
   ],
   "source": [
    "for x in e\n",
    "    println(x*x)\n",
    "end "
   ]
  },
  {
   "cell_type": "code",
   "execution_count": 60,
   "metadata": {},
   "outputs": [
    {
     "data": {
      "text/plain": [
       "20-element Array{Float64,1}:\n",
       " 0.278561 \n",
       " 0.212681 \n",
       " 0.116721 \n",
       " 0.998594 \n",
       " 0.295958 \n",
       " 0.842127 \n",
       " 0.0153211\n",
       " 0.438368 \n",
       " 0.0547371\n",
       " 0.321146 \n",
       " 0.8758   \n",
       " 0.0495709\n",
       " 0.0224859\n",
       " 0.101548 \n",
       " 0.740393 \n",
       " 0.600685 \n",
       " 0.479268 \n",
       " 0.764673 \n",
       " 0.284081 \n",
       " 0.0585809"
      ]
     },
     "execution_count": 60,
     "metadata": {},
     "output_type": "execute_result"
    }
   ],
   "source": [
    "y = similar(e)\n",
    "for i in 1:length(e)\n",
    "    y[i]=e[i]*e[i]\n",
    "end\n",
    "y"
   ]
  },
  {
   "cell_type": "code",
   "execution_count": 62,
   "metadata": {},
   "outputs": [
    {
     "data": {
      "text/plain": [
       "20-element Array{Float64,1}:\n",
       " 0.278561 \n",
       " 0.212681 \n",
       " 0.116721 \n",
       " 0.998594 \n",
       " 0.295958 \n",
       " 0.842127 \n",
       " 0.0153211\n",
       " 0.438368 \n",
       " 0.0547371\n",
       " 0.321146 \n",
       " 0.8758   \n",
       " 0.0495709\n",
       " 0.0224859\n",
       " 0.101548 \n",
       " 0.740393 \n",
       " 0.600685 \n",
       " 0.479268 \n",
       " 0.764673 \n",
       " 0.284081 \n",
       " 0.0585809"
      ]
     },
     "execution_count": 62,
     "metadata": {},
     "output_type": "execute_result"
    }
   ],
   "source": [
    "e.*e"
   ]
  },
  {
   "cell_type": "code",
   "execution_count": 64,
   "metadata": {},
   "outputs": [
    {
     "data": {
      "text/plain": [
       "20-element Array{Float64,1}:\n",
       " 0.278561 \n",
       " 0.212681 \n",
       " 0.116721 \n",
       " 0.998594 \n",
       " 0.295958 \n",
       " 0.842127 \n",
       " 0.0153211\n",
       " 0.438368 \n",
       " 0.0547371\n",
       " 0.321146 \n",
       " 0.8758   \n",
       " 0.0495709\n",
       " 0.0224859\n",
       " 0.101548 \n",
       " 0.740393 \n",
       " 0.600685 \n",
       " 0.479268 \n",
       " 0.764673 \n",
       " 0.284081 \n",
       " 0.0585809"
      ]
     },
     "execution_count": 64,
     "metadata": {},
     "output_type": "execute_result"
    }
   ],
   "source": [
    "e.^2"
   ]
  },
  {
   "cell_type": "markdown",
   "metadata": {},
   "source": [
    "## Functions\n",
    "\n",
    "In Julia, you can easily define functions using ` function ` and `end` command. In doing so one can call the function you defined whenever you want to use it.\n",
    "\n",
    "If the function is simple, one can define it without using `function` command:"
   ]
  },
  {
   "cell_type": "code",
   "execution_count": 67,
   "metadata": {},
   "outputs": [
    {
     "data": {
      "text/plain": [
       "F (generic function with 1 method)"
      ]
     },
     "execution_count": 67,
     "metadata": {},
     "output_type": "execute_result"
    }
   ],
   "source": [
    "F(x,y) = x^2+y^2"
   ]
  },
  {
   "cell_type": "code",
   "execution_count": 68,
   "metadata": {},
   "outputs": [
    {
     "data": {
      "text/plain": [
       "2"
      ]
     },
     "execution_count": 68,
     "metadata": {},
     "output_type": "execute_result"
    }
   ],
   "source": [
    "F(1,1)"
   ]
  },
  {
   "cell_type": "code",
   "execution_count": 79,
   "metadata": {},
   "outputs": [
    {
     "data": {
      "text/plain": [
       "phi (generic function with 1 method)"
      ]
     },
     "execution_count": 79,
     "metadata": {},
     "output_type": "execute_result"
    }
   ],
   "source": [
    "phi(x,sig,mu) = 1/(sig*(2pi)^0.5)*exp(-(x-mu)^2/(2sig^2))"
   ]
  },
  {
   "cell_type": "markdown",
   "metadata": {},
   "source": [
    "The function we defined above is pdf of normal distribution:\n",
    "    $$\\phi(x)=\\frac{1}{\\sigma \\sqrt{2\\pi}}e^{-(x-\\mu)^{2}/2\\sigma^{2}}$$"
   ]
  },
  {
   "cell_type": "code",
   "execution_count": 80,
   "metadata": {},
   "outputs": [
    {
     "data": {
      "text/plain": [
       "0.3989422804014327"
      ]
     },
     "execution_count": 80,
     "metadata": {},
     "output_type": "execute_result"
    }
   ],
   "source": [
    "phi(0,1,0)"
   ]
  },
  {
   "cell_type": "code",
   "execution_count": 86,
   "metadata": {},
   "outputs": [
    {
     "data": {
      "text/plain": [
       "0.3989422804014327"
      ]
     },
     "execution_count": 86,
     "metadata": {},
     "output_type": "execute_result"
    }
   ],
   "source": [
    "using Distributions\n",
    "pdf(Normal(0,1),0)"
   ]
  },
  {
   "cell_type": "markdown",
   "metadata": {},
   "source": [
    "For more complicated functions, one can use `function` command:\n",
    "\n",
    "For example, we want a function that takes $x$ and $a_{1},a_{2}...a_{n}$ as input and spit out the result:\n",
    "\n",
    "$$y=\\sum_{i=1}^{n} a_{i}x^{i}$$"
   ]
  },
  {
   "cell_type": "code",
   "execution_count": 103,
   "metadata": {},
   "outputs": [
    {
     "data": {
      "text/plain": [
       "asum (generic function with 1 method)"
      ]
     },
     "execution_count": 103,
     "metadata": {},
     "output_type": "execute_result"
    }
   ],
   "source": [
    "function asum(x,a_vec)\n",
    "    y=0\n",
    "    for (i,a) in enumerate(a_vec)\n",
    "        y = a.*x.^i+y\n",
    "    end\n",
    "    return y\n",
    "end"
   ]
  },
  {
   "cell_type": "code",
   "execution_count": 93,
   "metadata": {},
   "outputs": [
    {
     "data": {
      "text/plain": [
       "3"
      ]
     },
     "execution_count": 93,
     "metadata": {},
     "output_type": "execute_result"
    }
   ],
   "source": [
    "a_vec=[1 2 3 4 5]\n",
    "x = 3"
   ]
  },
  {
   "cell_type": "code",
   "execution_count": 94,
   "metadata": {},
   "outputs": [
    {
     "data": {
      "text/plain": [
       "1641"
      ]
     },
     "execution_count": 94,
     "metadata": {},
     "output_type": "execute_result"
    }
   ],
   "source": [
    "asum(x,a_vec)"
   ]
  },
  {
   "cell_type": "code",
   "execution_count": 97,
   "metadata": {},
   "outputs": [
    {
     "data": {
      "text/plain": [
       "asum_alt (generic function with 1 method)"
      ]
     },
     "execution_count": 97,
     "metadata": {},
     "output_type": "execute_result"
    }
   ],
   "source": [
    "function asum_alt(x,a_vec)\n",
    "    y=0\n",
    "    for i =1:length(a_vec)\n",
    "        y=a_vec[i]*x^i+y\n",
    "    end\n",
    "    return y\n",
    "end"
   ]
  },
  {
   "cell_type": "code",
   "execution_count": 98,
   "metadata": {},
   "outputs": [
    {
     "data": {
      "text/plain": [
       "1641"
      ]
     },
     "execution_count": 98,
     "metadata": {},
     "output_type": "execute_result"
    }
   ],
   "source": [
    "asum_alt(x,a_vec)"
   ]
  },
  {
   "cell_type": "markdown",
   "metadata": {},
   "source": [
    "## Plot\n",
    "\n",
    "In order to plot graphs in Julia, the most basic package you need to use is ` Plots`, and in a basic gaph you need to declare at least the vector you want to plot."
   ]
  },
  {
   "cell_type": "code",
   "execution_count": 111,
   "metadata": {},
   "outputs": [
    {
     "data": {
      "text/plain": [
       "6-element Array{Float64,1}:\n",
       " 0.12345\n",
       " 0.312  \n",
       " 0.60555\n",
       " 1.0656 \n",
       " 1.78125\n",
       " 2.8752 "
      ]
     },
     "execution_count": 111,
     "metadata": {},
     "output_type": "execute_result"
    }
   ],
   "source": [
    "x_vec=[0.1,0.2,0.3,0.4,0.5,0.6]\n",
    "y_vec=asum(x_vec,a_vec)"
   ]
  },
  {
   "cell_type": "code",
   "execution_count": 113,
   "metadata": {},
   "outputs": [
    {
     "data": {
      "text/html": [
       "<img src=\"data:image/png;base64,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\" />"
      ]
     },
     "execution_count": 113,
     "metadata": {},
     "output_type": "execute_result"
    }
   ],
   "source": [
    "plot(x_vec,y_vec)"
   ]
  },
  {
   "cell_type": "code",
   "execution_count": 120,
   "metadata": {},
   "outputs": [
    {
     "data": {
      "text/plain": [
       "2×6 Array{Int64,2}:\n",
       " 1  2  3   4   5   6\n",
       " 7  8  9  10  11  12"
      ]
     },
     "execution_count": 120,
     "metadata": {},
     "output_type": "execute_result"
    }
   ],
   "source": [
    "x_mat=[1 2 3 4 5 6; 7 8 9 10 11 12]"
   ]
  },
  {
   "cell_type": "code",
   "execution_count": 124,
   "metadata": {},
   "outputs": [
    {
     "data": {
      "text/plain": [
       "1×2 RowVector{Float64,Array{Float64,1}}:\n",
       " 9.1  21.7"
      ]
     },
     "execution_count": 124,
     "metadata": {},
     "output_type": "execute_result"
    }
   ],
   "source": [
    "x_vec'*x_mat'"
   ]
  },
  {
   "cell_type": "code",
   "execution_count": null,
   "metadata": {},
   "outputs": [],
   "source": []
  }
 ],
 "metadata": {
  "kernelspec": {
   "display_name": "Julia 0.6.2",
   "language": "julia",
   "name": "julia-0.6"
  },
  "language_info": {
   "file_extension": ".jl",
   "mimetype": "application/julia",
   "name": "julia",
   "version": "0.6.2"
  }
 },
 "nbformat": 4,
 "nbformat_minor": 2
}
