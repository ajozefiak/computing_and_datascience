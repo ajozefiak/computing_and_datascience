{
 "cells": [
  {
   "cell_type": "markdown",
   "metadata": {},
   "source": [
    "Notebook created: 2018-01-04 10:10:22  \n",
    "Generated from: _build_jl/jl/finite_markov.rst  "
   ]
  },
  {
   "cell_type": "code",
   "execution_count": null,
   "metadata": {},
   "outputs": [],
   "source": [
    "using QuantEcon\n",
    "\n",
    "ψ = [0.1, 0.9];        # Probabilities over sample space {1, 2}\n",
    "d = DiscreteRV(ψ);\n",
    "rand(d, 5)             # Generate 5 independent draws from ψ"
   ]
  },
  {
   "cell_type": "markdown",
   "metadata": {},
   "source": [
    "```none\n",
    "5-element Array{Int64,1}:\n",
    " 1\n",
    " 2\n",
    " 2\n",
    " 1\n",
    " 2\n",
    "```\n"
   ]
  },
  {
   "cell_type": "code",
   "execution_count": null,
   "metadata": {},
   "outputs": [],
   "source": [
    "function mc_sample_path(P; init=1, sample_size=1000)\n",
    "    X = Array{Int64}(sample_size) # allocate memory\n",
    "    X[1] = init\n",
    "    # === convert each row of P into a distribution === #\n",
    "    n = size(P)[1]\n",
    "    P_dist = [DiscreteRV(vec(P[i,:])) for i in 1:n]\n",
    "\n",
    "    # === generate the sample path === #\n",
    "    for t in 1:(sample_size - 1)\n",
    "        X[t+1] = rand(P_dist[X[t]])\n",
    "    end\n",
    "    return X\n",
    "end"
   ]
  },
  {
   "cell_type": "code",
   "execution_count": null,
   "metadata": {},
   "outputs": [],
   "source": [
    "P = [0.4 0.6; 0.2 0.8]\n",
    "X = mc_sample_path(P, sample_size=100000);\n",
    "println(mean(X .== 1))"
   ]
  },
  {
   "cell_type": "markdown",
   "metadata": {},
   "source": [
    "```none\n",
    "0.25171\n",
    "```\n"
   ]
  },
  {
   "cell_type": "code",
   "execution_count": null,
   "metadata": {},
   "outputs": [],
   "source": [
    "P = [0.4 0.6; 0.2 0.8];\n",
    "mc = MarkovChain(P)\n",
    "X = simulate(mc, 100000);\n",
    "mean(X .== 1)  # Should be close to 0.25"
   ]
  },
  {
   "cell_type": "markdown",
   "metadata": {},
   "source": [
    "```none\n",
    "0.25031\n",
    "```\n"
   ]
  },
  {
   "cell_type": "code",
   "execution_count": null,
   "metadata": {},
   "outputs": [],
   "source": [
    "mc = MarkovChain(P, [\"unemployed\", \"employed\"])\n",
    "simulate(mc, 4, init=1)  # Start at state 1"
   ]
  },
  {
   "cell_type": "markdown",
   "metadata": {},
   "source": [
    "```none\n",
    "4-element Array{String,1}:\n",
    " \"employed\"\n",
    " \"employed\"\n",
    " \"unemployed\"\n",
    " \"unemployed\"\n",
    "```\n"
   ]
  },
  {
   "cell_type": "code",
   "execution_count": null,
   "metadata": {},
   "outputs": [],
   "source": [
    "simulate(mc, 4, init=2)  # Start at state 2"
   ]
  },
  {
   "cell_type": "markdown",
   "metadata": {},
   "source": [
    "```none\n",
    "4-element Array{String,1}:\n",
    " \"unemployed\"\n",
    " \"unemployed\"\n",
    " \"unemployed\"\n",
    " \"unemployed\"\n",
    "```\n"
   ]
  },
  {
   "cell_type": "code",
   "execution_count": null,
   "metadata": {},
   "outputs": [],
   "source": [
    "simulate(mc, 4)  # Start with randomly chosen initial condition"
   ]
  },
  {
   "cell_type": "markdown",
   "metadata": {},
   "source": [
    "```none\n",
    "4-element Array{String,1}:\n",
    " \"employed\"\n",
    " \"unemployed\"\n",
    " \"unemployed\"\n",
    " \"employed\"\n",
    "```\n"
   ]
  },
  {
   "cell_type": "code",
   "execution_count": null,
   "metadata": {},
   "outputs": [],
   "source": [
    "simulate_indices(mc, 4)"
   ]
  },
  {
   "cell_type": "markdown",
   "metadata": {},
   "source": [
    "```none\n",
    "4-element Array{Int64,1}:\n",
    " 1\n",
    " 1\n",
    " 2\n",
    " 2\n",
    "```\n"
   ]
  },
  {
   "cell_type": "code",
   "execution_count": null,
   "metadata": {},
   "outputs": [],
   "source": [
    "P = [0.9 0.1 0.0; 0.4 0.4 0.2; 0.1 0.1 0.8];\n",
    "mc = MarkovChain(P)\n",
    "is_irreducible(mc)"
   ]
  },
  {
   "cell_type": "markdown",
   "metadata": {},
   "source": [
    "```none\n",
    "true\n",
    "```\n"
   ]
  },
  {
   "cell_type": "code",
   "execution_count": null,
   "metadata": {},
   "outputs": [],
   "source": [
    "P = [1.0 0.0 0.0; 0.1 0.8 0.1; 0.0 0.2 0.8];\n",
    "mc = MarkovChain(P);\n",
    "is_irreducible(mc)"
   ]
  },
  {
   "cell_type": "markdown",
   "metadata": {},
   "source": [
    "```none\n",
    "false\n",
    "```\n"
   ]
  },
  {
   "cell_type": "code",
   "execution_count": null,
   "metadata": {},
   "outputs": [],
   "source": [
    "communication_classes(mc)"
   ]
  },
  {
   "cell_type": "markdown",
   "metadata": {},
   "source": [
    "```none\n",
    "2-element Array{Array{Int64,1},1}:\n",
    " [1]\n",
    " [2,3]\n",
    "```\n"
   ]
  },
  {
   "cell_type": "code",
   "execution_count": null,
   "metadata": {},
   "outputs": [],
   "source": [
    "P = [0 1 0; 0 0 1; 1 0 0];\n",
    "mc = MarkovChain(P);\n",
    "period(mc)"
   ]
  },
  {
   "cell_type": "markdown",
   "metadata": {},
   "source": [
    "```none\n",
    "3\n",
    "```\n"
   ]
  },
  {
   "cell_type": "code",
   "execution_count": null,
   "metadata": {},
   "outputs": [],
   "source": [
    "P = zeros(4, 4);\n",
    "P[1, 2] = 1;\n",
    "P[2, 1] = P[2, 3] = 0.5;\n",
    "P[3, 2] = P[3, 4] = 0.5;\n",
    "P[4, 3] = 1;\n",
    "mc = MarkovChain(P);\n",
    "period(mc)"
   ]
  },
  {
   "cell_type": "markdown",
   "metadata": {},
   "source": [
    "```none\n",
    "2\n",
    "```\n"
   ]
  },
  {
   "cell_type": "code",
   "execution_count": null,
   "metadata": {},
   "outputs": [],
   "source": [
    "is_aperiodic(mc)"
   ]
  },
  {
   "cell_type": "markdown",
   "metadata": {},
   "source": [
    "```none\n",
    "false\n",
    "```\n"
   ]
  },
  {
   "cell_type": "code",
   "execution_count": null,
   "metadata": {},
   "outputs": [],
   "source": [
    "P = [.4 .6; .2 .8];\n",
    "ψ = [0.25, 0.75];\n",
    "ψ' * P"
   ]
  },
  {
   "cell_type": "markdown",
   "metadata": {},
   "source": [
    "```none\n",
    "1×2 Array{Float64,2}:\n",
    " 0.25  0.75\n",
    "```\n"
   ]
  },
  {
   "cell_type": "code",
   "execution_count": null,
   "metadata": {},
   "outputs": [],
   "source": [
    "P = [.4 .6; .2 .8];\n",
    "mc = MarkovChain(P);\n",
    "stationary_distributions(mc)"
   ]
  },
  {
   "cell_type": "markdown",
   "metadata": {},
   "source": [
    "```none\n",
    "1-element Array{Array{Float64,1},1}:\n",
    " [0.25,0.75]\n",
    "```\n"
   ]
  },
  {
   "cell_type": "markdown",
   "metadata": {},
   "source": [
    "```none\n",
    "d -> h;\n",
    "```\n"
   ]
  },
  {
   "cell_type": "markdown",
   "metadata": {},
   "source": [
    "```jlcon\n",
    "matchall(r\"\\w\", \"x +++ y ****** z\")\n",
    "```\n"
   ]
  },
  {
   "cell_type": "markdown",
   "metadata": {},
   "source": [
    "```none\n",
    "3-element Array{SubString{String},1}:\n",
    " \"x\"\n",
    " \"y\"\n",
    " \"z\"\n",
    "```\n"
   ]
  },
  {
   "cell_type": "markdown",
   "metadata": {},
   "source": [
    "```jlcon\n",
    "matchall(r\"\\w\", \"a ^^ b &&& \\$\\$ c\")\n",
    "```\n"
   ]
  },
  {
   "cell_type": "markdown",
   "metadata": {},
   "source": [
    "```none\n",
    "3-element Array{SubString{String},1}:\n",
    " \"a\"\n",
    " \"b\"\n",
    " \"c\"\n",
    "```\n"
   ]
  },
  {
   "cell_type": "code",
   "execution_count": null,
   "metadata": {},
   "outputs": [],
   "source": [
    "using LaTeXStrings"
   ]
  },
  {
   "cell_type": "code",
   "execution_count": null,
   "metadata": {},
   "outputs": [],
   "source": [
    "α = β = 0.1\n",
    "N = 10000\n",
    "p = β / (α + β)\n",
    "\n",
    "P = [1 - α       α   # Careful: P and p are distinct\n",
    "         β   1 - β]\n",
    "\n",
    "mc = MarkovChain(P)"
   ]
  },
  {
   "cell_type": "markdown",
   "metadata": {},
   "source": [
    "```none\n",
    "Discrete Markov Chain\n",
    "stochastic matrix of type Array{Float64,2}:\n",
    "[0.9 0.1; 0.1 0.9]\n",
    "```\n"
   ]
  },
  {
   "cell_type": "code",
   "execution_count": null,
   "metadata": {},
   "outputs": [],
   "source": [
    "using Plots\n",
    "pyplot()\n",
    "\n",
    "labels = []\n",
    "y_vals = []\n",
    "\n",
    "for x0 = 1:2\n",
    "    # == Generate time series for worker that starts at x0 == #\n",
    "    X = simulate_indices(mc, N; init=x0)\n",
    "\n",
    "    # == Compute fraction of time spent unemployed, for each n == #\n",
    "    X_bar = cumsum(X.==1) ./ (collect(1:N))\n",
    "\n",
    "    l = LaTeXString(\"\\$X_0 = $x0\\$\")\n",
    "    push!(labels, l)\n",
    "    push!(y_vals, X_bar - p)\n",
    "end\n",
    "\n",
    "plot(y_vals, color=[:blue :green], fillrange=0, fillalpha=0.1,\n",
    "     ylims=(-0.25, 0.25), label=reshape(labels,1,length(labels)))"
   ]
  },
  {
   "cell_type": "code",
   "execution_count": null,
   "metadata": {},
   "outputs": [],
   "source": [
    "f = open(\"web_graph_data.txt\", \"w\")\n",
    "contents = \"\"\"a -> d;\n",
    "a -> f;\n",
    "b -> j;\n",
    "b -> k;\n",
    "b -> m;\n",
    "c -> c;\n",
    "c -> g;\n",
    "c -> j;\n",
    "c -> m;\n",
    "d -> f;\n",
    "d -> h;\n",
    "d -> k;\n",
    "e -> d;\n",
    "e -> h;\n",
    "e -> l;\n",
    "f -> a;\n",
    "f -> b;\n",
    "f -> j;\n",
    "f -> l;\n",
    "g -> b;\n",
    "g -> j;\n",
    "h -> d;\n",
    "h -> g;\n",
    "h -> l;\n",
    "h -> m;\n",
    "i -> g;\n",
    "i -> h;\n",
    "i -> n;\n",
    "j -> e;\n",
    "j -> i;\n",
    "j -> k;\n",
    "k -> n;\n",
    "l -> m;\n",
    "m -> g;\n",
    "n -> c;\n",
    "n -> j;\n",
    "n -> m;\n",
    "\"\"\"\n",
    "write(f, contents)\n",
    "close(f)"
   ]
  },
  {
   "cell_type": "code",
   "execution_count": null,
   "metadata": {},
   "outputs": [],
   "source": [
    "#=\n",
    "Return list of pages, ordered by rank\n",
    "=#\n",
    "\n",
    "infile = \"web_graph_data.txt\"\n",
    "alphabet = \"abcdefghijklmnopqrstuvwxyz\"\n",
    "\n",
    "n = 14 # Total number of web pages (nodes)\n",
    "\n",
    "# == Create a matrix Q indicating existence of links == #\n",
    "#  * Q[i, j] = 1 if there is a link from i to j\n",
    "#  * Q[i, j] = 0 otherwise\n",
    "Q = zeros(Int64, n, n)\n",
    "f = open(infile, \"r\")\n",
    "edges = readlines(f)\n",
    "close(f)\n",
    "for edge in edges\n",
    "    from_node, to_node = matchall(r\"\\w\", edge)\n",
    "    i = searchindex(alphabet, from_node)\n",
    "    j = searchindex(alphabet, to_node)\n",
    "    Q[i, j] = 1\n",
    "end\n",
    "\n",
    "# == Create the corresponding Markov matrix P == #\n",
    "P = Array{Float64}(n, n)\n",
    "for i=1:n\n",
    "    P[i, :] = Q[i, :] / sum(Q[i, :])\n",
    "end\n",
    "\n",
    "mc = MarkovChain(P)\n",
    "\n",
    "# == Compute the stationary distribution r == #\n",
    "r = stationary_distributions(mc)[1]\n",
    "ranked_pages = Dict(alphabet[i] => r[i] for i=1:n)\n",
    "\n",
    "# == Print solution, sorted from highest to lowest rank == #\n",
    "println(\"Rankings\\n ***\")\n",
    "sort_inds = reverse!(sortperm(collect(values(ranked_pages))))\n",
    "the_keys = collect(keys(ranked_pages))\n",
    "the_vals = collect(values(ranked_pages))\n",
    "for i in sort_inds\n",
    "    @printf(\"%s: %.4f\\n\", the_keys[i], the_vals[i])\n",
    "end"
   ]
  },
  {
   "cell_type": "markdown",
   "metadata": {},
   "source": [
    "```none\n",
    "Rankings\n",
    " ***\n",
    "g: 0.1607\n",
    "j: 0.1594\n",
    "m: 0.1195\n",
    "n: 0.1088\n",
    "k: 0.0911\n",
    "b: 0.0833\n",
    "i: 0.0531\n",
    "e: 0.0531\n",
    "c: 0.0483\n",
    "h: 0.0456\n",
    "l: 0.0320\n",
    "d: 0.0306\n",
    "f: 0.0116\n",
    "a: 0.0029\n",
    "```\n"
   ]
  }
 ],
 "metadata": {
  "kernelspec": {
   "display_name": "Julia 0.6.0",
   "language": "julia",
   "name": "julia-0.6"
  }
 },
 "nbformat": 4,
 "nbformat_minor": 2
}