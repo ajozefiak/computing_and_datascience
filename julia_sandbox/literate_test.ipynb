{
 "cells": [
  {
   "outputs": [],
   "cell_type": "markdown",
   "source": [
    "This is a markdown comment. We can use Markdown syntax, like calling this language `julia`, making stuff *italic* and **bold**, etc."
   ],
   "metadata": {}
  },
  {
   "outputs": [],
   "cell_type": "code",
   "source": [
    "# This is a Julia comment."
   ],
   "metadata": {},
   "execution_count": 1
  },
  {
   "outputs": [],
   "cell_type": "markdown",
   "source": [
    "This will only show up in Jupyter output."
   ],
   "metadata": {}
  },
  {
   "outputs": [],
   "cell_type": "markdown",
   "source": [
    "This is some stuff from another file in this repo."
   ],
   "metadata": {}
  },
  {
   "outputs": [
    {
     "name": "stdout",
     "output_type": "stream",
     "text": [
      "This Julia code should work no matter what."
     ]
    }
   ],
   "cell_type": "code",
   "source": [
    "type TestType\n",
    "    x::Any\n",
    "    y::Real\n",
    "    z::Integer\n",
    "end\n",
    "\n",
    "print(\"This Julia code should work no matter what.\")\n",
    "\n",
    "@assert 1 == 1"
   ],
   "metadata": {},
   "execution_count": 2
  },
  {
   "outputs": [],
   "cell_type": "markdown",
   "source": [
    "This is a test of pre-processing. The date is: 2018-06-25.#-\n",
    "*This notebook was generated using [Literate.jl](https://github.com/fredrikekre/Literate.jl).*"
   ],
   "metadata": {}
  }
 ],
 "nbformat_minor": 3,
 "metadata": {
  "language_info": {
   "file_extension": ".jl",
   "mimetype": "application/julia",
   "name": "julia",
   "version": "0.6.3"
  },
  "kernelspec": {
   "name": "julia-0.6",
   "display_name": "Julia 0.6.3",
   "language": "julia"
  }
 },
 "nbformat": 4
}
