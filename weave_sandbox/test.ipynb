{
 "cells": [
  {
   "cell_type": "markdown",
   "metadata": {},
   "source": [
    "This a sample [Julia](http://julialang.org/) markdown document that can\n",
    "be executed using [Weave.jl](https://github.com/mpastell/Weave.jl).\n",
    "\n",
    "The documents will be written to the Julia working directory when you\n",
    "use the `out_path = :pwd`.\n",
    "\n",
    "## Capturing code\n",
    "\n",
    "The basic code chunk will be run with default options and the code and\n",
    "output will be captured."
   ]
  },
  {
   "cell_type": "code",
   "execution_count": 2,
   "metadata": {},
   "outputs": [
    {
     "name": "stdout",
     "output_type": "stream",
     "text": [
      "a = 2\n"
     ]
    }
   ],
   "source": [
    "a = 2\n",
    "println(\"a = \",a)"
   ]
  },
  {
   "cell_type": "markdown",
   "metadata": {},
   "source": [
    "You can also control the way the results are captured, plot size etc.\n",
    "using chunk options. Here is an example of a chunk that behaves like a repl."
   ]
  },
  {
   "cell_type": "code",
   "execution_count": 3,
   "metadata": {},
   "outputs": [
    {
     "data": {
      "text/plain": [
       "3-element Array{Int64,1}:\n",
       " 2\n",
       " 4\n",
       " 8"
      ]
     },
     "execution_count": 3,
     "metadata": {},
     "output_type": "execute_result"
    }
   ],
   "source": [
    "x = 1:10\n",
    "d = Dict(\"Weave\" => \"testing\")\n",
    "y = [2, 4 ,8]"
   ]
  },
  {
   "cell_type": "markdown",
   "metadata": {},
   "source": [
    "## Math?\n",
    "More\n",
    "\n",
    "$$\n",
    "a = b\n",
    "$$"
   ]
  }
 ],
 "metadata": {
  "kernelspec": {
   "display_name": "Julia 0.6.1",
   "language": "julia",
   "name": "julia-0.6"
  },
  "language_info": {
   "file_extension": ".jl",
   "mimetype": "application/julia",
   "name": "julia",
   "version": "0.6.1"
  }
 },
 "nbformat": 4,
 "nbformat_minor": 2
}
