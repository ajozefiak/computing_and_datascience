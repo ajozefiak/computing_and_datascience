{
  "cells": [
    {
      "cell_type": "markdown",
      "source": [
        "This a sample [Julia](http://julialang.org/) markdown document that can\nbe executed using [Weave.jl](https://github.com/mpastell/Weave.jl).\n\nThe documents will be written to the Julia working directory when you\nuse the `out_path = :pwd`.\n\n## Capturing code\n\nThe basic code chunk will be run with default options and the code and\noutput will be captured."
      ],
      "metadata": {}
    },
    {
      "outputs": [],
      "cell_type": "code",
      "source": [
        "a = 2\nprintln(\"VARIABLE a = \",a)"
      ],
      "metadata": {},
      "execution_count": null
    },
    {
      "cell_type": "markdown",
      "source": [
        "You can also control the way the results are captured, plot size etc.\nusing chunk options. Here is an example of a chunk that behaves like a repl."
      ],
      "metadata": {}
    },
    {
      "outputs": [],
      "cell_type": "code",
      "source": [
        "x = 1:10\nd = Dict(\"Weave\" => \"testing\")\ny = [2, 4 ,8]"
      ],
      "metadata": {},
      "execution_count": null
    },
    {
      "cell_type": "markdown",
      "source": [
        "## Math?\nMore\n\n$$\na = b\n$$"
      ],
      "metadata": {}
    }
  ],
  "nbformat_minor": 2,
  "metadata": {
    "language_info": {
      "file_extension": ".jl",
      "mimetype": "application/julia",
      "name": "julia",
      "version": "0.5.0"
    },
    "kernelspec": {
      "name": "julia-0.5",
      "display_name": "Julia 0.5.0",
      "language": "julia"
    }
  },
  "nbformat": 4
}
