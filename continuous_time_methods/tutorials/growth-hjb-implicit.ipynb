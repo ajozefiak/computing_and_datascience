{
 "cells": [
  {
   "cell_type": "code",
   "execution_count": 1,
   "metadata": {},
   "outputs": [],
   "source": [
    "using LinearAlgebra, Parameters"
   ]
  },
  {
   "cell_type": "markdown",
   "metadata": {},
   "source": [
    "# Solving HJB for neoclassical growth models using implicit method\n",
    "\n",
    "Presented by Chiyoung Ahn (@chiyahn) -- based on Ben Moll's notes in http://www.princeton.edu/~moll/HACTproject/HACT_Additional_Codes.pdf and  http://www.princeton.edu/~moll/HACTproject/HJB_NGM_implicit.m\n"
   ]
  },
  {
   "cell_type": "markdown",
   "metadata": {},
   "source": [
    "# Setup"
   ]
  },
  {
   "cell_type": "markdown",
   "metadata": {},
   "source": [
    "## Production function"
   ]
  },
  {
   "cell_type": "code",
   "execution_count": 2,
   "metadata": {},
   "outputs": [],
   "source": [
    "A_productivity = 1.0\n",
    "α = 0.3 \n",
    "F(k) = A_productivity*k^α;"
   ]
  },
  {
   "cell_type": "markdown",
   "metadata": {},
   "source": [
    "## Utility function"
   ]
  },
  {
   "cell_type": "code",
   "execution_count": 3,
   "metadata": {},
   "outputs": [
    {
     "data": {
      "text/plain": [
       "u_prime (generic function with 1 method)"
      ]
     },
     "execution_count": 3,
     "metadata": {},
     "output_type": "execute_result"
    }
   ],
   "source": [
    "γ = 2.0\n",
    "u(c) = c^(1-γ)/(1-γ) \n",
    "u_prime(c) = c^(-γ)"
   ]
  },
  {
   "cell_type": "markdown",
   "metadata": {},
   "source": [
    "## Consumption function by inverse"
   ]
  },
  {
   "cell_type": "code",
   "execution_count": 4,
   "metadata": {},
   "outputs": [],
   "source": [
    "c(v_prime) = v_prime^(-1/γ); # consumption by derivative of value function at certain k"
   ]
  },
  {
   "cell_type": "markdown",
   "metadata": {},
   "source": [
    "## Parameters and grids"
   ]
  },
  {
   "cell_type": "code",
   "execution_count": 5,
   "metadata": {},
   "outputs": [
    {
     "data": {
      "text/plain": [
       "(ρ = 0.05, δ = 0.05, γ = 2.0, F = F, u = u, u_prime = u_prime, c = c)"
      ]
     },
     "execution_count": 5,
     "metadata": {},
     "output_type": "execute_result"
    }
   ],
   "source": [
    "# ρ: utility discount rate\n",
    "# δ: capital discount rate\n",
    "# γ: CRRA parameter\n",
    "# F: production function that maps k to a real number\n",
    "# u: utility function that maps c to a real number\n",
    "# u_prime: derivative of utility function that maps c to a real number\n",
    "# c: consumption function that maps v_prime (derivative of v at certain k) to a real number\n",
    "params = (ρ = 0.05, δ = 0.05, γ = γ, F = F, u = u, u_prime = u_prime, c = c)"
   ]
  },
  {
   "cell_type": "code",
   "execution_count": 6,
   "metadata": {},
   "outputs": [
    {
     "data": {
      "text/plain": [
       "(ks = 0.0048039866566730914:0.0970017103706011:9.607973313346182, maxit = 1000, verbose = false)"
      ]
     },
     "execution_count": 6,
     "metadata": {},
     "output_type": "execute_result"
    }
   ],
   "source": [
    "# ks: grids for states (k) -- assume uniform grids\n",
    "# maxit: maximum number of iterations\n",
    "# verbose: boolean that ables/disables a verbose option\n",
    "k_ss = (α*A_productivity/(params.ρ+params.δ))^(1/(1-α))\n",
    "settings = (ks = range(0.001*k_ss, stop = 2*k_ss, length = 100),\n",
    "            maxit = 1000, verbose = false)"
   ]
  },
  {
   "cell_type": "markdown",
   "metadata": {},
   "source": [
    "# Solve"
   ]
  },
  {
   "cell_type": "code",
   "execution_count": 7,
   "metadata": {},
   "outputs": [],
   "source": [
    "@unpack ρ, δ, γ, F, u, u_prime, c = params\n",
    "@unpack ks, maxit, verbose = settings\n",
    "\n",
    "P = length(ks)\n",
    "Δ = ks[2] - ks[1] # assume uniform grids\n",
    "\n",
    "vs = (A_productivity .* settings.ks .^ α) .^ (1-params.γ) / (1-params.γ) / params.ρ; # initial guess\n",
    "# begin iterations\n",
    "for n in 1:maxit\n",
    "    dv = diff(vs) ./ Δ\n",
    "    dv_f = [dv; NaN] # forward difference\n",
    "    dv_b = [NaN; dv] # backward difference\n",
    "    dv_0 = u_prime.(F.(ks) - δ.*ks)\n",
    "    \n",
    "    # define the corresponding drifts\n",
    "    drift_f = F.(ks) - δ.*ks - c.(dv_f)\n",
    "    drift_b = F.(ks) - δ.*ks - c.(dv_b)\n",
    "\n",
    "    # steady states at boundary\n",
    "    drift_f[end] = 0.0\n",
    "    drift_b[1] = 0.0\n",
    "    \n",
    "    # compute consumptions and corresponding u(v)\n",
    "    I_f = drift_f .> 0.0\n",
    "    I_b = drift_b .< 0.0\n",
    "    I_0 = 1 .- I_f-I_b\n",
    "    \n",
    "    dv_upwind = dv_f.*I_f + dv_b.*I_b + dv_0.*I_0;\n",
    "    us = u.(c.(dv_upwind))\n",
    "\n",
    "    # define the matrix A\n",
    "    drift_f_upwind = max.(drift_f, 0.0) ./ Δ\n",
    "    drift_b_upwind = min.(drift_b, 0.0) ./ Δ\n",
    "    A = LinearAlgebra.Tridiagonal(-drift_b_upwind[2:P], \n",
    "            (-drift_f_upwind + drift_b_upwind), \n",
    "            drift_f_upwind[1:(P-1)]) \n",
    "    \n",
    "    vs_new = (Diagonal(fill((ρ + 1/Δ), P)) - A) \\ (us + vs ./ Δ)\n",
    "    if (verbose)\n",
    "        @show maximum(abs.(vs - vs_new))    \n",
    "    end\n",
    "    vs = vs_new\n",
    "end"
   ]
  }
 ],
 "metadata": {
  "kernelspec": {
   "display_name": "Julia 1.0.0",
   "language": "julia",
   "name": "julia-1.0"
  },
  "language_info": {
   "file_extension": ".jl",
   "mimetype": "application/julia",
   "name": "julia",
   "version": "1.0.0"
  }
 },
 "nbformat": 4,
 "nbformat_minor": 2
}
