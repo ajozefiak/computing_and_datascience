{
 "cells": [
  {
   "cell_type": "code",
   "execution_count": 1,
   "metadata": {},
   "outputs": [],
   "source": [
    "using LinearAlgebra, Parameters"
   ]
  },
  {
   "cell_type": "markdown",
   "metadata": {},
   "source": [
    "# Solving HJB for neoclassical growth models using implicit method\n",
    "\n",
    "Presented by Chiyoung Ahn (@chiyahn) -- based on Ben Moll's notes in http://www.princeton.edu/~moll/HACTproject/HACT_Additional_Codes.pdf and  http://www.princeton.edu/~moll/HACTproject/HJB_NGM_implicit.m\n"
   ]
  },
  {
   "cell_type": "markdown",
   "metadata": {},
   "source": [
    "# Setup"
   ]
  },
  {
   "cell_type": "markdown",
   "metadata": {},
   "source": [
    "## Production function"
   ]
  },
  {
   "cell_type": "code",
   "execution_count": 2,
   "metadata": {},
   "outputs": [],
   "source": [
    "A_productivity = 1.0\n",
    "α = 0.3 \n",
    "F(k) = A_productivity*k^α;"
   ]
  },
  {
   "cell_type": "markdown",
   "metadata": {},
   "source": [
    "## Utility function"
   ]
  },
  {
   "cell_type": "code",
   "execution_count": 3,
   "metadata": {},
   "outputs": [
    {
     "data": {
      "text/plain": [
       "u_prime (generic function with 1 method)"
      ]
     },
     "execution_count": 3,
     "metadata": {},
     "output_type": "execute_result"
    }
   ],
   "source": [
    "γ = 2.0\n",
    "u(c) = c^(1-γ)/(1-γ) \n",
    "u_prime(c) = c^(-γ)"
   ]
  },
  {
   "cell_type": "markdown",
   "metadata": {},
   "source": [
    "## Consumption function by inverse"
   ]
  },
  {
   "cell_type": "code",
   "execution_count": 4,
   "metadata": {},
   "outputs": [],
   "source": [
    "c(v_prime) = v_prime^(-1/γ); # consumption by derivative of value function at certain k"
   ]
  },
  {
   "cell_type": "markdown",
   "metadata": {},
   "source": [
    "## Parameters and grids"
   ]
  },
  {
   "cell_type": "code",
   "execution_count": 5,
   "metadata": {},
   "outputs": [
    {
     "data": {
      "text/plain": [
       "(ks = 0.0048039866566730914:0.0009604129739663476:9.607973313346182, maxit = 100)"
      ]
     },
     "execution_count": 5,
     "metadata": {},
     "output_type": "execute_result"
    }
   ],
   "source": [
    "# ρ: utility discount rate\n",
    "# δ: capital discount rate\n",
    "# γ: CRRA parameter\n",
    "# F: production function that maps k to a real number\n",
    "# u: utility function that maps c to a real number\n",
    "# u_prime: derivative of utility function that maps c to a real number\n",
    "# c: consumption function that maps v_prime (derivative of v at certain k) to a real number\n",
    "params = (ρ = 0.05, δ = 0.05, γ = γ, F = F, u = u, u_prime = u_prime, c = c)\n",
    "\n",
    "# ks: grids for states (k) -- assume uniform grids\n",
    "# maxit: maximum number of iterations\n",
    "k_ss = (α*A_productivity/(params.ρ+params.δ))^(1/(1-α))\n",
    "settings = (ks = range(0.001*k_ss, stop = 2*k_ss, length = 10000),\n",
    "            maxit = 100)"
   ]
  },
  {
   "cell_type": "markdown",
   "metadata": {},
   "source": [
    "# Solve"
   ]
  },
  {
   "cell_type": "code",
   "execution_count": 7,
   "metadata": {},
   "outputs": [
    {
     "name": "stdout",
     "output_type": "stream",
     "text": [
      "maximum(abs.(v - v_new)) = 0.8988941724921489\n",
      "maximum(abs.(v - v_new)) = 0.8736260133753291\n",
      "maximum(abs.(v - v_new)) = 0.8493901328830731\n",
      "maximum(abs.(v - v_new)) = 0.8261346350700194\n",
      "maximum(abs.(v - v_new)) = 0.8038105994681359\n",
      "maximum(abs.(v - v_new)) = 0.782371894799482\n",
      "maximum(abs.(v - v_new)) = 0.761775005058908\n",
      "maximum(abs.(v - v_new)) = 0.741978867114554\n",
      "maximum(abs.(v - v_new)) = 0.7229447190345724\n",
      "maximum(abs.(v - v_new)) = 0.7046359584027044\n",
      "maximum(abs.(v - v_new)) = 0.6870180099383134\n",
      "maximum(abs.(v - v_new)) = 0.6700582017830641\n",
      "maximum(abs.(v - v_new)) = 0.6537256498623236\n",
      "maximum(abs.(v - v_new)) = 0.6379911497695758\n",
      "maximum(abs.(v - v_new)) = 0.6228270756619878\n",
      "maximum(abs.(v - v_new)) = 0.6082072856899572\n",
      "maximum(abs.(v - v_new)) = 0.5941070335180001\n",
      "maximum(abs.(v - v_new)) = 0.5805028855237424\n",
      "maximum(abs.(v - v_new)) = 0.5673726432923871\n",
      "maximum(abs.(v - v_new)) = 0.5546952710492832\n",
      "maximum(abs.(v - v_new)) = 0.5424508276988149\n",
      "maximum(abs.(v - v_new)) = 0.5306204031609951\n",
      "maximum(abs.(v - v_new)) = 0.5191860587180912\n",
      "maximum(abs.(v - v_new)) = 0.508130771104021\n",
      "maximum(abs.(v - v_new)) = 0.4974383800876012\n",
      "maximum(abs.(v - v_new)) = 0.4870935393180531\n",
      "maximum(abs.(v - v_new)) = 0.477081670217089\n",
      "maximum(abs.(v - v_new)) = 0.46738891871646615\n",
      "maximum(abs.(v - v_new)) = 0.45800211465468976\n",
      "maximum(abs.(v - v_new)) = 0.4489087336580724\n",
      "maximum(abs.(v - v_new)) = 0.4400968613442444\n",
      "maximum(abs.(v - v_new)) = 0.431555159697254\n",
      "maximum(abs.(v - v_new)) = 0.42327283547257366\n",
      "maximum(abs.(v - v_new)) = 0.4152396105021552\n",
      "maximum(abs.(v - v_new)) = 0.40744569377595496\n",
      "maximum(abs.(v - v_new)) = 0.39988175518651303\n",
      "maximum(abs.(v - v_new)) = 0.39253890083027443\n",
      "maximum(abs.(v - v_new)) = 0.3854086497663758\n",
      "maximum(abs.(v - v_new)) = 0.3784829121404698\n",
      "maximum(abs.(v - v_new)) = 0.37175396858701504\n",
      "maximum(abs.(v - v_new)) = 0.36521445083005233\n",
      "maximum(abs.(v - v_new)) = 0.3588573234067809\n",
      "maximum(abs.(v - v_new)) = 0.3526758664441161\n",
      "maximum(abs.(v - v_new)) = 0.34666365942237576\n",
      "maximum(abs.(v - v_new)) = 0.34081456586518755\n",
      "maximum(abs.(v - v_new)) = 0.33512271889837564\n",
      "maximum(abs.(v - v_new)) = 0.3295825076242096\n",
      "maximum(abs.(v - v_new)) = 0.324188564261533\n",
      "maximum(abs.(v - v_new)) = 0.3189357520043501\n",
      "maximum(abs.(v - v_new)) = 0.31381915355611056\n",
      "maximum(abs.(v - v_new)) = 0.3088340602982669\n",
      "maximum(abs.(v - v_new)) = 0.3039759620550342\n",
      "maximum(abs.(v - v_new)) = 0.2992405374187399\n",
      "maximum(abs.(v - v_new)) = 0.2946236446022823\n",
      "maximum(abs.(v - v_new)) = 0.2901213127873348\n",
      "maximum(abs.(v - v_new)) = 0.28572973393900725\n",
      "maximum(abs.(v - v_new)) = 0.28144525505942397\n",
      "maximum(abs.(v - v_new)) = 0.2772643708547946\n",
      "maximum(abs.(v - v_new)) = 0.27318371679125164\n",
      "maximum(abs.(v - v_new)) = 0.26920006251756945\n",
      "maximum(abs.(v - v_new)) = 0.2653103056331645\n",
      "maximum(abs.(v - v_new)) = 0.2615114657814672\n",
      "maximum(abs.(v - v_new)) = 0.25780067905016324\n",
      "maximum(abs.(v - v_new)) = 0.2541751926608953\n",
      "maximum(abs.(v - v_new)) = 0.2506323599316147\n",
      "maximum(abs.(v - v_new)) = 0.2471696354968742\n",
      "maximum(abs.(v - v_new)) = 0.24378457077071403\n",
      "maximum(abs.(v - v_new)) = 0.2404748096391245\n",
      "maximum(abs.(v - v_new)) = 0.23723808436930938\n",
      "maximum(abs.(v - v_new)) = 0.2340722117233156\n",
      "maximum(abs.(v - v_new)) = 0.23097508926535681\n",
      "maximum(abs.(v - v_new)) = 0.2279446918514907\n",
      "maximum(abs.(v - v_new)) = 0.22497906829237024\n",
      "maximum(abs.(v - v_new)) = 0.22207633817927785\n",
      "maximum(abs.(v - v_new)) = 0.21923468886450337\n",
      "maximum(abs.(v - v_new)) = 0.21645237258816508\n",
      "maximum(abs.(v - v_new)) = 0.2137277037433023\n",
      "maximum(abs.(v - v_new)) = 0.21105905627196364\n",
      "maximum(abs.(v - v_new)) = 0.20844486118528494\n",
      "maximum(abs.(v - v_new)) = 0.2058836042011336\n",
      "maximum(abs.(v - v_new)) = 0.20337382349305244\n",
      "maximum(abs.(v - v_new)) = 0.20091410754469052\n",
      "maximum(abs.(v - v_new)) = 0.19850309310416492\n",
      "maximum(abs.(v - v_new)) = 0.1961394632334219\n",
      "maximum(abs.(v - v_new)) = 0.19382194544732556\n",
      "maximum(abs.(v - v_new)) = 0.19154930993832409\n",
      "maximum(abs.(v - v_new)) = 0.18932036788175566\n",
      "maximum(abs.(v - v_new)) = 0.18713396981844\n",
      "maximum(abs.(v - v_new)) = 0.18498900410983765\n",
      "maximum(abs.(v - v_new)) = 0.1828843954627999\n",
      "maximum(abs.(v - v_new)) = 0.18081910352011477\n",
      "maximum(abs.(v - v_new)) = 0.17879212151343182\n",
      "maximum(abs.(v - v_new)) = 0.176802474975986\n",
      "maximum(abs.(v - v_new)) = 0.1748492205115113\n",
      "maximum(abs.(v - v_new)) = 0.17293144461721965\n",
      "maximum(abs.(v - v_new)) = 0.1710482625576475\n",
      "maximum(abs.(v - v_new)) = 0.16919881728739483\n",
      "maximum(abs.(v - v_new)) = 0.1673822784200638\n",
      "maximum(abs.(v - v_new)) = 0.16559784124121535\n",
      "maximum(abs.(v - v_new)) = 0.16384472576345388\n"
     ]
    }
   ],
   "source": [
    "@unpack ρ, δ, γ, F, u, u_prime, c = params\n",
    "@unpack ks, maxit = settings\n",
    "\n",
    "v = (A_productivity .* settings.ks .^ α) .^ (1-params.γ) / (1-params.γ) / params.ρ; # initial guess\n",
    "\n",
    "P = length(ks)\n",
    "Δ = ks[2] - ks[1] # assume uniform grids\n",
    "\n",
    "# begin iterations\n",
    "for n in 1:maxit\n",
    "    dv = diff(v) ./ Δ\n",
    "    dv_f = [dv; NaN] # forward difference\n",
    "    dv_b = [NaN; dv] # backward difference\n",
    "    dv_0 = u_prime.(F.(ks) - δ.*ks)\n",
    "    \n",
    "    # define the corresponding drifts\n",
    "    drift_f = F.(ks) - δ.*ks - c.(dv_f)\n",
    "    drift_b = F.(ks) - δ.*ks - c.(dv_b)\n",
    "\n",
    "    # steady states at boundary\n",
    "    drift_f[end] = 0.0\n",
    "    drift_b[1] = 0.0\n",
    "    \n",
    "    # compute consumptions and corresponding u(v)\n",
    "    I_f = drift_f .> 0.0\n",
    "    I_b = drift_b .< 0.0\n",
    "    I_0 = 1 .- I_f-I_b\n",
    "    \n",
    "    dv_upwind = dv_f.*I_f + dv_b.*I_b + dv_0.*I_0;\n",
    "    us = u.(c.(dv_upwind))\n",
    "\n",
    "    # define the matrix A\n",
    "    drift_f_upwind = max.(drift_f, 0.0) ./ Δ\n",
    "    drift_b_upwind = min.(drift_b, 0.0) ./ Δ\n",
    "    A = LinearAlgebra.Tridiagonal(-drift_b_upwind[2:P], \n",
    "            (-drift_f_upwind + drift_b_upwind), \n",
    "            drift_f_upwind[1:(P-1)]) \n",
    "    \n",
    "    v_new = (Diagonal(fill((ρ + 1/Δ), P)) - A) \\ (us + v ./ Δ)\n",
    "    @show maximum(abs.(v - v_new))    \n",
    "    v = v_new\n",
    "end"
   ]
  }
 ],
 "metadata": {
  "kernelspec": {
   "display_name": "Julia 1.0.0",
   "language": "julia",
   "name": "julia-1.0"
  },
  "language_info": {
   "file_extension": ".jl",
   "mimetype": "application/julia",
   "name": "julia",
   "version": "1.0.0"
  }
 },
 "nbformat": 4,
 "nbformat_minor": 2
}
