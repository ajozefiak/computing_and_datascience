{
 "cells": [
  {
   "cell_type": "code",
   "execution_count": 1,
   "metadata": {},
   "outputs": [],
   "source": [
    "using LinearAlgebra, Parameters, Plots, BenchmarkTools\n",
    "gr(fmt = :png); # save plots in .png"
   ]
  },
  {
   "cell_type": "markdown",
   "metadata": {},
   "source": [
    "# Solving HJB for neoclassical growth models using implicit method\n",
    "\n",
    "Presented by Chiyoung Ahn (@chiyahn) -- based on Ben Moll's notes in http://www.princeton.edu/~moll/HACTproject/HACT_Additional_Codes.pdf and  http://www.princeton.edu/~moll/HACTproject/HJB_NGM_implicit.m\n"
   ]
  },
  {
   "cell_type": "markdown",
   "metadata": {},
   "source": [
    "# Setup"
   ]
  },
  {
   "cell_type": "markdown",
   "metadata": {},
   "source": [
    "## Production function"
   ]
  },
  {
   "cell_type": "code",
   "execution_count": 2,
   "metadata": {},
   "outputs": [],
   "source": [
    "A_productivity = 1.0\n",
    "α = 0.3 \n",
    "F(k) = A_productivity*k^α;"
   ]
  },
  {
   "cell_type": "markdown",
   "metadata": {},
   "source": [
    "## Utility function"
   ]
  },
  {
   "cell_type": "code",
   "execution_count": 3,
   "metadata": {},
   "outputs": [
    {
     "data": {
      "text/plain": [
       "u_prime (generic function with 1 method)"
      ]
     },
     "execution_count": 3,
     "metadata": {},
     "output_type": "execute_result"
    }
   ],
   "source": [
    "γ = 2.0\n",
    "u(c) = c^(1-γ)/(1-γ) # payoff function by control variable (consumption)\n",
    "u_prime(c) = c^(-γ) # derivative of payoff function by control variable (consumption)"
   ]
  },
  {
   "cell_type": "markdown",
   "metadata": {},
   "source": [
    "## Law of motion"
   ]
  },
  {
   "cell_type": "code",
   "execution_count": 4,
   "metadata": {},
   "outputs": [],
   "source": [
    "δ = 0.05\n",
    "f(k, c) = F(k) - δ*k - c; # law of motion for state variable (saving)"
   ]
  },
  {
   "cell_type": "markdown",
   "metadata": {},
   "source": [
    "## Consumption function by inverse"
   ]
  },
  {
   "cell_type": "code",
   "execution_count": 5,
   "metadata": {},
   "outputs": [],
   "source": [
    "c(v_prime) = v_prime^(-1/γ); # consumption by derivative of value function at certain k"
   ]
  },
  {
   "cell_type": "markdown",
   "metadata": {},
   "source": [
    "## Parameters and grids"
   ]
  },
  {
   "cell_type": "code",
   "execution_count": 6,
   "metadata": {},
   "outputs": [
    {
     "data": {
      "text/plain": [
       "(ρ = 0.05, δ = 0.05, γ = 2.0, F = F, u = u, u_prime = u_prime, f = f, c = c)"
      ]
     },
     "execution_count": 6,
     "metadata": {},
     "output_type": "execute_result"
    }
   ],
   "source": [
    "# ρ: utility discount rate\n",
    "# δ: capital discount rate\n",
    "# γ: CRRA parameter\n",
    "# F: production function that maps k to a real number\n",
    "# u: utility function that maps c to a real number\n",
    "# u_prime: derivative of utility function that maps c to a real number\n",
    "# f: law of motion function that maps k (state), c (control) to the derivative of k\n",
    "# c: consumption function that maps v_prime (derivative of v at certain k) to a real number\n",
    "params = (ρ = 0.05, δ = δ, γ = γ, F = F, u = u, u_prime = u_prime, f = f, c = c)"
   ]
  },
  {
   "cell_type": "code",
   "execution_count": 7,
   "metadata": {
    "scrolled": true
   },
   "outputs": [
    {
     "data": {
      "text/plain": [
       "(ks = 0.0048039866566730914:0.0009604129739663476:9.607973313346182, Δv = 1000, vs0 = [-99.2086, -93.9299, -89.6863, -86.1654, -83.1746, -80.5873, -78.3161, -76.2986, -74.4886, -72.851  …  -10.1475, -10.1472, -10.1469, -10.1466, -10.1463, -10.1459, -10.1456, -10.1453, -10.145, -10.1447], maxit = 100, threshold = 1.0e-8, verbose = false)"
      ]
     },
     "execution_count": 7,
     "metadata": {},
     "output_type": "execute_result"
    }
   ],
   "source": [
    "# ks: grids for states (k) -- assume uniform grids\n",
    "# Δv: step size for iteration on v\n",
    "# vs0: initial guess for vs\n",
    "# maxit: maximum number of iterations\n",
    "# threshold: threshold to be used for termination condition (maximum(abs.(vs-vs_new)) < threshold)\n",
    "# verbose: boolean that ables/disables a verbose option\n",
    "k_ss = (α*A_productivity/(params.ρ+params.δ))^(1/(1-α))\n",
    "ks = range(0.001*k_ss, stop = 2*k_ss, length = 10000)\n",
    "settings = (ks = ks,\n",
    "            Δv = 1000, \n",
    "            vs0 = (A_productivity .* ks .^ α) .^ (1-params.γ) / (1-params.γ) / params.ρ,\n",
    "            maxit = 100, threshold = 1e-8, verbose = false)"
   ]
  },
  {
   "cell_type": "markdown",
   "metadata": {},
   "source": [
    "# Solve"
   ]
  },
  {
   "cell_type": "code",
   "execution_count": 8,
   "metadata": {},
   "outputs": [
    {
     "data": {
      "text/plain": [
       "compute_optimal_plans (generic function with 1 method)"
      ]
     },
     "execution_count": 8,
     "metadata": {},
     "output_type": "execute_result"
    }
   ],
   "source": [
    "function compute_optimal_plans(params, settings)\n",
    "    @unpack ρ, δ, γ, F, u, u_prime, f, c = params\n",
    "    @unpack ks, Δv, vs0, maxit, threshold, verbose = settings\n",
    "\n",
    "    P = length(ks) # size of grids\n",
    "    Δk = ks[2] - ks[1] # assume uniform grids\n",
    "\n",
    "    # initial guess\n",
    "    vs = vs0; \n",
    "    # save control (consumption) plan as well\n",
    "    cs = zeros(P) \n",
    "\n",
    "    # begin iterations\n",
    "    for n in 1:maxit\n",
    "        # compute derivatives by FD and BD\n",
    "        dv = diff(vs) ./ Δk\n",
    "        dv_f = [dv; NaN] # forward difference\n",
    "        dv_b = [NaN; dv] # backward difference\n",
    "        dv_0 = u_prime.(f.(ks, fill(0.0, P)))\n",
    "\n",
    "        # define the corresponding drifts\n",
    "        drift_f = f.(ks, c.(dv_f)) \n",
    "        drift_b = f.(ks, c.(dv_b))\n",
    "\n",
    "        # steady states at boundary\n",
    "        drift_f[end] = 0.0\n",
    "        drift_b[1] = 0.0\n",
    "\n",
    "        # compute consumptions and corresponding u(v)\n",
    "        I_f = drift_f .> 0.0\n",
    "        I_b = drift_b .< 0.0\n",
    "        I_0 = 1 .- I_f-I_b\n",
    "\n",
    "        dv_upwind = dv_f.*I_f + dv_b.*I_b + dv_0.*I_0;\n",
    "        cs = c.(dv_upwind)\n",
    "        us = u.(cs)\n",
    "\n",
    "        # define the matrix A\n",
    "        drift_f_upwind = max.(drift_f, 0.0) ./ Δk\n",
    "        drift_b_upwind = min.(drift_b, 0.0) ./ Δk\n",
    "        A = LinearAlgebra.Tridiagonal(-drift_b_upwind[2:P], \n",
    "                (-drift_f_upwind + drift_b_upwind), \n",
    "                drift_f_upwind[1:(P-1)]) \n",
    "\n",
    "        # solve the corresponding system to get vs_{n+1}\n",
    "        vs_new = (Diagonal(fill((ρ + 1/Δv), P)) - A) \\ (us + vs ./ Δv)\n",
    "\n",
    "        # show distance between vs_{n+1} and vs_n if verbose option is one\n",
    "        if (verbose) @show maximum(abs.(vs - vs_new)) end\n",
    "        \n",
    "        # check termination condition with threshold\n",
    "        if (maximum(abs.(vs-vs_new)) < threshold)\n",
    "            if (verbose) println(\"Value function converged -- total number of iterations: $n\") end\n",
    "            return (vs = vs, cs = cs)\n",
    "        end\n",
    "        \n",
    "        # update vs_{n+1}\n",
    "        vs = vs_new\n",
    "    end\n",
    "    return (vs = vs, cs = cs) \n",
    "end"
   ]
  },
  {
   "cell_type": "code",
   "execution_count": 9,
   "metadata": {},
   "outputs": [
    {
     "name": "stdout",
     "output_type": "stream",
     "text": [
      "  99.992 ms (3821380 allocations: 82.31 MiB)\n"
     ]
    },
    {
     "data": {
      "text/plain": [
       "(vs = [-24.2392, -24.1564, -24.0827, -24.0161, -23.9549, -23.8982, -23.8452, -23.7955, -23.7485, -23.7038  …  -12.8475, -12.8472, -12.8469, -12.8466, -12.8464, -12.8461, -12.8458, -12.8456, -12.8453, -12.845], cs = [0.107707, 0.114193, 0.120002, 0.125288, 0.130158, 0.134687, 0.13893, 0.142929, 0.146717, 0.150321  …  1.87668, 1.87677, 1.87686, 1.87695, 1.87704, 1.87713, 1.87722, 1.87731, 1.8774, 1.87749])"
      ]
     },
     "execution_count": 9,
     "metadata": {},
     "output_type": "execute_result"
    }
   ],
   "source": [
    "vs, cs = @btime compute_optimal_plans(params, settings)"
   ]
  },
  {
   "cell_type": "markdown",
   "metadata": {},
   "source": [
    "# Plots"
   ]
  },
  {
   "cell_type": "code",
   "execution_count": null,
   "metadata": {},
   "outputs": [],
   "source": [
    "plot(ks, vs,\n",
    "    linewidth = 3,\n",
    "    title=\"Value function v(k)\",xaxis=\"k\",yaxis=\"v(k)\",legend=false)"
   ]
  },
  {
   "cell_type": "code",
   "execution_count": null,
   "metadata": {},
   "outputs": [],
   "source": [
    "plot(ks, cs,\n",
    "    lw = 3,\n",
    "    title=\"Optimal consumption plan c(k)\",xaxis=\"k\",yaxis=\"c(k)\",legend=false)"
   ]
  },
  {
   "cell_type": "code",
   "execution_count": null,
   "metadata": {
    "scrolled": true
   },
   "outputs": [],
   "source": [
    "savings = f.(ks, cs) # Savings (states) according to optimal consumption plan\n",
    "plot(ks, savings,\n",
    "    linewidth = 3,\n",
    "    title=\"Optimal saving plan s(k)\",xaxis=\"k\",yaxis=\"s(k)\",legend=false)\n",
    "plot!([.0], st = :hline, linestyle = :dot, lw = 3) # zero saving line"
   ]
  }
 ],
 "metadata": {
  "kernelspec": {
   "display_name": "Julia 1.0.0",
   "language": "julia",
   "name": "julia-1.0"
  },
  "language_info": {
   "file_extension": ".jl",
   "mimetype": "application/julia",
   "name": "julia",
   "version": "1.0.0"
  }
 },
 "nbformat": 4,
 "nbformat_minor": 2
}
