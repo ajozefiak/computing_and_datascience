{
 "cells": [
  {
   "cell_type": "markdown",
   "metadata": {},
   "source": [
    "## Overview\n",
    "\n",
    "The goal of this notebook is to illustrate and compare different LCP solutions to Ben Moll's [vanilla example](http://www.princeton.edu/~moll/HACTproject/option_simple.pdf).\n",
    "\n",
    "Here is a summary of the methods tried and relevant information.\n",
    "\n",
    "| Method | Successful? | Time | \n",
    "|--------|----------|--------|\n",
    "| `PATHSolver.jl` | Yes | 4e-6 seconds (`1e-12` tolerance, second run) |\n",
    "| `Complementarity.jl` | No (JuMP) | N/A (Note: Calls to `PATHSolver` for solution) | \n",
    "| `NLsolve.jl` | Yes | 60e-6 seconds (`ftol = 1e-12`, second run) | \n",
    "| `VariationalInequality.jl` | No (JuMP) | N/A | \n",
    "| `JuMP` + Ipopt | Yes | 55e-6 seconds | "
   ]
  },
  {
   "cell_type": "markdown",
   "metadata": {},
   "source": [
    "#### Setup\n",
    "\n",
    "Let's pull parameters from the [MATLAB code](https://github.com/econtoolkit/continuous_time_methods/blob/master/matlab/tests/simple_optimal_stopping_diffusion_test.m)."
   ]
  },
  {
   "cell_type": "code",
   "execution_count": 1,
   "metadata": {},
   "outputs": [
    {
     "data": {
      "text/plain": [
       "#3 (generic function with 2 methods)"
      ]
     },
     "execution_count": 1,
     "metadata": {},
     "output_type": "execute_result"
    }
   ],
   "source": [
    "using Parameters, LinearAlgebra\n",
    "\n",
    "StoppingProblem = @with_kw (μ_bar = -0.01, \n",
    "                            σ_bar = 0.01, \n",
    "                            S_bar = 10.0, \n",
    "                            γ = 0.5, # u(x) = x^γ\n",
    "                            ρ = 0.05, # discount rate\n",
    "                            x_min = 0.01,\n",
    "                            x_max = 1.0,\n",
    "                            M = 300) # num of grid points "
   ]
  },
  {
   "cell_type": "markdown",
   "metadata": {},
   "source": [
    "Let's also copy the discretization method from [PTW](https://github.com/jlperla/PerlaTonettiWaugh.jl/commits/master/src/utils/diffusionoperators.jl). This is for a reflecting barrier at each boundary."
   ]
  },
  {
   "cell_type": "code",
   "execution_count": 2,
   "metadata": {},
   "outputs": [
    {
     "data": {
      "text/plain": [
       "diffusionoperators (generic function with 1 method)"
      ]
     },
     "execution_count": 2,
     "metadata": {},
     "output_type": "execute_result"
    }
   ],
   "source": [
    "# Diffusion operators with regular grids\n",
    "function diffusionoperators(x::AbstractRange; ξ = 0.0) # ξ = 0.0 corresponds to the unrescaled case from PTW\n",
    "    Δ = step(x)\n",
    "    P = length(x)\n",
    "\n",
    "    dl_1 = zeros(P-1)\n",
    "    d_1 = -ones(P)\n",
    "    du_1 = ones(P-1)\n",
    "    d_1[end] = d_1[end] + du_1[end] * (1-ξ*Δ)\n",
    "    L_1_plus = Tridiagonal(dl_1, d_1, du_1)/Δ\n",
    "\n",
    "    dl_m1 = -ones(P-1)\n",
    "    d_m1 = ones(P)\n",
    "    du_m1 = zeros(P-1)\n",
    "    d_m1[1] = d_m1[1] + dl_m1[1] * (1+ξ*Δ)\n",
    "    L_1_minus = Tridiagonal(dl_m1, d_m1, du_m1)/Δ\n",
    "\n",
    "    dl_2 = ones(P-1)\n",
    "    d_2 = -2 * ones(P)\n",
    "    d_2[1] = -2 + (1+ξ*Δ)\n",
    "    d_2[end] = -2 + (1-ξ*Δ)\n",
    "    du_2 = ones(P-1)\n",
    "    L_2 = Tridiagonal(dl_2, d_2, du_2)/(Δ^2)\n",
    "\n",
    "    return (x, L_1_minus, L_1_plus, L_2)\n",
    "end"
   ]
  },
  {
   "cell_type": "markdown",
   "metadata": {},
   "source": [
    "### Approach 1: Simplest LCP with PATHSolver.jl\n",
    "-------\n",
    "\n",
    "Here, we consider the case with constrant drift $\\mu(x) = \\bar{\\mu}$, stopping value $S(x) \\equiv \\bar{S}$, and variance $\\sigma(x) = \\bar{\\sigma}$.\n",
    "\n",
    "First, here's a function to take model parameters and return LCP objects."
   ]
  },
  {
   "cell_type": "code",
   "execution_count": 3,
   "metadata": {},
   "outputs": [
    {
     "data": {
      "text/plain": [
       "LCP_objects (generic function with 1 method)"
      ]
     },
     "execution_count": 3,
     "metadata": {},
     "output_type": "execute_result"
    }
   ],
   "source": [
    "function LCP_objects(sp)\n",
    "    # setup work \n",
    "    @unpack μ_bar, σ_bar, S_bar, γ, ρ, x_min, x_max, M = sp \n",
    "    grid = range(x_min, x_max, length = M)\n",
    "    tmp, L_1_minus, L_1_plus, L_2 = diffusionoperators(grid) \n",
    "    μ = μ_bar \n",
    "    S = x -> S_bar \n",
    "    u = x -> x^γ # L36 from MATLAB\n",
    "    σ = σ_bar \n",
    "    # construct objects\n",
    "    A = μ * L_1_minus + 1/2 * σ^2 * L_2 # stochastic generator. use L_1_minus because drift is always negative\n",
    "    B = ρ*I - A \n",
    "    S_vec = S.(grid)\n",
    "    -u.(grid)\n",
    "    q_vec = -u.(grid) + B*S_vec\n",
    "    # return \n",
    "    return (A = A, B = B, S = S_vec, q = q_vec)\n",
    "end"
   ]
  },
  {
   "cell_type": "markdown",
   "metadata": {},
   "source": [
    "Let's generate these objects for the default case."
   ]
  },
  {
   "cell_type": "code",
   "execution_count": 4,
   "metadata": {},
   "outputs": [],
   "source": [
    "sp = StoppingProblem()\n",
    "@unpack A, B, S, q = LCP_objects(sp);"
   ]
  },
  {
   "cell_type": "markdown",
   "metadata": {},
   "source": [
    "This suggests the following linear complementarity problem:\n",
    "\n",
    "$$ \n",
    "\\begin{align}\n",
    "z'(\\mathbf{B}z + q) &= 0 \\\\ \n",
    "z &\\geq 0 \\\\ \n",
    "\\mathbf{B}z + q &\\geq 0\n",
    "\\end{align}\n",
    "$$\n",
    "\n",
    "Let's give it to PATHSolver."
   ]
  },
  {
   "cell_type": "code",
   "execution_count": 5,
   "metadata": {},
   "outputs": [],
   "source": [
    "using PATHSolver"
   ]
  },
  {
   "cell_type": "code",
   "execution_count": 6,
   "metadata": {},
   "outputs": [
    {
     "name": "stdout",
     "output_type": "stream",
     "text": [
      "  1.586898 seconds (3.41 M allocations: 173.426 MiB, 3.96% gc time)\n",
      "Reading options file path.opt\n",
      " > convergence_tolerance 1.0e-12\n",
      "Read of options file complete.\n",
      "\n",
      "300 row/cols, 898 non-zeros, 1.00% dense.\n",
      "\n",
      "Path 4.7.03 (Thu Jan 24 15:44:12 2013)\n",
      "Written by Todd Munson, Steven Dirkse, and Michael Ferris\n",
      "\n",
      " ** EXIT - solution found.\n"
     ]
    },
    {
     "data": {
      "text/plain": [
       "(:Solved, [0.0, 0.0, 0.0, 0.0, 0.0, 0.0, 0.0, 0.0, 0.0, 0.0  …  7.46461, 7.50114, 7.5374, 7.57322, 7.60835, 7.64235, 7.67447, 7.70346, 7.72719, 7.74208], [0.4, 0.384627, 0.371073, 0.358815, 0.34754, 0.337042, 0.327182, 0.317854, 0.308981, 0.300502  …  -4.77396e-15, -2.66454e-15, -2.66454e-15, -5.21805e-15, -6.66134e-15, -4.77396e-15, 1.86517e-14, 7.77156e-16, -8.32667e-15, 0.0])"
      ]
     },
     "execution_count": 6,
     "metadata": {},
     "output_type": "execute_result"
    }
   ],
   "source": [
    "f = z -> B*z + q\n",
    "n = sp.M\n",
    "lb = zeros(n)\n",
    "ub = 1000*ones(n) # a reasonable guess?\n",
    "options(convergence_tolerance = 1e-12, output = :no, time_limit = 600) # 10 minute budget\n",
    "@time exit_code, sol_z, sol_f = solveLCP(f, lb, ub)"
   ]
  },
  {
   "cell_type": "code",
   "execution_count": 7,
   "metadata": {},
   "outputs": [
    {
     "data": {
      "text/plain": [
       ":Solved"
      ]
     },
     "execution_count": 7,
     "metadata": {},
     "output_type": "execute_result"
    }
   ],
   "source": [
    "exit_code # this lets us handle logic like converged(exit_code) || error(\"foobar\")"
   ]
  },
  {
   "cell_type": "markdown",
   "metadata": {},
   "source": [
    "Now, we can unpack the solutions and plot them."
   ]
  },
  {
   "cell_type": "code",
   "execution_count": 8,
   "metadata": {},
   "outputs": [
    {
     "data": {
      "image/svg+xml": [
       "<?xml version=\"1.0\" encoding=\"utf-8\"?>\n",
       "<svg xmlns=\"http://www.w3.org/2000/svg\" xmlns:xlink=\"http://www.w3.org/1999/xlink\" width=\"600\" height=\"400\" viewBox=\"0 0 2400 1600\">\n",
       "<defs>\n",
       "  <clipPath id=\"clip6000\">\n",
       "    <rect x=\"0\" y=\"0\" width=\"2000\" height=\"2000\"/>\n",
       "  </clipPath>\n",
       "</defs>\n",
       "<defs>\n",
       "  <clipPath id=\"clip6001\">\n",
       "    <rect x=\"0\" y=\"0\" width=\"2400\" height=\"1600\"/>\n",
       "  </clipPath>\n",
       "</defs>\n",
       "<polygon clip-path=\"url(#clip6001)\" points=\"\n",
       "0,1600 2400,1600 2400,0 0,0 \n",
       "  \" fill=\"#ffffff\" fill-rule=\"evenodd\" fill-opacity=\"1\"/>\n",
       "<defs>\n",
       "  <clipPath id=\"clip6002\">\n",
       "    <rect x=\"480\" y=\"0\" width=\"1681\" height=\"1600\"/>\n",
       "  </clipPath>\n",
       "</defs>\n",
       "<polygon clip-path=\"url(#clip6001)\" points=\"\n",
       "211.005,1440.48 2321.26,1440.48 2321.26,125.984 211.005,125.984 \n",
       "  \" fill=\"#ffffff\" fill-rule=\"evenodd\" fill-opacity=\"1\"/>\n",
       "<defs>\n",
       "  <clipPath id=\"clip6003\">\n",
       "    <rect x=\"211\" y=\"125\" width=\"2111\" height=\"1315\"/>\n",
       "  </clipPath>\n",
       "</defs>\n",
       "<polyline clip-path=\"url(#clip6003)\" style=\"stroke:#000000; stroke-width:2; stroke-opacity:0.1; fill:none\" points=\"\n",
       "  264.071,1440.48 264.071,125.984 \n",
       "  \"/>\n",
       "<polyline clip-path=\"url(#clip6003)\" style=\"stroke:#000000; stroke-width:2; stroke-opacity:0.1; fill:none\" points=\"\n",
       "  929.893,1440.48 929.893,125.984 \n",
       "  \"/>\n",
       "<polyline clip-path=\"url(#clip6003)\" style=\"stroke:#000000; stroke-width:2; stroke-opacity:0.1; fill:none\" points=\"\n",
       "  1595.71,1440.48 1595.71,125.984 \n",
       "  \"/>\n",
       "<polyline clip-path=\"url(#clip6003)\" style=\"stroke:#000000; stroke-width:2; stroke-opacity:0.1; fill:none\" points=\"\n",
       "  2261.54,1440.48 2261.54,125.984 \n",
       "  \"/>\n",
       "<polyline clip-path=\"url(#clip6003)\" style=\"stroke:#000000; stroke-width:2; stroke-opacity:0.1; fill:none\" points=\"\n",
       "  211.005,1403.28 2321.26,1403.28 \n",
       "  \"/>\n",
       "<polyline clip-path=\"url(#clip6003)\" style=\"stroke:#000000; stroke-width:2; stroke-opacity:0.1; fill:none\" points=\"\n",
       "  211.005,1082.93 2321.26,1082.93 \n",
       "  \"/>\n",
       "<polyline clip-path=\"url(#clip6003)\" style=\"stroke:#000000; stroke-width:2; stroke-opacity:0.1; fill:none\" points=\"\n",
       "  211.005,762.577 2321.26,762.577 \n",
       "  \"/>\n",
       "<polyline clip-path=\"url(#clip6003)\" style=\"stroke:#000000; stroke-width:2; stroke-opacity:0.1; fill:none\" points=\"\n",
       "  211.005,442.226 2321.26,442.226 \n",
       "  \"/>\n",
       "<polyline clip-path=\"url(#clip6001)\" style=\"stroke:#000000; stroke-width:4; stroke-opacity:1; fill:none\" points=\"\n",
       "  211.005,1440.48 2321.26,1440.48 \n",
       "  \"/>\n",
       "<polyline clip-path=\"url(#clip6001)\" style=\"stroke:#000000; stroke-width:4; stroke-opacity:1; fill:none\" points=\"\n",
       "  211.005,1440.48 211.005,125.984 \n",
       "  \"/>\n",
       "<polyline clip-path=\"url(#clip6001)\" style=\"stroke:#000000; stroke-width:4; stroke-opacity:1; fill:none\" points=\"\n",
       "  264.071,1440.48 264.071,1420.77 \n",
       "  \"/>\n",
       "<polyline clip-path=\"url(#clip6001)\" style=\"stroke:#000000; stroke-width:4; stroke-opacity:1; fill:none\" points=\"\n",
       "  929.893,1440.48 929.893,1420.77 \n",
       "  \"/>\n",
       "<polyline clip-path=\"url(#clip6001)\" style=\"stroke:#000000; stroke-width:4; stroke-opacity:1; fill:none\" points=\"\n",
       "  1595.71,1440.48 1595.71,1420.77 \n",
       "  \"/>\n",
       "<polyline clip-path=\"url(#clip6001)\" style=\"stroke:#000000; stroke-width:4; stroke-opacity:1; fill:none\" points=\"\n",
       "  2261.54,1440.48 2261.54,1420.77 \n",
       "  \"/>\n",
       "<polyline clip-path=\"url(#clip6001)\" style=\"stroke:#000000; stroke-width:4; stroke-opacity:1; fill:none\" points=\"\n",
       "  211.005,1403.28 242.659,1403.28 \n",
       "  \"/>\n",
       "<polyline clip-path=\"url(#clip6001)\" style=\"stroke:#000000; stroke-width:4; stroke-opacity:1; fill:none\" points=\"\n",
       "  211.005,1082.93 242.659,1082.93 \n",
       "  \"/>\n",
       "<polyline clip-path=\"url(#clip6001)\" style=\"stroke:#000000; stroke-width:4; stroke-opacity:1; fill:none\" points=\"\n",
       "  211.005,762.577 242.659,762.577 \n",
       "  \"/>\n",
       "<polyline clip-path=\"url(#clip6001)\" style=\"stroke:#000000; stroke-width:4; stroke-opacity:1; fill:none\" points=\"\n",
       "  211.005,442.226 242.659,442.226 \n",
       "  \"/>\n",
       "<g clip-path=\"url(#clip6001)\">\n",
       "<text style=\"fill:#000000; fill-opacity:1; font-family:Arial,Helvetica Neue,Helvetica,sans-serif; font-size:48px; text-anchor:middle;\" transform=\"rotate(0, 264.071, 1494.48)\" x=\"264.071\" y=\"1494.48\">0</text>\n",
       "</g>\n",
       "<g clip-path=\"url(#clip6001)\">\n",
       "<text style=\"fill:#000000; fill-opacity:1; font-family:Arial,Helvetica Neue,Helvetica,sans-serif; font-size:48px; text-anchor:middle;\" transform=\"rotate(0, 929.893, 1494.48)\" x=\"929.893\" y=\"1494.48\">100</text>\n",
       "</g>\n",
       "<g clip-path=\"url(#clip6001)\">\n",
       "<text style=\"fill:#000000; fill-opacity:1; font-family:Arial,Helvetica Neue,Helvetica,sans-serif; font-size:48px; text-anchor:middle;\" transform=\"rotate(0, 1595.71, 1494.48)\" x=\"1595.71\" y=\"1494.48\">200</text>\n",
       "</g>\n",
       "<g clip-path=\"url(#clip6001)\">\n",
       "<text style=\"fill:#000000; fill-opacity:1; font-family:Arial,Helvetica Neue,Helvetica,sans-serif; font-size:48px; text-anchor:middle;\" transform=\"rotate(0, 2261.54, 1494.48)\" x=\"2261.54\" y=\"1494.48\">300</text>\n",
       "</g>\n",
       "<g clip-path=\"url(#clip6001)\">\n",
       "<text style=\"fill:#000000; fill-opacity:1; font-family:Arial,Helvetica Neue,Helvetica,sans-serif; font-size:48px; text-anchor:end;\" transform=\"rotate(0, 187.005, 1420.78)\" x=\"187.005\" y=\"1420.78\">10</text>\n",
       "</g>\n",
       "<g clip-path=\"url(#clip6001)\">\n",
       "<text style=\"fill:#000000; fill-opacity:1; font-family:Arial,Helvetica Neue,Helvetica,sans-serif; font-size:48px; text-anchor:end;\" transform=\"rotate(0, 187.005, 1100.43)\" x=\"187.005\" y=\"1100.43\">12</text>\n",
       "</g>\n",
       "<g clip-path=\"url(#clip6001)\">\n",
       "<text style=\"fill:#000000; fill-opacity:1; font-family:Arial,Helvetica Neue,Helvetica,sans-serif; font-size:48px; text-anchor:end;\" transform=\"rotate(0, 187.005, 780.077)\" x=\"187.005\" y=\"780.077\">14</text>\n",
       "</g>\n",
       "<g clip-path=\"url(#clip6001)\">\n",
       "<text style=\"fill:#000000; fill-opacity:1; font-family:Arial,Helvetica Neue,Helvetica,sans-serif; font-size:48px; text-anchor:end;\" transform=\"rotate(0, 187.005, 459.726)\" x=\"187.005\" y=\"459.726\">16</text>\n",
       "</g>\n",
       "<g clip-path=\"url(#clip6001)\">\n",
       "<text style=\"fill:#000000; fill-opacity:1; font-family:Arial,Helvetica Neue,Helvetica,sans-serif; font-size:84px; text-anchor:middle;\" transform=\"rotate(0, 1266.13, 73.2)\" x=\"1266.13\" y=\"73.2\">Value Function for Vanilla Model</text>\n",
       "</g>\n",
       "<g clip-path=\"url(#clip6001)\">\n",
       "<text style=\"fill:#000000; fill-opacity:1; font-family:Arial,Helvetica Neue,Helvetica,sans-serif; font-size:66px; text-anchor:middle;\" transform=\"rotate(0, 1266.13, 1590.4)\" x=\"1266.13\" y=\"1590.4\">x</text>\n",
       "</g>\n",
       "<g clip-path=\"url(#clip6001)\">\n",
       "<text style=\"fill:#000000; fill-opacity:1; font-family:Arial,Helvetica Neue,Helvetica,sans-serif; font-size:66px; text-anchor:middle;\" transform=\"rotate(-90, 57.6, 783.233)\" x=\"57.6\" y=\"783.233\">v(x)</text>\n",
       "</g>\n",
       "<polyline clip-path=\"url(#clip6003)\" style=\"stroke:#009af9; stroke-width:4; stroke-opacity:1; fill:none\" points=\"\n",
       "  270.729,1403.28 277.387,1403.28 284.046,1403.28 290.704,1403.28 297.362,1403.28 304.02,1403.28 310.678,1403.28 317.337,1403.28 323.995,1403.28 330.653,1403.28 \n",
       "  337.311,1403.28 343.97,1403.28 350.628,1403.28 357.286,1403.28 363.944,1403.28 370.602,1403.28 377.261,1403.28 383.919,1403.28 390.577,1403.28 397.235,1403.28 \n",
       "  403.894,1403.28 410.552,1403.28 417.21,1403.28 423.868,1403.28 430.526,1403.28 437.185,1403.28 443.843,1403.28 450.501,1403.28 457.159,1403.28 463.817,1403.28 \n",
       "  470.476,1403.28 477.134,1403.28 483.792,1403.28 490.45,1403.28 497.109,1403.28 503.767,1403.28 510.425,1403.28 517.083,1403.28 523.741,1403.28 530.4,1403.28 \n",
       "  537.058,1403.28 543.716,1403.28 550.374,1403.28 557.032,1403.28 563.691,1403.28 570.349,1403.28 577.007,1403.28 583.665,1403.28 590.324,1403.28 596.982,1403.28 \n",
       "  603.64,1403.28 610.298,1403.28 616.956,1403.28 623.615,1403.28 630.273,1403.28 636.931,1403.28 643.589,1403.28 650.247,1403.28 656.906,1403.28 663.564,1403.28 \n",
       "  670.222,1403.28 676.88,1403.28 683.539,1403.28 690.197,1403.28 696.855,1403.28 703.513,1403.28 710.171,1403.28 716.83,1403.28 723.488,1403.28 730.146,1403.28 \n",
       "  736.804,1403.28 743.462,1403.28 750.121,1403.12 756.779,1402.79 763.437,1402.31 770.095,1401.66 776.754,1400.87 783.412,1399.92 790.07,1398.82 796.728,1397.59 \n",
       "  803.386,1396.21 810.045,1394.69 816.703,1393.04 823.361,1391.26 830.019,1389.35 836.678,1387.32 843.336,1385.16 849.994,1382.89 856.652,1380.5 863.31,1377.99 \n",
       "  869.969,1375.37 876.627,1372.65 883.285,1369.81 889.943,1366.88 896.601,1363.84 903.26,1360.7 909.918,1357.47 916.576,1354.14 923.234,1350.72 929.893,1347.21 \n",
       "  936.551,1343.61 943.209,1339.92 949.867,1336.15 956.525,1332.3 963.184,1328.37 969.842,1324.36 976.5,1320.28 983.158,1316.12 989.816,1311.89 996.475,1307.59 \n",
       "  1003.13,1303.22 1009.79,1298.78 1016.45,1294.28 1023.11,1289.71 1029.77,1285.08 1036.42,1280.39 1043.08,1275.64 1049.74,1270.83 1056.4,1265.97 1063.06,1261.05 \n",
       "  1069.72,1256.08 1076.37,1251.05 1083.03,1245.98 1089.69,1240.85 1096.35,1235.68 1103.01,1230.46 1109.66,1225.2 1116.32,1219.89 1122.98,1214.54 1129.64,1209.14 \n",
       "  1136.3,1203.71 1142.96,1198.23 1149.61,1192.72 1156.27,1187.17 1162.93,1181.58 1169.59,1175.95 1176.25,1170.3 1182.9,1164.61 1189.56,1158.88 1196.22,1153.13 \n",
       "  1202.88,1147.34 1209.54,1141.52 1216.2,1135.68 1222.85,1129.81 1229.51,1123.91 1236.17,1117.98 1242.83,1112.03 1249.49,1106.05 1256.15,1100.05 1262.8,1094.03 \n",
       "  1269.46,1087.99 1276.12,1081.92 1282.78,1075.83 1289.44,1069.72 1296.09,1063.59 1302.75,1057.45 1309.41,1051.28 1316.07,1045.1 1322.73,1038.9 1329.39,1032.69 \n",
       "  1336.04,1026.46 1342.7,1020.21 1349.36,1013.95 1356.02,1007.67 1362.68,1001.39 1369.33,995.087 1375.99,988.774 1382.65,982.45 1389.31,976.114 1395.97,969.768 \n",
       "  1402.63,963.412 1409.28,957.045 1415.94,950.67 1422.6,944.286 1429.26,937.893 1435.92,931.492 1442.58,925.084 1449.23,918.669 1455.89,912.248 1462.55,905.82 \n",
       "  1469.21,899.386 1475.87,892.947 1482.52,886.502 1489.18,880.053 1495.84,873.6 1502.5,867.142 1509.16,860.681 1515.82,854.217 1522.47,847.75 1529.13,841.28 \n",
       "  1535.79,834.807 1542.45,828.333 1549.11,821.856 1555.76,815.379 1562.42,808.9 1569.08,802.42 1575.74,795.94 1582.4,789.459 1589.06,782.979 1595.71,776.498 \n",
       "  1602.37,770.018 1609.03,763.539 1615.69,757.06 1622.35,750.583 1629.01,744.107 1635.66,737.632 1642.32,731.16 1648.98,724.689 1655.64,718.221 1662.3,711.755 \n",
       "  1668.95,705.291 1675.61,698.831 1682.27,692.373 1688.93,685.919 1695.59,679.468 1702.25,673.021 1708.9,666.577 1715.56,660.137 1722.22,653.701 1728.88,647.27 \n",
       "  1735.54,640.842 1742.19,634.419 1748.85,628.001 1755.51,621.588 1762.17,615.179 1768.83,608.776 1775.49,602.378 1782.14,595.985 1788.8,589.597 1795.46,583.215 \n",
       "  1802.12,576.839 1808.78,570.469 1815.44,564.104 1822.09,557.745 1828.75,551.393 1835.41,545.046 1842.07,538.706 1848.73,532.373 1855.38,526.046 1862.04,519.725 \n",
       "  1868.7,513.411 1875.36,507.104 1882.02,500.804 1888.68,494.511 1895.33,488.225 1901.99,481.945 1908.65,475.673 1915.31,469.408 1921.97,463.151 1928.62,456.901 \n",
       "  1935.28,450.658 1941.94,444.423 1948.6,438.195 1955.26,431.975 1961.92,425.762 1968.57,419.558 1975.23,413.361 1981.89,407.171 1988.55,400.99 1995.21,394.817 \n",
       "  2001.87,388.651 2008.52,382.494 2015.18,376.344 2021.84,370.203 2028.5,364.07 2035.16,357.945 2041.81,351.828 2048.47,345.72 2055.13,339.619 2061.79,333.527 \n",
       "  2068.45,327.444 2075.11,321.369 2081.76,315.302 2088.42,309.243 2095.08,303.193 2101.74,297.152 2108.4,291.118 2115.05,285.094 2121.71,279.078 2128.37,273.07 \n",
       "  2135.03,267.072 2141.69,261.081 2148.35,255.1 2155,249.128 2161.66,243.164 2168.32,237.211 2174.98,231.267 2181.64,225.335 2188.3,219.416 2194.95,213.513 \n",
       "  2201.61,207.631 2208.27,201.779 2214.93,195.971 2221.59,190.233 2228.24,184.606 2234.9,179.161 2241.56,174.016 2248.22,169.373 2254.88,165.572 2261.54,163.187 \n",
       "  \n",
       "  \"/>\n",
       "</svg>\n"
      ]
     },
     "execution_count": 8,
     "metadata": {},
     "output_type": "execute_result"
    }
   ],
   "source": [
    "using Plots\n",
    "v = sol_z + S \n",
    "plot(v, title = \"Value Function for Vanilla Model\", legend = false, xlabel = \"x\", ylabel = \"v(x)\")"
   ]
  },
  {
   "cell_type": "markdown",
   "metadata": {},
   "source": [
    "This is the kind of thing we expect --- below some threshold you get the stopping value $S \\equiv 10$, and above it you get a smoothly increasing value."
   ]
  },
  {
   "cell_type": "markdown",
   "metadata": {},
   "source": [
    "**Note:** `PATHSolver.jl` is the backend used by `Complementarity.jl`, so there's no need to test that package separately (and, in fact, I couldn't get the macro/JuMP setup to work.)"
   ]
  },
  {
   "cell_type": "markdown",
   "metadata": {},
   "source": [
    "### Approach 2: Same Problem with NLsolve\n",
    "------"
   ]
  },
  {
   "cell_type": "code",
   "execution_count": 9,
   "metadata": {},
   "outputs": [],
   "source": [
    "using NLsolve"
   ]
  },
  {
   "cell_type": "code",
   "execution_count": 10,
   "metadata": {},
   "outputs": [
    {
     "data": {
      "text/plain": [
       "f! (generic function with 1 method)"
      ]
     },
     "execution_count": 10,
     "metadata": {},
     "output_type": "execute_result"
    }
   ],
   "source": [
    "function f!(F, z)\n",
    "    F .= B*z + q # in place assignment\n",
    "end"
   ]
  },
  {
   "cell_type": "code",
   "execution_count": 11,
   "metadata": {},
   "outputs": [
    {
     "name": "stdout",
     "output_type": "stream",
     "text": [
      "  8.055013 seconds (12.72 M allocations: 659.998 MiB, 8.79% gc time)\n"
     ]
    },
    {
     "data": {
      "text/plain": [
       "Results of Nonlinear Solver Algorithm\n",
       " * Algorithm: Trust-region with dogleg and autoscaling\n",
       " * Starting Point: [0.0, 0.0, 0.0, 0.0, 0.0, 0.0, 0.0, 0.0, 0.0, 0.0, 0.0, 0.0, 0.0, 0.0, 0.0, 0.0, 0.0, 0.0, 0.0, 0.0, 0.0, 0.0, 0.0, 0.0, 0.0, 0.0, 0.0, 0.0, 0.0, 0.0, 0.0, 0.0, 0.0, 0.0, 0.0, 0.0, 0.0, 0.0, 0.0, 0.0, 0.0, 0.0, 0.0, 0.0, 0.0, 0.0, 0.0, 0.0, 0.0, 0.0, 0.0, 0.0, 0.0, 0.0, 0.0, 0.0, 0.0, 0.0, 0.0, 0.0, 0.0, 0.0, 0.0, 0.0, 0.0, 0.0, 0.0, 0.0, 0.0, 0.0, 0.0, 0.0, 0.0, 0.0, 0.0, 0.0, 0.0, 0.0, 0.0, 0.0, 0.0, 0.0, 0.0, 0.0, 0.0, 0.0, 0.0, 0.0, 0.0, 0.0, 0.0, 0.0, 0.0, 0.0, 0.0, 0.0, 0.0, 0.0, 0.0, 0.0, 0.0, 0.0, 0.0, 0.0, 0.0, 0.0, 0.0, 0.0, 0.0, 0.0, 0.0, 0.0, 0.0, 0.0, 0.0, 0.0, 0.0, 0.0, 0.0, 0.0, 0.0, 0.0, 0.0, 0.0, 0.0, 0.0, 0.0, 0.0, 0.0, 0.0, 0.0, 0.0, 0.0, 0.0, 0.0, 0.0, 0.0, 0.0, 0.0, 0.0, 0.0, 0.0, 0.0, 0.0, 0.0, 0.0, 0.0, 0.0, 0.0, 0.0, 0.0, 0.0, 0.0, 0.0, 0.0, 0.0, 0.0, 0.0, 0.0, 0.0, 0.0, 0.0, 0.0, 0.0, 0.0, 0.0, 0.0, 0.0, 0.0, 0.0, 0.0, 0.0, 0.0, 0.0, 0.0, 0.0, 0.0, 0.0, 0.0, 0.0, 0.0, 0.0, 0.0, 0.0, 0.0, 0.0, 0.0, 0.0, 0.0, 0.0, 0.0, 0.0, 0.0, 0.0, 0.0, 0.0, 0.0, 0.0, 0.0, 0.0, 0.0, 0.0, 0.0, 0.0, 0.0, 0.0, 0.0, 0.0, 0.0, 0.0, 0.0, 0.0, 0.0, 0.0, 0.0, 0.0, 0.0, 0.0, 0.0, 0.0, 0.0, 0.0, 0.0, 0.0, 0.0, 0.0, 0.0, 0.0, 0.0, 0.0, 0.0, 0.0, 0.0, 0.0, 0.0, 0.0, 0.0, 0.0, 0.0, 0.0, 0.0, 0.0, 0.0, 0.0, 0.0, 0.0, 0.0, 0.0, 0.0, 0.0, 0.0, 0.0, 0.0, 0.0, 0.0, 0.0, 0.0, 0.0, 0.0, 0.0, 0.0, 0.0, 0.0, 0.0, 0.0, 0.0, 0.0, 0.0, 0.0, 0.0, 0.0, 0.0, 0.0, 0.0, 0.0, 0.0, 0.0, 0.0, 0.0, 0.0, 0.0, 0.0, 0.0, 0.0, 0.0, 0.0, 0.0, 0.0, 0.0, 0.0, 0.0, 0.0, 0.0, 0.0, 0.0, 0.0, 0.0, 0.0, 0.0, 0.0]\n",
       " * Zero: [0.0, 0.0, 0.0, 0.0, 0.0, 0.0, 0.0, 0.0, 0.0, 0.0, 0.0, 0.0, 0.0, 0.0, 0.0, 0.0, 0.0, 0.0, 0.0, 0.0, 0.0, 0.0, 0.0, 0.0, 0.0, 0.0, 0.0, 0.0, 0.0, 0.0, 0.0, 0.0, 0.0, 0.0, 0.0, 0.0, 0.0, 0.0, 0.0, 0.0, 0.0, 0.0, 0.0, 0.0, 0.0, 0.0, 0.0, 0.0, 0.0, 0.0, 0.0, 0.0, 0.0, 0.0, 0.0, 0.0, 0.0, 0.0, 0.0, 0.0, 0.0, 0.0, 0.0, 0.0, 0.0, 0.0, 0.0, -2.18279e-20, 5.14093e-20, 8.17231e-19, 7.73909e-19, 1.07909e-20, 0.00100298, 0.0030337, 0.00606908, 0.0100866, 0.015064, 0.0209799, 0.0278129, 0.0355425, 0.0441483, 0.0536104, 0.0639096, 0.0750267, 0.0869432, 0.0996407, 0.113102, 0.127308, 0.142244, 0.157891, 0.174234, 0.191256, 0.208943, 0.227277, 0.246245, 0.265832, 0.286022, 0.306803, 0.328159, 0.350078, 0.372547, 0.395551, 0.419079, 0.443118, 0.467655, 0.49268, 0.518179, 0.544141, 0.570556, 0.597412, 0.624698, 0.652404, 0.680519, 0.709034, 0.737938, 0.767221, 0.796875, 0.826889, 0.857254, 0.887962, 0.919004, 0.950371, 0.982054, 1.01405, 1.04634, 1.07892, 1.11179, 1.14494, 1.17836, 1.21203, 1.24597, 1.28015, 1.31457, 1.34923, 1.38412, 1.41922, 1.45455, 1.49008, 1.52581, 1.56174, 1.59787, 1.63418, 1.67066, 1.70733, 1.74416, 1.78116, 1.81831, 1.85562, 1.89308, 1.93069, 1.96843, 2.00631, 2.04432, 2.08245, 2.12071, 2.15908, 2.19757, 2.23616, 2.27487, 2.31367, 2.35257, 2.39156, 2.43065, 2.46982, 2.50907, 2.54841, 2.58782, 2.6273, 2.66686, 2.70648, 2.74616, 2.78591, 2.82571, 2.86557, 2.90548, 2.94544, 2.98544, 3.02549, 3.06558, 3.10572, 3.14588, 3.18608, 3.22632, 3.26658, 3.30687, 3.34718, 3.38752, 3.42788, 3.46826, 3.50865, 3.54906, 3.58948, 3.62991, 3.67035, 3.7108, 3.75125, 3.79171, 3.83217, 3.87263, 3.91309, 3.95354, 3.994, 4.03444, 4.07488, 4.11531, 4.15573, 4.19614, 4.23654, 4.27692, 4.31729, 4.35764, 4.39798, 4.43829, 4.47859, 4.51886, 4.55911, 4.59934, 4.63955, 4.67973, 4.71988, 4.76001, 4.80011, 4.84018, 4.88022, 4.92022, 4.9602, 5.00015, 5.04006, 5.07994, 5.11978, 5.15959, 5.19936, 5.2391, 5.27879, 5.31845, 5.35807, 5.39766, 5.4372, 5.4767, 5.51616, 5.55558, 5.59495, 5.63429, 5.67358, 5.71282, 5.75202, 5.79118, 5.83029, 5.86936, 5.90838, 5.94736, 5.98628, 6.02516, 6.064, 6.10278, 6.14152, 6.18021, 6.21885, 6.25744, 6.29598, 6.33447, 6.37291, 6.41131, 6.44965, 6.48794, 6.52618, 6.56436, 6.6025, 6.64058, 6.67862, 6.7166, 6.75453, 6.7924, 6.83023, 6.868, 6.90572, 6.94338, 6.981, 7.01856, 7.05606, 7.09351, 7.13091, 7.16825, 7.20554, 7.24277, 7.27994, 7.31704, 7.35408, 7.39103, 7.42789, 7.46461, 7.50114, 7.5374, 7.57322, 7.60835, 7.64235, 7.67447, 7.70346, 7.72719, 7.74208]\n",
       " * Inf-norm of residuals: 0.000000\n",
       " * Iterations: 17\n",
       " * Convergence: true\n",
       "   * |x - x'| < 0.0e+00: false\n",
       "   * |f(x)| < 1.0e-12: true\n",
       " * Function Calls (f): 18\n",
       " * Jacobian Calls (df/dx): 18"
      ]
     },
     "execution_count": 11,
     "metadata": {},
     "output_type": "execute_result"
    }
   ],
   "source": [
    "@time r = mcpsolve(f!, lb, ub,\n",
    "                zeros(n), # initial condition\n",
    "                reformulation = :smooth, # uses a so-called \"Fischer function\" to smooth out the problem\n",
    "                autodiff = :forward,\n",
    "                ftol = 1e-12)"
   ]
  },
  {
   "cell_type": "markdown",
   "metadata": {},
   "source": [
    "As before, we can plot the resulting value function."
   ]
  },
  {
   "cell_type": "code",
   "execution_count": 12,
   "metadata": {},
   "outputs": [
    {
     "data": {
      "image/svg+xml": [
       "<?xml version=\"1.0\" encoding=\"utf-8\"?>\n",
       "<svg xmlns=\"http://www.w3.org/2000/svg\" xmlns:xlink=\"http://www.w3.org/1999/xlink\" width=\"600\" height=\"400\" viewBox=\"0 0 2400 1600\">\n",
       "<defs>\n",
       "  <clipPath id=\"clip6200\">\n",
       "    <rect x=\"0\" y=\"0\" width=\"2000\" height=\"2000\"/>\n",
       "  </clipPath>\n",
       "</defs>\n",
       "<defs>\n",
       "  <clipPath id=\"clip6201\">\n",
       "    <rect x=\"0\" y=\"0\" width=\"2400\" height=\"1600\"/>\n",
       "  </clipPath>\n",
       "</defs>\n",
       "<polygon clip-path=\"url(#clip6201)\" points=\"\n",
       "0,1600 2400,1600 2400,0 0,0 \n",
       "  \" fill=\"#ffffff\" fill-rule=\"evenodd\" fill-opacity=\"1\"/>\n",
       "<defs>\n",
       "  <clipPath id=\"clip6202\">\n",
       "    <rect x=\"480\" y=\"0\" width=\"1681\" height=\"1600\"/>\n",
       "  </clipPath>\n",
       "</defs>\n",
       "<polygon clip-path=\"url(#clip6201)\" points=\"\n",
       "211.005,1440.48 2321.26,1440.48 2321.26,125.984 211.005,125.984 \n",
       "  \" fill=\"#ffffff\" fill-rule=\"evenodd\" fill-opacity=\"1\"/>\n",
       "<defs>\n",
       "  <clipPath id=\"clip6203\">\n",
       "    <rect x=\"211\" y=\"125\" width=\"2111\" height=\"1315\"/>\n",
       "  </clipPath>\n",
       "</defs>\n",
       "<polyline clip-path=\"url(#clip6203)\" style=\"stroke:#000000; stroke-width:2; stroke-opacity:0.1; fill:none\" points=\"\n",
       "  264.071,1440.48 264.071,125.984 \n",
       "  \"/>\n",
       "<polyline clip-path=\"url(#clip6203)\" style=\"stroke:#000000; stroke-width:2; stroke-opacity:0.1; fill:none\" points=\"\n",
       "  929.893,1440.48 929.893,125.984 \n",
       "  \"/>\n",
       "<polyline clip-path=\"url(#clip6203)\" style=\"stroke:#000000; stroke-width:2; stroke-opacity:0.1; fill:none\" points=\"\n",
       "  1595.71,1440.48 1595.71,125.984 \n",
       "  \"/>\n",
       "<polyline clip-path=\"url(#clip6203)\" style=\"stroke:#000000; stroke-width:2; stroke-opacity:0.1; fill:none\" points=\"\n",
       "  2261.54,1440.48 2261.54,125.984 \n",
       "  \"/>\n",
       "<polyline clip-path=\"url(#clip6203)\" style=\"stroke:#000000; stroke-width:2; stroke-opacity:0.1; fill:none\" points=\"\n",
       "  211.005,1403.28 2321.26,1403.28 \n",
       "  \"/>\n",
       "<polyline clip-path=\"url(#clip6203)\" style=\"stroke:#000000; stroke-width:2; stroke-opacity:0.1; fill:none\" points=\"\n",
       "  211.005,1082.93 2321.26,1082.93 \n",
       "  \"/>\n",
       "<polyline clip-path=\"url(#clip6203)\" style=\"stroke:#000000; stroke-width:2; stroke-opacity:0.1; fill:none\" points=\"\n",
       "  211.005,762.577 2321.26,762.577 \n",
       "  \"/>\n",
       "<polyline clip-path=\"url(#clip6203)\" style=\"stroke:#000000; stroke-width:2; stroke-opacity:0.1; fill:none\" points=\"\n",
       "  211.005,442.226 2321.26,442.226 \n",
       "  \"/>\n",
       "<polyline clip-path=\"url(#clip6201)\" style=\"stroke:#000000; stroke-width:4; stroke-opacity:1; fill:none\" points=\"\n",
       "  211.005,1440.48 2321.26,1440.48 \n",
       "  \"/>\n",
       "<polyline clip-path=\"url(#clip6201)\" style=\"stroke:#000000; stroke-width:4; stroke-opacity:1; fill:none\" points=\"\n",
       "  211.005,1440.48 211.005,125.984 \n",
       "  \"/>\n",
       "<polyline clip-path=\"url(#clip6201)\" style=\"stroke:#000000; stroke-width:4; stroke-opacity:1; fill:none\" points=\"\n",
       "  264.071,1440.48 264.071,1420.77 \n",
       "  \"/>\n",
       "<polyline clip-path=\"url(#clip6201)\" style=\"stroke:#000000; stroke-width:4; stroke-opacity:1; fill:none\" points=\"\n",
       "  929.893,1440.48 929.893,1420.77 \n",
       "  \"/>\n",
       "<polyline clip-path=\"url(#clip6201)\" style=\"stroke:#000000; stroke-width:4; stroke-opacity:1; fill:none\" points=\"\n",
       "  1595.71,1440.48 1595.71,1420.77 \n",
       "  \"/>\n",
       "<polyline clip-path=\"url(#clip6201)\" style=\"stroke:#000000; stroke-width:4; stroke-opacity:1; fill:none\" points=\"\n",
       "  2261.54,1440.48 2261.54,1420.77 \n",
       "  \"/>\n",
       "<polyline clip-path=\"url(#clip6201)\" style=\"stroke:#000000; stroke-width:4; stroke-opacity:1; fill:none\" points=\"\n",
       "  211.005,1403.28 242.659,1403.28 \n",
       "  \"/>\n",
       "<polyline clip-path=\"url(#clip6201)\" style=\"stroke:#000000; stroke-width:4; stroke-opacity:1; fill:none\" points=\"\n",
       "  211.005,1082.93 242.659,1082.93 \n",
       "  \"/>\n",
       "<polyline clip-path=\"url(#clip6201)\" style=\"stroke:#000000; stroke-width:4; stroke-opacity:1; fill:none\" points=\"\n",
       "  211.005,762.577 242.659,762.577 \n",
       "  \"/>\n",
       "<polyline clip-path=\"url(#clip6201)\" style=\"stroke:#000000; stroke-width:4; stroke-opacity:1; fill:none\" points=\"\n",
       "  211.005,442.226 242.659,442.226 \n",
       "  \"/>\n",
       "<g clip-path=\"url(#clip6201)\">\n",
       "<text style=\"fill:#000000; fill-opacity:1; font-family:Arial,Helvetica Neue,Helvetica,sans-serif; font-size:48px; text-anchor:middle;\" transform=\"rotate(0, 264.071, 1494.48)\" x=\"264.071\" y=\"1494.48\">0</text>\n",
       "</g>\n",
       "<g clip-path=\"url(#clip6201)\">\n",
       "<text style=\"fill:#000000; fill-opacity:1; font-family:Arial,Helvetica Neue,Helvetica,sans-serif; font-size:48px; text-anchor:middle;\" transform=\"rotate(0, 929.893, 1494.48)\" x=\"929.893\" y=\"1494.48\">100</text>\n",
       "</g>\n",
       "<g clip-path=\"url(#clip6201)\">\n",
       "<text style=\"fill:#000000; fill-opacity:1; font-family:Arial,Helvetica Neue,Helvetica,sans-serif; font-size:48px; text-anchor:middle;\" transform=\"rotate(0, 1595.71, 1494.48)\" x=\"1595.71\" y=\"1494.48\">200</text>\n",
       "</g>\n",
       "<g clip-path=\"url(#clip6201)\">\n",
       "<text style=\"fill:#000000; fill-opacity:1; font-family:Arial,Helvetica Neue,Helvetica,sans-serif; font-size:48px; text-anchor:middle;\" transform=\"rotate(0, 2261.54, 1494.48)\" x=\"2261.54\" y=\"1494.48\">300</text>\n",
       "</g>\n",
       "<g clip-path=\"url(#clip6201)\">\n",
       "<text style=\"fill:#000000; fill-opacity:1; font-family:Arial,Helvetica Neue,Helvetica,sans-serif; font-size:48px; text-anchor:end;\" transform=\"rotate(0, 187.005, 1420.78)\" x=\"187.005\" y=\"1420.78\">10</text>\n",
       "</g>\n",
       "<g clip-path=\"url(#clip6201)\">\n",
       "<text style=\"fill:#000000; fill-opacity:1; font-family:Arial,Helvetica Neue,Helvetica,sans-serif; font-size:48px; text-anchor:end;\" transform=\"rotate(0, 187.005, 1100.43)\" x=\"187.005\" y=\"1100.43\">12</text>\n",
       "</g>\n",
       "<g clip-path=\"url(#clip6201)\">\n",
       "<text style=\"fill:#000000; fill-opacity:1; font-family:Arial,Helvetica Neue,Helvetica,sans-serif; font-size:48px; text-anchor:end;\" transform=\"rotate(0, 187.005, 780.077)\" x=\"187.005\" y=\"780.077\">14</text>\n",
       "</g>\n",
       "<g clip-path=\"url(#clip6201)\">\n",
       "<text style=\"fill:#000000; fill-opacity:1; font-family:Arial,Helvetica Neue,Helvetica,sans-serif; font-size:48px; text-anchor:end;\" transform=\"rotate(0, 187.005, 459.726)\" x=\"187.005\" y=\"459.726\">16</text>\n",
       "</g>\n",
       "<g clip-path=\"url(#clip6201)\">\n",
       "<text style=\"fill:#000000; fill-opacity:1; font-family:Arial,Helvetica Neue,Helvetica,sans-serif; font-size:84px; text-anchor:middle;\" transform=\"rotate(0, 1266.13, 73.2)\" x=\"1266.13\" y=\"73.2\">Value Function for Vanilla Model</text>\n",
       "</g>\n",
       "<g clip-path=\"url(#clip6201)\">\n",
       "<text style=\"fill:#000000; fill-opacity:1; font-family:Arial,Helvetica Neue,Helvetica,sans-serif; font-size:66px; text-anchor:middle;\" transform=\"rotate(0, 1266.13, 1590.4)\" x=\"1266.13\" y=\"1590.4\">x</text>\n",
       "</g>\n",
       "<g clip-path=\"url(#clip6201)\">\n",
       "<text style=\"fill:#000000; fill-opacity:1; font-family:Arial,Helvetica Neue,Helvetica,sans-serif; font-size:66px; text-anchor:middle;\" transform=\"rotate(-90, 57.6, 783.233)\" x=\"57.6\" y=\"783.233\">v(x)</text>\n",
       "</g>\n",
       "<polyline clip-path=\"url(#clip6203)\" style=\"stroke:#009af9; stroke-width:4; stroke-opacity:1; fill:none\" points=\"\n",
       "  270.729,1403.28 277.387,1403.28 284.046,1403.28 290.704,1403.28 297.362,1403.28 304.02,1403.28 310.678,1403.28 317.337,1403.28 323.995,1403.28 330.653,1403.28 \n",
       "  337.311,1403.28 343.97,1403.28 350.628,1403.28 357.286,1403.28 363.944,1403.28 370.602,1403.28 377.261,1403.28 383.919,1403.28 390.577,1403.28 397.235,1403.28 \n",
       "  403.894,1403.28 410.552,1403.28 417.21,1403.28 423.868,1403.28 430.526,1403.28 437.185,1403.28 443.843,1403.28 450.501,1403.28 457.159,1403.28 463.817,1403.28 \n",
       "  470.476,1403.28 477.134,1403.28 483.792,1403.28 490.45,1403.28 497.109,1403.28 503.767,1403.28 510.425,1403.28 517.083,1403.28 523.741,1403.28 530.4,1403.28 \n",
       "  537.058,1403.28 543.716,1403.28 550.374,1403.28 557.032,1403.28 563.691,1403.28 570.349,1403.28 577.007,1403.28 583.665,1403.28 590.324,1403.28 596.982,1403.28 \n",
       "  603.64,1403.28 610.298,1403.28 616.956,1403.28 623.615,1403.28 630.273,1403.28 636.931,1403.28 643.589,1403.28 650.247,1403.28 656.906,1403.28 663.564,1403.28 \n",
       "  670.222,1403.28 676.88,1403.28 683.539,1403.28 690.197,1403.28 696.855,1403.28 703.513,1403.28 710.171,1403.28 716.83,1403.28 723.488,1403.28 730.146,1403.28 \n",
       "  736.804,1403.28 743.462,1403.28 750.121,1403.12 756.779,1402.79 763.437,1402.31 770.095,1401.66 776.754,1400.87 783.412,1399.92 790.07,1398.82 796.728,1397.59 \n",
       "  803.386,1396.21 810.045,1394.69 816.703,1393.04 823.361,1391.26 830.019,1389.35 836.678,1387.32 843.336,1385.16 849.994,1382.89 856.652,1380.5 863.31,1377.99 \n",
       "  869.969,1375.37 876.627,1372.65 883.285,1369.81 889.943,1366.88 896.601,1363.84 903.26,1360.7 909.918,1357.47 916.576,1354.14 923.234,1350.72 929.893,1347.21 \n",
       "  936.551,1343.61 943.209,1339.92 949.867,1336.15 956.525,1332.3 963.184,1328.37 969.842,1324.36 976.5,1320.28 983.158,1316.12 989.816,1311.89 996.475,1307.59 \n",
       "  1003.13,1303.22 1009.79,1298.78 1016.45,1294.28 1023.11,1289.71 1029.77,1285.08 1036.42,1280.39 1043.08,1275.64 1049.74,1270.83 1056.4,1265.97 1063.06,1261.05 \n",
       "  1069.72,1256.08 1076.37,1251.05 1083.03,1245.98 1089.69,1240.85 1096.35,1235.68 1103.01,1230.46 1109.66,1225.2 1116.32,1219.89 1122.98,1214.54 1129.64,1209.14 \n",
       "  1136.3,1203.71 1142.96,1198.23 1149.61,1192.72 1156.27,1187.17 1162.93,1181.58 1169.59,1175.95 1176.25,1170.3 1182.9,1164.61 1189.56,1158.88 1196.22,1153.13 \n",
       "  1202.88,1147.34 1209.54,1141.52 1216.2,1135.68 1222.85,1129.81 1229.51,1123.91 1236.17,1117.98 1242.83,1112.03 1249.49,1106.05 1256.15,1100.05 1262.8,1094.03 \n",
       "  1269.46,1087.99 1276.12,1081.92 1282.78,1075.83 1289.44,1069.72 1296.09,1063.59 1302.75,1057.45 1309.41,1051.28 1316.07,1045.1 1322.73,1038.9 1329.39,1032.69 \n",
       "  1336.04,1026.46 1342.7,1020.21 1349.36,1013.95 1356.02,1007.67 1362.68,1001.39 1369.33,995.087 1375.99,988.774 1382.65,982.45 1389.31,976.114 1395.97,969.768 \n",
       "  1402.63,963.412 1409.28,957.045 1415.94,950.67 1422.6,944.286 1429.26,937.893 1435.92,931.492 1442.58,925.084 1449.23,918.669 1455.89,912.248 1462.55,905.82 \n",
       "  1469.21,899.386 1475.87,892.947 1482.52,886.502 1489.18,880.053 1495.84,873.6 1502.5,867.142 1509.16,860.681 1515.82,854.217 1522.47,847.75 1529.13,841.28 \n",
       "  1535.79,834.807 1542.45,828.333 1549.11,821.856 1555.76,815.379 1562.42,808.9 1569.08,802.42 1575.74,795.94 1582.4,789.459 1589.06,782.979 1595.71,776.498 \n",
       "  1602.37,770.018 1609.03,763.539 1615.69,757.06 1622.35,750.583 1629.01,744.107 1635.66,737.632 1642.32,731.16 1648.98,724.689 1655.64,718.221 1662.3,711.755 \n",
       "  1668.95,705.291 1675.61,698.831 1682.27,692.373 1688.93,685.919 1695.59,679.468 1702.25,673.021 1708.9,666.577 1715.56,660.137 1722.22,653.701 1728.88,647.27 \n",
       "  1735.54,640.842 1742.19,634.419 1748.85,628.001 1755.51,621.588 1762.17,615.179 1768.83,608.776 1775.49,602.378 1782.14,595.985 1788.8,589.597 1795.46,583.215 \n",
       "  1802.12,576.839 1808.78,570.469 1815.44,564.104 1822.09,557.745 1828.75,551.393 1835.41,545.046 1842.07,538.706 1848.73,532.373 1855.38,526.046 1862.04,519.725 \n",
       "  1868.7,513.411 1875.36,507.104 1882.02,500.804 1888.68,494.511 1895.33,488.225 1901.99,481.945 1908.65,475.673 1915.31,469.408 1921.97,463.151 1928.62,456.901 \n",
       "  1935.28,450.658 1941.94,444.423 1948.6,438.195 1955.26,431.975 1961.92,425.762 1968.57,419.558 1975.23,413.361 1981.89,407.171 1988.55,400.99 1995.21,394.817 \n",
       "  2001.87,388.651 2008.52,382.494 2015.18,376.344 2021.84,370.203 2028.5,364.07 2035.16,357.945 2041.81,351.828 2048.47,345.72 2055.13,339.619 2061.79,333.527 \n",
       "  2068.45,327.444 2075.11,321.369 2081.76,315.302 2088.42,309.243 2095.08,303.193 2101.74,297.152 2108.4,291.118 2115.05,285.094 2121.71,279.078 2128.37,273.07 \n",
       "  2135.03,267.072 2141.69,261.081 2148.35,255.1 2155,249.128 2161.66,243.164 2168.32,237.211 2174.98,231.267 2181.64,225.335 2188.3,219.416 2194.95,213.513 \n",
       "  2201.61,207.631 2208.27,201.779 2214.93,195.971 2221.59,190.233 2228.24,184.606 2234.9,179.161 2241.56,174.016 2248.22,169.373 2254.88,165.572 2261.54,163.187 \n",
       "  \n",
       "  \"/>\n",
       "</svg>\n"
      ]
     },
     "execution_count": 12,
     "metadata": {},
     "output_type": "execute_result"
    }
   ],
   "source": [
    "v = r.zero + S \n",
    "plot(v, title = \"Value Function for Vanilla Model\", legend = false, xlabel = \"x\", ylabel = \"v(x)\")"
   ]
  },
  {
   "cell_type": "markdown",
   "metadata": {},
   "source": [
    "Reassuringly, they look about the same."
   ]
  },
  {
   "cell_type": "markdown",
   "metadata": {},
   "source": [
    "### Approach 3: JuMP\n",
    "--------"
   ]
  },
  {
   "cell_type": "code",
   "execution_count": 13,
   "metadata": {},
   "outputs": [],
   "source": [
    "using JuMP, Ipopt"
   ]
  },
  {
   "cell_type": "code",
   "execution_count": 14,
   "metadata": {},
   "outputs": [
    {
     "data": {
      "text/latex": [
       "$$ \\begin{alignat*}{1}\\min\\quad & 0\\\\\n",
       "\\text{Subject to} \\quad\\end{alignat*}\n",
       " $$"
      ],
      "text/plain": [
       "Feasibility problem with:\n",
       " * 0 linear constraints\n",
       " * 0 variables\n",
       "Solver is Ipopt"
      ]
     },
     "execution_count": 14,
     "metadata": {},
     "output_type": "execute_result"
    }
   ],
   "source": [
    "m = Model(solver=IpoptSolver(tol=1e-12))"
   ]
  },
  {
   "cell_type": "code",
   "execution_count": 15,
   "metadata": {},
   "outputs": [
    {
     "data": {
      "text/latex": [
       "$$ z_{i} \\quad\\forall i \\in \\{1,2,\\dots,299,300\\} $$"
      ],
      "text/plain": [
       "300-element Array{Variable,1}:\n",
       " z[1]  \n",
       " z[2]  \n",
       " z[3]  \n",
       " z[4]  \n",
       " z[5]  \n",
       " z[6]  \n",
       " z[7]  \n",
       " z[8]  \n",
       " z[9]  \n",
       " z[10] \n",
       " z[11] \n",
       " z[12] \n",
       " z[13] \n",
       " ⋮     \n",
       " z[289]\n",
       " z[290]\n",
       " z[291]\n",
       " z[292]\n",
       " z[293]\n",
       " z[294]\n",
       " z[295]\n",
       " z[296]\n",
       " z[297]\n",
       " z[298]\n",
       " z[299]\n",
       " z[300]"
      ]
     },
     "execution_count": 15,
     "metadata": {},
     "output_type": "execute_result"
    }
   ],
   "source": [
    "@variable(m, z[1:sp.M])"
   ]
  },
  {
   "cell_type": "code",
   "execution_count": 16,
   "metadata": {},
   "outputs": [
    {
     "data": {
      "text/plain": [
       "300-element Array{ConstraintRef{Model,JuMP.GenericRangeConstraint{JuMP.GenericAffExpr{Float64,Variable}}},1}:\n",
       " z[1] ≥ 0  \n",
       " z[2] ≥ 0  \n",
       " z[3] ≥ 0  \n",
       " z[4] ≥ 0  \n",
       " z[5] ≥ 0  \n",
       " z[6] ≥ 0  \n",
       " z[7] ≥ 0  \n",
       " z[8] ≥ 0  \n",
       " z[9] ≥ 0  \n",
       " z[10] ≥ 0 \n",
       " z[11] ≥ 0 \n",
       " z[12] ≥ 0 \n",
       " z[13] ≥ 0 \n",
       " ⋮         \n",
       " z[289] ≥ 0\n",
       " z[290] ≥ 0\n",
       " z[291] ≥ 0\n",
       " z[292] ≥ 0\n",
       " z[293] ≥ 0\n",
       " z[294] ≥ 0\n",
       " z[295] ≥ 0\n",
       " z[296] ≥ 0\n",
       " z[297] ≥ 0\n",
       " z[298] ≥ 0\n",
       " z[299] ≥ 0\n",
       " z[300] ≥ 0"
      ]
     },
     "execution_count": 16,
     "metadata": {},
     "output_type": "execute_result"
    }
   ],
   "source": [
    "@constraint(m, z .>= 0) # first nonnegativity constraint"
   ]
  },
  {
   "cell_type": "code",
   "execution_count": 17,
   "metadata": {},
   "outputs": [
    {
     "data": {
      "text/plain": [
       "300-element Array{ConstraintRef{Model,JuMP.GenericRangeConstraint{JuMP.GenericAffExpr{Float64,Variable}}},1}:\n",
       " 4.610810121416182 z[1] - 4.560810121416182 z[2] ≥ -0.4                                                \n",
       " -7.581012141618203 z[1] + 12.191822263034386 z[2] - 4.560810121416182 z[3] ≥ -0.3846265334260184      \n",
       " -7.581012141618203 z[2] + 12.191822263034386 z[3] - 4.560810121416182 z[4] ≥ -0.37107337909261984     \n",
       " -7.581012141618203 z[3] + 12.191822263034386 z[4] - 4.560810121416182 z[5] ≥ -0.3588153323908967      \n",
       " -7.581012141618203 z[4] + 12.191822263034386 z[5] - 4.560810121416182 z[6] ≥ -0.3475396866158585      \n",
       " -7.581012141618203 z[5] + 12.191822263034386 z[6] - 4.560810121416182 z[7] ≥ -0.33704238604321585     \n",
       " -7.581012141618203 z[6] + 12.191822263034386 z[7] - 4.560810121416182 z[8] ≥ -0.3271815382090618      \n",
       " -7.581012141618203 z[7] + 12.191822263034386 z[8] - 4.560810121416182 z[9] ≥ -0.31785374688156876     \n",
       " -7.581012141618203 z[8] + 12.191822263034386 z[9] - 4.560810121416182 z[10] ≥ -0.3089809058905857     \n",
       " -7.581012141618203 z[9] + 12.191822263034386 z[10] - 4.560810121416182 z[11] ≥ -0.3005023030115913    \n",
       " -7.581012141618203 z[10] + 12.191822263034386 z[11] - 4.560810121416182 z[12] ≥ -0.2923696363896249   \n",
       " -7.581012141618203 z[11] + 12.191822263034386 z[12] - 4.560810121416182 z[13] ≥ -0.2845437290718271   \n",
       " -7.581012141618203 z[12] + 12.191822263034386 z[13] - 4.560810121416182 z[14] ≥ -0.27699228382952323  \n",
       " ⋮                                                                                                     \n",
       " -7.581012141618203 z[288] + 12.191822263034386 z[289] - 4.560810121416182 z[290] ≥ 0.48162039267617385\n",
       " -7.581012141618203 z[289] + 12.191822263034386 z[290] - 4.560810121416182 z[291] ≥ 0.4833054622583073 \n",
       " -7.581012141618203 z[290] + 12.191822263034386 z[291] - 4.560810121416182 z[292] ≥ 0.484987649108516  \n",
       " -7.581012141618203 z[291] + 12.191822263034386 z[292] - 4.560810121416182 z[293] ≥ 0.48666696797126985\n",
       " -7.581012141618203 z[292] + 12.191822263034386 z[293] - 4.560810121416182 z[294] ≥ 0.4883434334657748 \n",
       " -7.581012141618203 z[293] + 12.191822263034386 z[294] - 4.560810121416182 z[295] ≥ 0.4900170600874584 \n",
       " -7.581012141618203 z[294] + 12.191822263034386 z[295] - 4.560810121416182 z[296] ≥ 0.49168786220943117\n",
       " -7.581012141618203 z[295] + 12.191822263034386 z[296] - 4.560810121416182 z[297] ≥ 0.4933558540839277 \n",
       " -7.581012141618203 z[296] + 12.191822263034386 z[297] - 4.560810121416182 z[298] ≥ 0.4950210498437242 \n",
       " -7.581012141618203 z[297] + 12.191822263034386 z[298] - 4.560810121416182 z[299] ≥ 0.4966834635035361 \n",
       " -7.581012141618203 z[298] + 12.191822263034386 z[299] - 4.560810121416182 z[300] ≥ 0.4983431089613942 \n",
       " -7.581012141618203 z[299] + 7.631012141618203 z[300] ≥ 0.5                                            "
      ]
     },
     "execution_count": 17,
     "metadata": {},
     "output_type": "execute_result"
    }
   ],
   "source": [
    "@constraint(m, B*z + q .>= 0) # second nonlinearity complaint"
   ]
  },
  {
   "cell_type": "code",
   "execution_count": 18,
   "metadata": {},
   "outputs": [],
   "source": [
    "@objective(m, Min, z' * B * z + z' * q); # objective for problem"
   ]
  },
  {
   "cell_type": "code",
   "execution_count": 19,
   "metadata": {},
   "outputs": [
    {
     "name": "stdout",
     "output_type": "stream",
     "text": [
      "\n",
      "******************************************************************************\n",
      "This program contains Ipopt, a library for large-scale nonlinear optimization.\n",
      " Ipopt is released as open source code under the Eclipse Public License (EPL).\n",
      "         For more information visit http://projects.coin-or.org/Ipopt\n",
      "******************************************************************************\n",
      "\n",
      "This is Ipopt version 3.12.10, running with linear solver mumps.\n",
      "NOTE: Other linear solvers might be more efficient (see Ipopt documentation).\n",
      "\n",
      "Number of nonzeros in equality constraint Jacobian...:        0\n",
      "Number of nonzeros in inequality constraint Jacobian.:     1198\n",
      "Number of nonzeros in Lagrangian Hessian.............:      898\n",
      "\n",
      "Total number of variables............................:      300\n",
      "                     variables with only lower bounds:        0\n",
      "                variables with lower and upper bounds:        0\n",
      "                     variables with only upper bounds:        0\n",
      "Total number of equality constraints.................:        0\n",
      "Total number of inequality constraints...............:      600\n",
      "        inequality constraints with only lower bounds:      600\n",
      "   inequality constraints with lower and upper bounds:        0\n",
      "        inequality constraints with only upper bounds:        0\n",
      "\n",
      "iter    objective    inf_pr   inf_du lg(mu)  ||d||  lg(rg) alpha_du alpha_pr  ls\n",
      "   0  0.0000000e+00 5.00e-01 1.15e+00  -1.0 0.00e+00    -  0.00e+00 0.00e+00   0\n",
      "   1 -1.6216240e-01 4.93e-01 1.13e+00  -1.0 5.10e-01    -  2.41e-02 2.07e-02h  1\n",
      "   2 -2.7856150e-01 4.92e-01 1.47e+00  -1.0 3.68e+00    -  4.49e-03 3.07e-03h  1\n",
      "   3 -6.6117951e-01 4.90e-01 1.59e+00  -1.0 5.97e+00    -  4.13e-03 3.93e-03h  1\n",
      "   4 -1.4531689e+00 4.87e-01 1.58e+00  -1.0 7.00e+00    -  4.95e-03 4.95e-03h  1\n",
      "   5 -2.7992113e+00 4.84e-01 1.57e+00  -1.0 7.46e+00    -  5.93e-03 6.47e-03f  1\n",
      "   6 -4.8161985e+00 4.79e-01 1.56e+00  -1.0 7.64e+00    -  7.25e-03 8.46e-03f  1\n",
      "   7 -7.6999782e+00 4.73e-01 2.44e+00  -1.0 7.68e+00    -  8.98e-03 1.14e-02f  1\n",
      "   8 -1.1768523e+01 4.65e-01 4.07e+00  -1.0 7.65e+00    -  1.12e-02 1.58e-02f  1\n",
      "   9 -1.7571371e+01 4.54e-01 6.46e+00  -1.0 7.56e+00    -  1.40e-02 2.32e-02f  1\n",
      "iter    objective    inf_pr   inf_du lg(mu)  ||d||  lg(rg) alpha_du alpha_pr  ls\n",
      "  10 -2.6121731e+01 4.36e-01 1.08e+01  -1.0 7.40e+00    -  1.69e-02 3.67e-02f  1\n",
      "  11 -3.4094388e+01 4.19e-01 1.45e+01  -1.0 7.13e+00    -  1.43e-02 3.84e-02f  1\n",
      "  12 -4.1643832e+01 4.01e-01 2.04e+01  -1.0 6.86e+00    -  6.20e-03 4.15e-02f  1\n",
      "  13 -6.2227757e+01 3.35e-01 3.34e+01  -1.0 6.57e+00    -  2.27e-02 1.56e-01f  1\n",
      "  14 -5.1542803e+01 1.11e-01 9.21e+01  -1.0 5.54e+00    -  2.09e-02 6.40e-01f  1\n",
      "  15  1.2292694e+01 0.00e+00 1.37e+01  -1.0 2.00e+00    -  2.87e-01 1.00e+00h  1\n",
      "  16  1.6333719e+01 0.00e+00 4.72e+00  -1.0 1.63e-01    -  5.61e-01 1.00e+00f  1\n",
      "  17  2.1781211e+01 0.00e+00 1.86e+00  -1.0 3.64e-01    -  5.39e-01 1.00e+00f  1\n",
      "  18  2.7586465e+01 0.00e+00 4.32e-02  -1.0 3.80e-01    -  9.70e-01 1.00e+00f  1\n",
      "  19  4.2331104e+00 0.00e+00 2.83e-08  -2.5 5.73e-01    -  1.00e+00 1.00e+00f  1\n",
      "iter    objective    inf_pr   inf_du lg(mu)  ||d||  lg(rg) alpha_du alpha_pr  ls\n",
      "  20  1.1853179e+00 0.00e+00 2.83e-08  -2.5 2.44e-01    -  1.00e+00 1.00e+00f  1\n",
      "  21  1.3796472e-01 0.00e+00 1.50e-09  -3.8 1.43e-01    -  1.00e+00 1.00e+00f  1\n",
      "  22  5.5932110e-02 0.00e+00 1.50e-09  -3.8 5.77e-02    -  1.00e+00 1.00e+00f  1\n",
      "  23  7.6093644e-03 0.00e+00 1.92e-03  -5.7 2.93e-02    -  9.77e-01 9.11e-01f  1\n",
      "  24  1.8597362e-03 0.00e+00 1.19e-03  -5.7 1.31e-02    -  9.36e-01 8.55e-01f  1\n",
      "  25  6.2070752e-04 0.00e+00 2.70e-05  -5.7 5.86e-03    -  9.96e-01 1.00e+00f  1\n",
      "  26  5.5322120e-04 0.00e+00 1.84e-11  -5.7 1.71e-03    -  1.00e+00 1.00e+00f  1\n",
      "  27  2.6835214e-05 0.00e+00 1.32e-05  -8.6 1.22e-03    -  9.55e-01 9.44e-01f  1\n",
      "  28 -3.5758832e-06 0.00e+00 1.52e-05  -8.6 1.06e-03    -  9.13e-01 8.99e-01f  1\n",
      "  29 -7.2442109e-06 0.00e+00 4.62e-14  -8.6 6.33e-04    -  1.00e+00 1.00e+00f  1\n",
      "iter    objective    inf_pr   inf_du lg(mu)  ||d||  lg(rg) alpha_du alpha_pr  ls\n",
      "  30 -7.3062452e-06 0.00e+00 5.68e-14  -8.6 3.06e-04    -  1.00e+00 1.00e+00h  1\n",
      "  31 -8.0595216e-06 0.00e+00 1.18e-07 -12.9 1.47e-04    -  9.89e-01 9.89e-01h  1\n",
      "  32 -8.0708009e-06 0.00e+00 4.97e-14 -12.9 4.92e-05    -  1.00e+00 1.00e+00f  1\n",
      "  33 -8.0711275e-06 1.05e-15 4.62e-14 -12.9 6.76e-06    -  1.00e+00 1.00e+00h  1\n",
      "  34 -8.0711357e-06 0.00e+00 4.62e-14 -12.9 1.40e-07    -  1.00e+00 1.00e+00h  1\n",
      "\n",
      "Number of Iterations....: 34\n",
      "\n",
      "                                   (scaled)                 (unscaled)\n",
      "Objective...............:  -8.0711357099971792e-06   -8.0711357099971792e-06\n",
      "Dual infeasibility......:   4.6185277824406512e-14    4.6185277824406512e-14\n",
      "Constraint violation....:   0.0000000000000000e+00    0.0000000000000000e+00\n",
      "Complementarity.........:   1.2855258010628870e-13    1.2855258010628870e-13\n",
      "Overall NLP error.......:   1.2855258010628870e-13    1.2855258010628870e-13\n",
      "\n",
      "\n",
      "Number of objective function evaluations             = 35\n",
      "Number of objective gradient evaluations             = 35\n",
      "Number of equality constraint evaluations            = 0\n",
      "Number of inequality constraint evaluations          = 35\n",
      "Number of equality constraint Jacobian evaluations   = 0\n",
      "Number of inequality constraint Jacobian evaluations = 35\n",
      "Number of Lagrangian Hessian evaluations             = 34\n",
      "Total CPU secs in IPOPT (w/o function evaluations)   =      0.161\n",
      "Total CPU secs in NLP function evaluations           =      0.093\n",
      "\n",
      "EXIT: Optimal Solution Found.\n",
      "  5.979112 seconds (15.40 M allocations: 753.511 MiB, 9.91% gc time)\n"
     ]
    },
    {
     "data": {
      "text/plain": [
       ":Optimal"
      ]
     },
     "execution_count": 19,
     "metadata": {},
     "output_type": "execute_result"
    }
   ],
   "source": [
    "@time res = solve(m)"
   ]
  },
  {
   "cell_type": "code",
   "execution_count": 20,
   "metadata": {},
   "outputs": [
    {
     "data": {
      "image/svg+xml": [
       "<?xml version=\"1.0\" encoding=\"utf-8\"?>\n",
       "<svg xmlns=\"http://www.w3.org/2000/svg\" xmlns:xlink=\"http://www.w3.org/1999/xlink\" width=\"600\" height=\"400\" viewBox=\"0 0 2400 1600\">\n",
       "<defs>\n",
       "  <clipPath id=\"clip6400\">\n",
       "    <rect x=\"0\" y=\"0\" width=\"2000\" height=\"2000\"/>\n",
       "  </clipPath>\n",
       "</defs>\n",
       "<defs>\n",
       "  <clipPath id=\"clip6401\">\n",
       "    <rect x=\"0\" y=\"0\" width=\"2400\" height=\"1600\"/>\n",
       "  </clipPath>\n",
       "</defs>\n",
       "<polygon clip-path=\"url(#clip6401)\" points=\"\n",
       "0,1600 2400,1600 2400,0 0,0 \n",
       "  \" fill=\"#ffffff\" fill-rule=\"evenodd\" fill-opacity=\"1\"/>\n",
       "<defs>\n",
       "  <clipPath id=\"clip6402\">\n",
       "    <rect x=\"480\" y=\"0\" width=\"1681\" height=\"1600\"/>\n",
       "  </clipPath>\n",
       "</defs>\n",
       "<polygon clip-path=\"url(#clip6401)\" points=\"\n",
       "148.013,1503.47 2321.26,1503.47 2321.26,125.984 148.013,125.984 \n",
       "  \" fill=\"#ffffff\" fill-rule=\"evenodd\" fill-opacity=\"1\"/>\n",
       "<defs>\n",
       "  <clipPath id=\"clip6403\">\n",
       "    <rect x=\"148\" y=\"125\" width=\"2174\" height=\"1378\"/>\n",
       "  </clipPath>\n",
       "</defs>\n",
       "<polyline clip-path=\"url(#clip6403)\" style=\"stroke:#000000; stroke-width:2; stroke-opacity:0.1; fill:none\" points=\"\n",
       "  202.663,1503.47 202.663,125.984 \n",
       "  \"/>\n",
       "<polyline clip-path=\"url(#clip6403)\" style=\"stroke:#000000; stroke-width:2; stroke-opacity:0.1; fill:none\" points=\"\n",
       "  888.36,1503.47 888.36,125.984 \n",
       "  \"/>\n",
       "<polyline clip-path=\"url(#clip6403)\" style=\"stroke:#000000; stroke-width:2; stroke-opacity:0.1; fill:none\" points=\"\n",
       "  1574.06,1503.47 1574.06,125.984 \n",
       "  \"/>\n",
       "<polyline clip-path=\"url(#clip6403)\" style=\"stroke:#000000; stroke-width:2; stroke-opacity:0.1; fill:none\" points=\"\n",
       "  2259.75,1503.47 2259.75,125.984 \n",
       "  \"/>\n",
       "<polyline clip-path=\"url(#clip6403)\" style=\"stroke:#000000; stroke-width:2; stroke-opacity:0.1; fill:none\" points=\"\n",
       "  148.013,1464.49 2321.26,1464.49 \n",
       "  \"/>\n",
       "<polyline clip-path=\"url(#clip6403)\" style=\"stroke:#000000; stroke-width:2; stroke-opacity:0.1; fill:none\" points=\"\n",
       "  148.013,1128.79 2321.26,1128.79 \n",
       "  \"/>\n",
       "<polyline clip-path=\"url(#clip6403)\" style=\"stroke:#000000; stroke-width:2; stroke-opacity:0.1; fill:none\" points=\"\n",
       "  148.013,793.083 2321.26,793.083 \n",
       "  \"/>\n",
       "<polyline clip-path=\"url(#clip6403)\" style=\"stroke:#000000; stroke-width:2; stroke-opacity:0.1; fill:none\" points=\"\n",
       "  148.013,457.38 2321.26,457.38 \n",
       "  \"/>\n",
       "<polyline clip-path=\"url(#clip6401)\" style=\"stroke:#000000; stroke-width:4; stroke-opacity:1; fill:none\" points=\"\n",
       "  148.013,1503.47 2321.26,1503.47 \n",
       "  \"/>\n",
       "<polyline clip-path=\"url(#clip6401)\" style=\"stroke:#000000; stroke-width:4; stroke-opacity:1; fill:none\" points=\"\n",
       "  148.013,1503.47 148.013,125.984 \n",
       "  \"/>\n",
       "<polyline clip-path=\"url(#clip6401)\" style=\"stroke:#000000; stroke-width:4; stroke-opacity:1; fill:none\" points=\"\n",
       "  202.663,1503.47 202.663,1482.81 \n",
       "  \"/>\n",
       "<polyline clip-path=\"url(#clip6401)\" style=\"stroke:#000000; stroke-width:4; stroke-opacity:1; fill:none\" points=\"\n",
       "  888.36,1503.47 888.36,1482.81 \n",
       "  \"/>\n",
       "<polyline clip-path=\"url(#clip6401)\" style=\"stroke:#000000; stroke-width:4; stroke-opacity:1; fill:none\" points=\"\n",
       "  1574.06,1503.47 1574.06,1482.81 \n",
       "  \"/>\n",
       "<polyline clip-path=\"url(#clip6401)\" style=\"stroke:#000000; stroke-width:4; stroke-opacity:1; fill:none\" points=\"\n",
       "  2259.75,1503.47 2259.75,1482.81 \n",
       "  \"/>\n",
       "<polyline clip-path=\"url(#clip6401)\" style=\"stroke:#000000; stroke-width:4; stroke-opacity:1; fill:none\" points=\"\n",
       "  148.013,1464.49 180.612,1464.49 \n",
       "  \"/>\n",
       "<polyline clip-path=\"url(#clip6401)\" style=\"stroke:#000000; stroke-width:4; stroke-opacity:1; fill:none\" points=\"\n",
       "  148.013,1128.79 180.612,1128.79 \n",
       "  \"/>\n",
       "<polyline clip-path=\"url(#clip6401)\" style=\"stroke:#000000; stroke-width:4; stroke-opacity:1; fill:none\" points=\"\n",
       "  148.013,793.083 180.612,793.083 \n",
       "  \"/>\n",
       "<polyline clip-path=\"url(#clip6401)\" style=\"stroke:#000000; stroke-width:4; stroke-opacity:1; fill:none\" points=\"\n",
       "  148.013,457.38 180.612,457.38 \n",
       "  \"/>\n",
       "<g clip-path=\"url(#clip6401)\">\n",
       "<text style=\"fill:#000000; fill-opacity:1; font-family:Arial,Helvetica Neue,Helvetica,sans-serif; font-size:48px; text-anchor:middle;\" transform=\"rotate(0, 202.663, 1557.47)\" x=\"202.663\" y=\"1557.47\">0</text>\n",
       "</g>\n",
       "<g clip-path=\"url(#clip6401)\">\n",
       "<text style=\"fill:#000000; fill-opacity:1; font-family:Arial,Helvetica Neue,Helvetica,sans-serif; font-size:48px; text-anchor:middle;\" transform=\"rotate(0, 888.36, 1557.47)\" x=\"888.36\" y=\"1557.47\">100</text>\n",
       "</g>\n",
       "<g clip-path=\"url(#clip6401)\">\n",
       "<text style=\"fill:#000000; fill-opacity:1; font-family:Arial,Helvetica Neue,Helvetica,sans-serif; font-size:48px; text-anchor:middle;\" transform=\"rotate(0, 1574.06, 1557.47)\" x=\"1574.06\" y=\"1557.47\">200</text>\n",
       "</g>\n",
       "<g clip-path=\"url(#clip6401)\">\n",
       "<text style=\"fill:#000000; fill-opacity:1; font-family:Arial,Helvetica Neue,Helvetica,sans-serif; font-size:48px; text-anchor:middle;\" transform=\"rotate(0, 2259.75, 1557.47)\" x=\"2259.75\" y=\"1557.47\">300</text>\n",
       "</g>\n",
       "<g clip-path=\"url(#clip6401)\">\n",
       "<text style=\"fill:#000000; fill-opacity:1; font-family:Arial,Helvetica Neue,Helvetica,sans-serif; font-size:48px; text-anchor:end;\" transform=\"rotate(0, 124.013, 1481.99)\" x=\"124.013\" y=\"1481.99\">10</text>\n",
       "</g>\n",
       "<g clip-path=\"url(#clip6401)\">\n",
       "<text style=\"fill:#000000; fill-opacity:1; font-family:Arial,Helvetica Neue,Helvetica,sans-serif; font-size:48px; text-anchor:end;\" transform=\"rotate(0, 124.013, 1146.29)\" x=\"124.013\" y=\"1146.29\">12</text>\n",
       "</g>\n",
       "<g clip-path=\"url(#clip6401)\">\n",
       "<text style=\"fill:#000000; fill-opacity:1; font-family:Arial,Helvetica Neue,Helvetica,sans-serif; font-size:48px; text-anchor:end;\" transform=\"rotate(0, 124.013, 810.583)\" x=\"124.013\" y=\"810.583\">14</text>\n",
       "</g>\n",
       "<g clip-path=\"url(#clip6401)\">\n",
       "<text style=\"fill:#000000; fill-opacity:1; font-family:Arial,Helvetica Neue,Helvetica,sans-serif; font-size:48px; text-anchor:end;\" transform=\"rotate(0, 124.013, 474.88)\" x=\"124.013\" y=\"474.88\">16</text>\n",
       "</g>\n",
       "<g clip-path=\"url(#clip6401)\">\n",
       "<text style=\"fill:#000000; fill-opacity:1; font-family:Arial,Helvetica Neue,Helvetica,sans-serif; font-size:84px; text-anchor:middle;\" transform=\"rotate(0, 1234.64, 73.2)\" x=\"1234.64\" y=\"73.2\">Value Function for Vanilla Model</text>\n",
       "</g>\n",
       "<polyline clip-path=\"url(#clip6403)\" style=\"stroke:#009af9; stroke-width:4; stroke-opacity:1; fill:none\" points=\"\n",
       "  209.52,1464.49 216.377,1464.49 223.234,1464.49 230.091,1464.49 236.948,1464.49 243.805,1464.49 250.662,1464.49 257.519,1464.49 264.376,1464.49 271.233,1464.49 \n",
       "  278.09,1464.49 284.946,1464.49 291.803,1464.49 298.66,1464.49 305.517,1464.49 312.374,1464.49 319.231,1464.49 326.088,1464.49 332.945,1464.49 339.802,1464.49 \n",
       "  346.659,1464.49 353.516,1464.49 360.373,1464.49 367.23,1464.49 374.087,1464.49 380.944,1464.49 387.801,1464.49 394.658,1464.49 401.515,1464.49 408.372,1464.49 \n",
       "  415.229,1464.49 422.086,1464.49 428.943,1464.49 435.8,1464.49 442.657,1464.49 449.514,1464.49 456.371,1464.49 463.228,1464.49 470.085,1464.49 476.942,1464.49 \n",
       "  483.799,1464.49 490.655,1464.49 497.512,1464.49 504.369,1464.49 511.226,1464.49 518.083,1464.49 524.94,1464.49 531.797,1464.49 538.654,1464.49 545.511,1464.49 \n",
       "  552.368,1464.49 559.225,1464.49 566.082,1464.49 572.939,1464.49 579.796,1464.49 586.653,1464.49 593.51,1464.49 600.367,1464.49 607.224,1464.49 614.081,1464.49 \n",
       "  620.938,1464.49 627.795,1464.49 634.652,1464.49 641.509,1464.49 648.366,1464.49 655.223,1464.49 662.08,1464.49 668.937,1464.49 675.794,1464.49 682.651,1464.49 \n",
       "  689.508,1464.49 696.364,1464.49 703.221,1464.32 710.078,1463.98 716.935,1463.47 723.792,1462.8 730.649,1461.96 737.506,1460.97 744.363,1459.82 751.22,1458.52 \n",
       "  758.077,1457.08 764.934,1455.49 771.791,1453.76 778.648,1451.9 785.505,1449.9 792.362,1447.76 799.219,1445.5 806.076,1443.12 812.933,1440.61 819.79,1437.99 \n",
       "  826.647,1435.24 833.504,1432.39 840.361,1429.42 847.218,1426.34 854.075,1423.16 860.932,1419.87 867.789,1416.48 874.646,1412.99 881.503,1409.41 888.36,1405.73 \n",
       "  895.217,1401.96 902.073,1398.1 908.93,1394.15 915.787,1390.11 922.644,1385.99 929.501,1381.79 936.358,1377.51 943.215,1373.15 950.072,1368.72 956.929,1364.21 \n",
       "  963.786,1359.63 970.643,1354.98 977.5,1350.26 984.357,1345.48 991.214,1340.63 998.071,1335.71 1004.93,1330.73 1011.78,1325.69 1018.64,1320.6 1025.5,1315.44 \n",
       "  1032.36,1310.23 1039.21,1304.97 1046.07,1299.65 1052.93,1294.28 1059.78,1288.86 1066.64,1283.39 1073.5,1277.87 1080.35,1272.31 1087.21,1266.7 1094.07,1261.05 \n",
       "  1100.93,1255.35 1107.78,1249.61 1114.64,1243.84 1121.5,1238.02 1128.35,1232.16 1135.21,1226.27 1142.07,1220.34 1148.92,1214.38 1155.78,1208.38 1162.64,1202.35 \n",
       "  1169.5,1196.28 1176.35,1190.19 1183.21,1184.07 1190.07,1177.91 1196.92,1171.73 1203.78,1165.52 1210.64,1159.28 1217.49,1153.02 1224.35,1146.73 1231.21,1140.42 \n",
       "  1238.06,1134.09 1244.92,1127.73 1251.78,1121.35 1258.64,1114.95 1265.49,1108.53 1272.35,1102.08 1279.21,1095.62 1286.06,1089.15 1292.92,1082.65 1299.78,1076.14 \n",
       "  1306.63,1069.61 1313.49,1063.06 1320.35,1056.5 1327.21,1049.93 1334.06,1043.34 1340.92,1036.74 1347.78,1030.12 1354.63,1023.49 1361.49,1016.85 1368.35,1010.2 \n",
       "  1375.2,1003.54 1382.06,996.871 1388.92,990.19 1395.78,983.499 1402.63,976.8 1409.49,970.093 1416.35,963.378 1423.2,956.656 1430.06,949.926 1436.92,943.19 \n",
       "  1443.77,936.448 1450.63,929.7 1457.49,922.947 1464.34,916.189 1471.2,909.426 1478.06,902.659 1484.92,895.889 1491.77,889.115 1498.63,882.337 1505.49,875.557 \n",
       "  1512.34,868.775 1519.2,861.99 1526.06,855.203 1532.91,848.415 1539.77,841.626 1546.63,834.836 1553.49,828.045 1560.34,821.254 1567.2,814.463 1574.06,807.671 \n",
       "  1580.91,800.881 1587.77,794.091 1594.63,787.302 1601.48,780.514 1608.34,773.728 1615.2,766.943 1622.05,760.16 1628.91,753.379 1635.77,746.601 1642.63,739.825 \n",
       "  1649.48,733.052 1656.34,726.282 1663.2,719.515 1670.05,712.752 1676.91,705.991 1683.77,699.235 1690.62,692.483 1697.48,685.734 1704.34,678.99 1711.2,672.25 \n",
       "  1718.05,665.515 1724.91,658.784 1731.77,652.058 1738.62,645.338 1745.48,638.622 1752.34,631.912 1759.19,625.207 1766.05,618.508 1772.91,611.814 1779.77,605.126 \n",
       "  1786.62,598.444 1793.48,591.769 1800.34,585.099 1807.19,578.436 1814.05,571.779 1820.91,565.128 1827.76,558.485 1834.62,551.847 1841.48,545.217 1848.33,538.594 \n",
       "  1855.19,531.977 1862.05,525.368 1868.91,518.766 1875.76,512.171 1882.62,505.583 1889.48,499.003 1896.33,492.431 1903.19,485.866 1910.05,479.308 1916.9,472.759 \n",
       "  1923.76,466.217 1930.62,459.682 1937.48,453.156 1944.33,446.638 1951.19,440.128 1958.05,433.626 1964.9,427.132 1971.76,420.646 1978.62,414.169 1985.47,407.699 \n",
       "  1992.33,401.239 1999.19,394.786 2006.05,388.342 2012.9,381.906 2019.76,375.479 2026.62,369.061 2033.47,362.651 2040.33,356.25 2047.19,349.857 2054.04,343.473 \n",
       "  2060.9,337.098 2067.76,330.732 2074.61,324.374 2081.47,318.025 2088.33,311.685 2095.19,305.354 2102.04,299.032 2108.9,292.719 2115.76,286.414 2122.61,280.119 \n",
       "  2129.47,273.833 2136.33,267.555 2143.18,261.287 2150.04,255.029 2156.9,248.78 2163.76,242.541 2170.61,236.312 2177.47,230.096 2184.33,223.893 2191.18,217.707 \n",
       "  2198.04,211.543 2204.9,205.411 2211.75,199.325 2218.61,193.312 2225.47,187.416 2232.32,181.709 2239.18,176.318 2246.04,171.453 2252.9,167.469 2259.75,164.97 \n",
       "  \n",
       "  \"/>\n",
       "</svg>\n"
      ]
     },
     "execution_count": 20,
     "metadata": {},
     "output_type": "execute_result"
    }
   ],
   "source": [
    "plot(getvalue(z) + S, legend = false, title = \"Value Function for Vanilla Model\")"
   ]
  },
  {
   "cell_type": "markdown",
   "metadata": {},
   "source": [
    "\n",
    "### Benchmarking\n",
    "------"
   ]
  },
  {
   "cell_type": "code",
   "execution_count": 21,
   "metadata": {},
   "outputs": [],
   "source": [
    "using Suppressor"
   ]
  },
  {
   "cell_type": "code",
   "execution_count": 22,
   "metadata": {},
   "outputs": [
    {
     "data": {
      "text/plain": [
       "LCP_1 (generic function with 1 method)"
      ]
     },
     "execution_count": 22,
     "metadata": {},
     "output_type": "execute_result"
    }
   ],
   "source": [
    "function LCP_1()\n",
    "    sp = StoppingProblem()\n",
    "    @unpack A, B, S, q = LCP_objects(sp)\n",
    "    f = z -> B*z + q\n",
    "    n = sp.M\n",
    "    lb = zeros(n)\n",
    "    ub = 1000*ones(n) # a reasonable guess?\n",
    "    @suppress options(convergence_tolerance = 1e-12, output = :no, time_limit = 600) # 10 minute budget\n",
    "    @suppress solveLCP(f, lb, ub);\n",
    "end"
   ]
  },
  {
   "cell_type": "code",
   "execution_count": 23,
   "metadata": {},
   "outputs": [
    {
     "data": {
      "text/plain": [
       "LCP_2 (generic function with 1 method)"
      ]
     },
     "execution_count": 23,
     "metadata": {},
     "output_type": "execute_result"
    }
   ],
   "source": [
    "function LCP_2()\n",
    "    sp = StoppingProblem()\n",
    "    @unpack A, B, S, q = LCP_objects(sp)\n",
    "    f = z -> B*z + q\n",
    "    n = sp.M\n",
    "    lb = zeros(n)\n",
    "    ub = 1000*ones(n) # a reasonable guess?\n",
    "    function f!(F, z)\n",
    "        F .= B*z + q # in place assignment\n",
    "    end\n",
    "    r = mcpsolve(f!, lb, ub,\n",
    "                zeros(n), # initial condition\n",
    "                reformulation = :smooth, # uses a so-called \"Fischer function\" to smooth out the problem\n",
    "                autodiff = :forward,\n",
    "                ftol = 1e-12)\n",
    "end"
   ]
  },
  {
   "cell_type": "code",
   "execution_count": 24,
   "metadata": {},
   "outputs": [
    {
     "data": {
      "text/plain": [
       "LCP_3 (generic function with 1 method)"
      ]
     },
     "execution_count": 24,
     "metadata": {},
     "output_type": "execute_result"
    }
   ],
   "source": [
    "function LCP_3()\n",
    "    sp = StoppingProblem()\n",
    "    @unpack A, B, S, q = LCP_objects(sp)\n",
    "    f = z -> B*z + q \n",
    "    n = sp.M\n",
    "    m = Model(solver = IpoptSolver(tol=1e-12))\n",
    "    @variable(m, z[1:n])\n",
    "    @constraint(m, z .>= 0)\n",
    "    @constraint(m, B*z + q .>= 0)\n",
    "    @objective(m, Min, z' * B * z + z' * q)\n",
    "    @suppress solve(m);\n",
    "end"
   ]
  },
  {
   "cell_type": "code",
   "execution_count": 25,
   "metadata": {},
   "outputs": [
    {
     "name": "stdout",
     "output_type": "stream",
     "text": [
      "  4.845 ms (743 allocations: 2.68 MiB)\n"
     ]
    },
    {
     "data": {
      "text/plain": [
       "(:Solved, [0.0, 0.0, 0.0, 0.0, 0.0, 0.0, 0.0, 0.0, 0.0, 0.0  …  7.46461, 7.50114, 7.5374, 7.57322, 7.60835, 7.64235, 7.67447, 7.70346, 7.72719, 7.74208], [0.4, 0.384627, 0.371073, 0.358815, 0.34754, 0.337042, 0.327182, 0.317854, 0.308981, 0.300502  …  -4.77396e-15, -2.66454e-15, -2.66454e-15, -5.21805e-15, -6.66134e-15, -4.77396e-15, 1.86517e-14, 7.77156e-16, -8.32667e-15, 0.0])"
      ]
     },
     "execution_count": 25,
     "metadata": {},
     "output_type": "execute_result"
    }
   ],
   "source": [
    "using BenchmarkTools\n",
    "@btime LCP_1()"
   ]
  },
  {
   "cell_type": "code",
   "execution_count": 26,
   "metadata": {},
   "outputs": [
    {
     "name": "stdout",
     "output_type": "stream",
     "text": [
      "  70.504 ms (7714 allocations: 42.31 MiB)\n"
     ]
    },
    {
     "data": {
      "text/plain": [
       "Results of Nonlinear Solver Algorithm\n",
       " * Algorithm: Trust-region with dogleg and autoscaling\n",
       " * Starting Point: [0.0, 0.0, 0.0, 0.0, 0.0, 0.0, 0.0, 0.0, 0.0, 0.0, 0.0, 0.0, 0.0, 0.0, 0.0, 0.0, 0.0, 0.0, 0.0, 0.0, 0.0, 0.0, 0.0, 0.0, 0.0, 0.0, 0.0, 0.0, 0.0, 0.0, 0.0, 0.0, 0.0, 0.0, 0.0, 0.0, 0.0, 0.0, 0.0, 0.0, 0.0, 0.0, 0.0, 0.0, 0.0, 0.0, 0.0, 0.0, 0.0, 0.0, 0.0, 0.0, 0.0, 0.0, 0.0, 0.0, 0.0, 0.0, 0.0, 0.0, 0.0, 0.0, 0.0, 0.0, 0.0, 0.0, 0.0, 0.0, 0.0, 0.0, 0.0, 0.0, 0.0, 0.0, 0.0, 0.0, 0.0, 0.0, 0.0, 0.0, 0.0, 0.0, 0.0, 0.0, 0.0, 0.0, 0.0, 0.0, 0.0, 0.0, 0.0, 0.0, 0.0, 0.0, 0.0, 0.0, 0.0, 0.0, 0.0, 0.0, 0.0, 0.0, 0.0, 0.0, 0.0, 0.0, 0.0, 0.0, 0.0, 0.0, 0.0, 0.0, 0.0, 0.0, 0.0, 0.0, 0.0, 0.0, 0.0, 0.0, 0.0, 0.0, 0.0, 0.0, 0.0, 0.0, 0.0, 0.0, 0.0, 0.0, 0.0, 0.0, 0.0, 0.0, 0.0, 0.0, 0.0, 0.0, 0.0, 0.0, 0.0, 0.0, 0.0, 0.0, 0.0, 0.0, 0.0, 0.0, 0.0, 0.0, 0.0, 0.0, 0.0, 0.0, 0.0, 0.0, 0.0, 0.0, 0.0, 0.0, 0.0, 0.0, 0.0, 0.0, 0.0, 0.0, 0.0, 0.0, 0.0, 0.0, 0.0, 0.0, 0.0, 0.0, 0.0, 0.0, 0.0, 0.0, 0.0, 0.0, 0.0, 0.0, 0.0, 0.0, 0.0, 0.0, 0.0, 0.0, 0.0, 0.0, 0.0, 0.0, 0.0, 0.0, 0.0, 0.0, 0.0, 0.0, 0.0, 0.0, 0.0, 0.0, 0.0, 0.0, 0.0, 0.0, 0.0, 0.0, 0.0, 0.0, 0.0, 0.0, 0.0, 0.0, 0.0, 0.0, 0.0, 0.0, 0.0, 0.0, 0.0, 0.0, 0.0, 0.0, 0.0, 0.0, 0.0, 0.0, 0.0, 0.0, 0.0, 0.0, 0.0, 0.0, 0.0, 0.0, 0.0, 0.0, 0.0, 0.0, 0.0, 0.0, 0.0, 0.0, 0.0, 0.0, 0.0, 0.0, 0.0, 0.0, 0.0, 0.0, 0.0, 0.0, 0.0, 0.0, 0.0, 0.0, 0.0, 0.0, 0.0, 0.0, 0.0, 0.0, 0.0, 0.0, 0.0, 0.0, 0.0, 0.0, 0.0, 0.0, 0.0, 0.0, 0.0, 0.0, 0.0, 0.0, 0.0, 0.0, 0.0, 0.0, 0.0, 0.0, 0.0, 0.0, 0.0, 0.0, 0.0, 0.0, 0.0, 0.0, 0.0, 0.0, 0.0, 0.0, 0.0, 0.0, 0.0, 0.0]\n",
       " * Zero: [0.0, 0.0, 0.0, 0.0, 0.0, 0.0, 0.0, 0.0, 0.0, 0.0, 0.0, 0.0, 0.0, 0.0, 0.0, 0.0, 0.0, 0.0, 0.0, 0.0, 0.0, 0.0, 0.0, 0.0, 0.0, 0.0, 0.0, 0.0, 0.0, 0.0, 0.0, 0.0, 0.0, 0.0, 0.0, 0.0, 0.0, 0.0, 0.0, 0.0, 0.0, 0.0, 0.0, 0.0, 0.0, 0.0, 0.0, 0.0, 0.0, 0.0, 0.0, 0.0, 0.0, 0.0, 0.0, 0.0, 0.0, 0.0, 0.0, 0.0, 0.0, 0.0, 0.0, 0.0, 0.0, 0.0, 0.0, -2.18279e-20, 5.14093e-20, 8.17231e-19, 7.73909e-19, 1.07909e-20, 0.00100298, 0.0030337, 0.00606908, 0.0100866, 0.015064, 0.0209799, 0.0278129, 0.0355425, 0.0441483, 0.0536104, 0.0639096, 0.0750267, 0.0869432, 0.0996407, 0.113102, 0.127308, 0.142244, 0.157891, 0.174234, 0.191256, 0.208943, 0.227277, 0.246245, 0.265832, 0.286022, 0.306803, 0.328159, 0.350078, 0.372547, 0.395551, 0.419079, 0.443118, 0.467655, 0.49268, 0.518179, 0.544141, 0.570556, 0.597412, 0.624698, 0.652404, 0.680519, 0.709034, 0.737938, 0.767221, 0.796875, 0.826889, 0.857254, 0.887962, 0.919004, 0.950371, 0.982054, 1.01405, 1.04634, 1.07892, 1.11179, 1.14494, 1.17836, 1.21203, 1.24597, 1.28015, 1.31457, 1.34923, 1.38412, 1.41922, 1.45455, 1.49008, 1.52581, 1.56174, 1.59787, 1.63418, 1.67066, 1.70733, 1.74416, 1.78116, 1.81831, 1.85562, 1.89308, 1.93069, 1.96843, 2.00631, 2.04432, 2.08245, 2.12071, 2.15908, 2.19757, 2.23616, 2.27487, 2.31367, 2.35257, 2.39156, 2.43065, 2.46982, 2.50907, 2.54841, 2.58782, 2.6273, 2.66686, 2.70648, 2.74616, 2.78591, 2.82571, 2.86557, 2.90548, 2.94544, 2.98544, 3.02549, 3.06558, 3.10572, 3.14588, 3.18608, 3.22632, 3.26658, 3.30687, 3.34718, 3.38752, 3.42788, 3.46826, 3.50865, 3.54906, 3.58948, 3.62991, 3.67035, 3.7108, 3.75125, 3.79171, 3.83217, 3.87263, 3.91309, 3.95354, 3.994, 4.03444, 4.07488, 4.11531, 4.15573, 4.19614, 4.23654, 4.27692, 4.31729, 4.35764, 4.39798, 4.43829, 4.47859, 4.51886, 4.55911, 4.59934, 4.63955, 4.67973, 4.71988, 4.76001, 4.80011, 4.84018, 4.88022, 4.92022, 4.9602, 5.00015, 5.04006, 5.07994, 5.11978, 5.15959, 5.19936, 5.2391, 5.27879, 5.31845, 5.35807, 5.39766, 5.4372, 5.4767, 5.51616, 5.55558, 5.59495, 5.63429, 5.67358, 5.71282, 5.75202, 5.79118, 5.83029, 5.86936, 5.90838, 5.94736, 5.98628, 6.02516, 6.064, 6.10278, 6.14152, 6.18021, 6.21885, 6.25744, 6.29598, 6.33447, 6.37291, 6.41131, 6.44965, 6.48794, 6.52618, 6.56436, 6.6025, 6.64058, 6.67862, 6.7166, 6.75453, 6.7924, 6.83023, 6.868, 6.90572, 6.94338, 6.981, 7.01856, 7.05606, 7.09351, 7.13091, 7.16825, 7.20554, 7.24277, 7.27994, 7.31704, 7.35408, 7.39103, 7.42789, 7.46461, 7.50114, 7.5374, 7.57322, 7.60835, 7.64235, 7.67447, 7.70346, 7.72719, 7.74208]\n",
       " * Inf-norm of residuals: 0.000000\n",
       " * Iterations: 17\n",
       " * Convergence: true\n",
       "   * |x - x'| < 0.0e+00: false\n",
       "   * |f(x)| < 1.0e-12: true\n",
       " * Function Calls (f): 18\n",
       " * Jacobian Calls (df/dx): 18"
      ]
     },
     "execution_count": 26,
     "metadata": {},
     "output_type": "execute_result"
    }
   ],
   "source": [
    "@btime LCP_2()"
   ]
  },
  {
   "cell_type": "code",
   "execution_count": 27,
   "metadata": {},
   "outputs": [
    {
     "name": "stdout",
     "output_type": "stream",
     "text": [
      "  56.998 ms (22598 allocations: 2.20 MiB)\n"
     ]
    },
    {
     "data": {
      "text/plain": [
       ":Optimal"
      ]
     },
     "execution_count": 27,
     "metadata": {},
     "output_type": "execute_result"
    }
   ],
   "source": [
    "@btime LCP_3()"
   ]
  }
 ],
 "metadata": {
  "kernelspec": {
   "display_name": "Julia 1.1.0",
   "language": "julia",
   "name": "julia-1.1"
  },
  "language_info": {
   "file_extension": ".jl",
   "mimetype": "application/julia",
   "name": "julia",
   "version": "1.1.0"
  }
 },
 "nbformat": 4,
 "nbformat_minor": 2
}
