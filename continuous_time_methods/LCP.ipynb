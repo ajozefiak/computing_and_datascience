{
 "cells": [
  {
   "cell_type": "markdown",
   "metadata": {},
   "source": [
    "## Overview\n",
    "\n",
    "The goal of this notebook is to illustrate and compare different LCP solutions to Ben Moll's [vanilla example](http://www.princeton.edu/~moll/HACTproject/option_simple.pdf).\n",
    "\n",
    "Here is a summary of the methods tried and relevant information.\n",
    "\n",
    "| Method | Successful? | Time | \n",
    "|--------|----------|--------|\n",
    "| `PATHSolver.jl` | Yes | 0.3 seconds (`1e-12` tolerance, second run) |\n",
    "| `Complementarity.jl` | No (JuMP) | N/A (Note: Calls to `PATHSolver` for solution) | \n",
    "| `NLsolve.jl` | Yes | 0.2 seconds (`ftol = 1e-12`, second run) | \n",
    "| `VariationalInequality.jl` | No (JuMP) | N/A | "
   ]
  },
  {
   "cell_type": "markdown",
   "metadata": {},
   "source": [
    "#### Setup\n",
    "\n",
    "Let's pull parameters from the [MATLAB code](https://github.com/econtoolkit/continuous_time_methods/blob/master/matlab/tests/simple_optimal_stopping_diffusion_test.m)."
   ]
  },
  {
   "cell_type": "code",
   "execution_count": 22,
   "metadata": {},
   "outputs": [
    {
     "data": {
      "text/plain": [
       "#22 (generic function with 2 methods)"
      ]
     },
     "execution_count": 22,
     "metadata": {},
     "output_type": "execute_result"
    }
   ],
   "source": [
    "using Parameters, LinearAlgebra\n",
    "\n",
    "StoppingProblem = @with_kw (μ_bar = -0.01, \n",
    "                            σ_bar = 0.01, \n",
    "                            S_bar = 10.0, \n",
    "                            γ = 0.5, # u(x) = x^γ\n",
    "                            ρ = 0.05, # discount rate\n",
    "                            x_min = 0.01,\n",
    "                            x_max = 1.0,\n",
    "                            M = 300) # num of grid points "
   ]
  },
  {
   "cell_type": "markdown",
   "metadata": {},
   "source": [
    "Let's also copy the discretization method from [PTW](https://github.com/jlperla/PerlaTonettiWaugh.jl/commits/master/src/utils/diffusionoperators.jl). This is for a reflecting barrier at each boundary."
   ]
  },
  {
   "cell_type": "code",
   "execution_count": 23,
   "metadata": {},
   "outputs": [
    {
     "data": {
      "text/plain": [
       "diffusionoperators (generic function with 1 method)"
      ]
     },
     "execution_count": 23,
     "metadata": {},
     "output_type": "execute_result"
    }
   ],
   "source": [
    "# Diffusion operators with regular grids\n",
    "function diffusionoperators(x::AbstractRange; ξ = 0.0) # ξ = 0.0 corresponds to the unrescaled case from PTW\n",
    "    Δ = step(x)\n",
    "    P = length(x)\n",
    "\n",
    "    dl_1 = zeros(P-1)\n",
    "    d_1 = -ones(P)\n",
    "    du_1 = ones(P-1)\n",
    "    d_1[end] = d_1[end] + du_1[end] * (1-ξ*Δ)\n",
    "    L_1_plus = Tridiagonal(dl_1, d_1, du_1)/Δ\n",
    "\n",
    "    dl_m1 = -ones(P-1)\n",
    "    d_m1 = ones(P)\n",
    "    du_m1 = zeros(P-1)\n",
    "    d_m1[1] = d_m1[1] + dl_m1[1] * (1+ξ*Δ)\n",
    "    L_1_minus = Tridiagonal(dl_m1, d_m1, du_m1)/Δ\n",
    "\n",
    "    dl_2 = ones(P-1)\n",
    "    d_2 = -2 * ones(P)\n",
    "    d_2[1] = -2 + (1+ξ*Δ)\n",
    "    d_2[end] = -2 + (1-ξ*Δ)\n",
    "    du_2 = ones(P-1)\n",
    "    L_2 = Tridiagonal(dl_2, d_2, du_2)/(Δ^2)\n",
    "\n",
    "    return (x, L_1_minus, L_1_plus, L_2)\n",
    "end"
   ]
  },
  {
   "cell_type": "markdown",
   "metadata": {},
   "source": [
    "### Approach 1: Simplest LCP with PATHSolver.jl\n",
    "\n",
    "Here, we consider the case with constrant drift $\\mu(x) = \\bar{\\mu}$, stopping value $S(x) \\equiv \\bar{S}$, and variance $\\sigma(x) = \\bar{\\sigma}$.\n",
    "\n",
    "First, here's a function to take model parameters and return LCP objects."
   ]
  },
  {
   "cell_type": "code",
   "execution_count": 24,
   "metadata": {},
   "outputs": [
    {
     "data": {
      "text/plain": [
       "LCP_objects (generic function with 1 method)"
      ]
     },
     "execution_count": 24,
     "metadata": {},
     "output_type": "execute_result"
    }
   ],
   "source": [
    "function LCP_objects(sp)\n",
    "    # setup work \n",
    "    @unpack μ_bar, σ_bar, S_bar, γ, ρ, x_min, x_max, M = sp \n",
    "    grid = range(x_min, x_max, length = M)\n",
    "    tmp, L_1_minus, L_1_plus, L_2 = diffusionoperators(grid) \n",
    "    μ = μ_bar \n",
    "    S = x -> S_bar \n",
    "    u = x -> x^γ # L36 from MATLAB\n",
    "    σ = σ_bar \n",
    "    # construct objects\n",
    "    A = μ * L_1_minus + 1/2 * σ^2 * L_2 # stochastic generator. use L_1_minus because drift is always negative\n",
    "    B = ρ*I - A \n",
    "    S_vec = S.(grid)\n",
    "    -u.(grid)\n",
    "    q_vec = -u.(grid) + B*S_vec\n",
    "    # return \n",
    "    return (A = A, B = B, S = S_vec, q = q_vec)\n",
    "end"
   ]
  },
  {
   "cell_type": "markdown",
   "metadata": {},
   "source": [
    "Let's generate these objects for the default case."
   ]
  },
  {
   "cell_type": "code",
   "execution_count": 25,
   "metadata": {},
   "outputs": [],
   "source": [
    "sp = StoppingProblem()\n",
    "@unpack A, B, S, q = LCP_objects(sp);"
   ]
  },
  {
   "cell_type": "markdown",
   "metadata": {},
   "source": [
    "This suggests the following linear complementarity problem:\n",
    "\n",
    "$$ \n",
    "\\begin{align}\n",
    "z'(\\mathbf{B}z + q) &= 0 \\\\ \n",
    "z &\\geq 0 \\\\ \n",
    "\\mathbf{B}z + q &\\geq 0\n",
    "\\end{align}\n",
    "$$\n",
    "\n",
    "Let's give it to PATHSolver."
   ]
  },
  {
   "cell_type": "code",
   "execution_count": 26,
   "metadata": {},
   "outputs": [],
   "source": [
    "using PATHSolver"
   ]
  },
  {
   "cell_type": "code",
   "execution_count": 27,
   "metadata": {},
   "outputs": [
    {
     "name": "stdout",
     "output_type": "stream",
     "text": [
      "  0.361767 seconds (973.14 k allocations: 49.686 MiB, 11.88% gc time)\n",
      "Reading options file path.opt\n",
      " > convergence_tolerance 1.0e-12\n",
      "Read of options file complete.\n",
      "\n",
      "300 row/cols, 898 non-zeros, 1.00% dense.\n",
      "\n",
      "Path 4.7.03 (Wed May 28 13:11:13 2014)\n",
      "Written by Todd Munson, Steven Dirkse, and Michael Ferris\n",
      "\n",
      " ** EXIT - solution found.\n"
     ]
    },
    {
     "data": {
      "text/plain": [
       "(:Solved, [0.0, 0.0, 0.0, 0.0, 0.0, 0.0, 0.0, 0.0, 0.0, 0.0  …  7.46461, 7.50114, 7.5374, 7.57322, 7.60835, 7.64235, 7.67447, 7.70346, 7.72719, 7.74208], [0.4, 0.384627, 0.371073, 0.358815, 0.34754, 0.337042, 0.327182, 0.317854, 0.308981, 0.300502  …  -4.77396e-15, -2.66454e-15, -2.66454e-15, -5.21805e-15, -6.66134e-15, 2.44249e-15, 4.44089e-15, 7.88258e-15, -1.22125e-15, 0.0])"
      ]
     },
     "execution_count": 27,
     "metadata": {},
     "output_type": "execute_result"
    }
   ],
   "source": [
    "f = z -> B*z + q\n",
    "n = sp.M\n",
    "lb = zeros(n)\n",
    "ub = 1000*ones(n) # a reasonable guess?\n",
    "options(convergence_tolerance = 1e-12, output = :no, time_limit = 600) # 10 minute budget\n",
    "@time exit_code, sol_z, sol_f = solveLCP(f, lb, ub)"
   ]
  },
  {
   "cell_type": "code",
   "execution_count": 28,
   "metadata": {},
   "outputs": [
    {
     "data": {
      "text/plain": [
       ":Solved"
      ]
     },
     "execution_count": 28,
     "metadata": {},
     "output_type": "execute_result"
    }
   ],
   "source": [
    "exit_code # this lets us handle logic like converged(exit_code) || error(\"foobar\")"
   ]
  },
  {
   "cell_type": "markdown",
   "metadata": {},
   "source": [
    "Now, we can unpack the solutions and plot them."
   ]
  },
  {
   "cell_type": "code",
   "execution_count": 29,
   "metadata": {},
   "outputs": [
    {
     "data": {
      "image/svg+xml": [
       "<?xml version=\"1.0\" encoding=\"utf-8\"?>\n",
       "<svg xmlns=\"http://www.w3.org/2000/svg\" xmlns:xlink=\"http://www.w3.org/1999/xlink\" width=\"600\" height=\"400\" viewBox=\"0 0 2400 1600\">\n",
       "<defs>\n",
       "  <clipPath id=\"clip3400\">\n",
       "    <rect x=\"0\" y=\"0\" width=\"2000\" height=\"2000\"/>\n",
       "  </clipPath>\n",
       "</defs>\n",
       "<defs>\n",
       "  <clipPath id=\"clip3401\">\n",
       "    <rect x=\"0\" y=\"0\" width=\"2400\" height=\"1600\"/>\n",
       "  </clipPath>\n",
       "</defs>\n",
       "<polygon clip-path=\"url(#clip3401)\" points=\"\n",
       "0,1600 2400,1600 2400,0 0,0 \n",
       "  \" fill=\"#ffffff\" fill-rule=\"evenodd\" fill-opacity=\"1\"/>\n",
       "<defs>\n",
       "  <clipPath id=\"clip3402\">\n",
       "    <rect x=\"480\" y=\"0\" width=\"1681\" height=\"1600\"/>\n",
       "  </clipPath>\n",
       "</defs>\n",
       "<polygon clip-path=\"url(#clip3401)\" points=\"\n",
       "211.005,1440.48 2321.26,1440.48 2321.26,125.984 211.005,125.984 \n",
       "  \" fill=\"#ffffff\" fill-rule=\"evenodd\" fill-opacity=\"1\"/>\n",
       "<defs>\n",
       "  <clipPath id=\"clip3403\">\n",
       "    <rect x=\"211\" y=\"125\" width=\"2111\" height=\"1315\"/>\n",
       "  </clipPath>\n",
       "</defs>\n",
       "<polyline clip-path=\"url(#clip3403)\" style=\"stroke:#000000; stroke-width:2; stroke-opacity:0.1; fill:none\" points=\"\n",
       "  264.071,1440.48 264.071,125.984 \n",
       "  \"/>\n",
       "<polyline clip-path=\"url(#clip3403)\" style=\"stroke:#000000; stroke-width:2; stroke-opacity:0.1; fill:none\" points=\"\n",
       "  929.893,1440.48 929.893,125.984 \n",
       "  \"/>\n",
       "<polyline clip-path=\"url(#clip3403)\" style=\"stroke:#000000; stroke-width:2; stroke-opacity:0.1; fill:none\" points=\"\n",
       "  1595.71,1440.48 1595.71,125.984 \n",
       "  \"/>\n",
       "<polyline clip-path=\"url(#clip3403)\" style=\"stroke:#000000; stroke-width:2; stroke-opacity:0.1; fill:none\" points=\"\n",
       "  2261.54,1440.48 2261.54,125.984 \n",
       "  \"/>\n",
       "<polyline clip-path=\"url(#clip3403)\" style=\"stroke:#000000; stroke-width:2; stroke-opacity:0.1; fill:none\" points=\"\n",
       "  211.005,1403.28 2321.26,1403.28 \n",
       "  \"/>\n",
       "<polyline clip-path=\"url(#clip3403)\" style=\"stroke:#000000; stroke-width:2; stroke-opacity:0.1; fill:none\" points=\"\n",
       "  211.005,1082.93 2321.26,1082.93 \n",
       "  \"/>\n",
       "<polyline clip-path=\"url(#clip3403)\" style=\"stroke:#000000; stroke-width:2; stroke-opacity:0.1; fill:none\" points=\"\n",
       "  211.005,762.577 2321.26,762.577 \n",
       "  \"/>\n",
       "<polyline clip-path=\"url(#clip3403)\" style=\"stroke:#000000; stroke-width:2; stroke-opacity:0.1; fill:none\" points=\"\n",
       "  211.005,442.226 2321.26,442.226 \n",
       "  \"/>\n",
       "<polyline clip-path=\"url(#clip3401)\" style=\"stroke:#000000; stroke-width:4; stroke-opacity:1; fill:none\" points=\"\n",
       "  211.005,1440.48 2321.26,1440.48 \n",
       "  \"/>\n",
       "<polyline clip-path=\"url(#clip3401)\" style=\"stroke:#000000; stroke-width:4; stroke-opacity:1; fill:none\" points=\"\n",
       "  211.005,1440.48 211.005,125.984 \n",
       "  \"/>\n",
       "<polyline clip-path=\"url(#clip3401)\" style=\"stroke:#000000; stroke-width:4; stroke-opacity:1; fill:none\" points=\"\n",
       "  264.071,1440.48 264.071,1420.77 \n",
       "  \"/>\n",
       "<polyline clip-path=\"url(#clip3401)\" style=\"stroke:#000000; stroke-width:4; stroke-opacity:1; fill:none\" points=\"\n",
       "  929.893,1440.48 929.893,1420.77 \n",
       "  \"/>\n",
       "<polyline clip-path=\"url(#clip3401)\" style=\"stroke:#000000; stroke-width:4; stroke-opacity:1; fill:none\" points=\"\n",
       "  1595.71,1440.48 1595.71,1420.77 \n",
       "  \"/>\n",
       "<polyline clip-path=\"url(#clip3401)\" style=\"stroke:#000000; stroke-width:4; stroke-opacity:1; fill:none\" points=\"\n",
       "  2261.54,1440.48 2261.54,1420.77 \n",
       "  \"/>\n",
       "<polyline clip-path=\"url(#clip3401)\" style=\"stroke:#000000; stroke-width:4; stroke-opacity:1; fill:none\" points=\"\n",
       "  211.005,1403.28 242.659,1403.28 \n",
       "  \"/>\n",
       "<polyline clip-path=\"url(#clip3401)\" style=\"stroke:#000000; stroke-width:4; stroke-opacity:1; fill:none\" points=\"\n",
       "  211.005,1082.93 242.659,1082.93 \n",
       "  \"/>\n",
       "<polyline clip-path=\"url(#clip3401)\" style=\"stroke:#000000; stroke-width:4; stroke-opacity:1; fill:none\" points=\"\n",
       "  211.005,762.577 242.659,762.577 \n",
       "  \"/>\n",
       "<polyline clip-path=\"url(#clip3401)\" style=\"stroke:#000000; stroke-width:4; stroke-opacity:1; fill:none\" points=\"\n",
       "  211.005,442.226 242.659,442.226 \n",
       "  \"/>\n",
       "<g clip-path=\"url(#clip3401)\">\n",
       "<text style=\"fill:#000000; fill-opacity:1; font-family:Arial,Helvetica Neue,Helvetica,sans-serif; font-size:48px; text-anchor:middle;\" transform=\"rotate(0, 264.071, 1494.48)\" x=\"264.071\" y=\"1494.48\">0</text>\n",
       "</g>\n",
       "<g clip-path=\"url(#clip3401)\">\n",
       "<text style=\"fill:#000000; fill-opacity:1; font-family:Arial,Helvetica Neue,Helvetica,sans-serif; font-size:48px; text-anchor:middle;\" transform=\"rotate(0, 929.893, 1494.48)\" x=\"929.893\" y=\"1494.48\">100</text>\n",
       "</g>\n",
       "<g clip-path=\"url(#clip3401)\">\n",
       "<text style=\"fill:#000000; fill-opacity:1; font-family:Arial,Helvetica Neue,Helvetica,sans-serif; font-size:48px; text-anchor:middle;\" transform=\"rotate(0, 1595.71, 1494.48)\" x=\"1595.71\" y=\"1494.48\">200</text>\n",
       "</g>\n",
       "<g clip-path=\"url(#clip3401)\">\n",
       "<text style=\"fill:#000000; fill-opacity:1; font-family:Arial,Helvetica Neue,Helvetica,sans-serif; font-size:48px; text-anchor:middle;\" transform=\"rotate(0, 2261.54, 1494.48)\" x=\"2261.54\" y=\"1494.48\">300</text>\n",
       "</g>\n",
       "<g clip-path=\"url(#clip3401)\">\n",
       "<text style=\"fill:#000000; fill-opacity:1; font-family:Arial,Helvetica Neue,Helvetica,sans-serif; font-size:48px; text-anchor:end;\" transform=\"rotate(0, 187.005, 1420.78)\" x=\"187.005\" y=\"1420.78\">10</text>\n",
       "</g>\n",
       "<g clip-path=\"url(#clip3401)\">\n",
       "<text style=\"fill:#000000; fill-opacity:1; font-family:Arial,Helvetica Neue,Helvetica,sans-serif; font-size:48px; text-anchor:end;\" transform=\"rotate(0, 187.005, 1100.43)\" x=\"187.005\" y=\"1100.43\">12</text>\n",
       "</g>\n",
       "<g clip-path=\"url(#clip3401)\">\n",
       "<text style=\"fill:#000000; fill-opacity:1; font-family:Arial,Helvetica Neue,Helvetica,sans-serif; font-size:48px; text-anchor:end;\" transform=\"rotate(0, 187.005, 780.077)\" x=\"187.005\" y=\"780.077\">14</text>\n",
       "</g>\n",
       "<g clip-path=\"url(#clip3401)\">\n",
       "<text style=\"fill:#000000; fill-opacity:1; font-family:Arial,Helvetica Neue,Helvetica,sans-serif; font-size:48px; text-anchor:end;\" transform=\"rotate(0, 187.005, 459.726)\" x=\"187.005\" y=\"459.726\">16</text>\n",
       "</g>\n",
       "<g clip-path=\"url(#clip3401)\">\n",
       "<text style=\"fill:#000000; fill-opacity:1; font-family:Arial,Helvetica Neue,Helvetica,sans-serif; font-size:84px; text-anchor:middle;\" transform=\"rotate(0, 1266.13, 73.2)\" x=\"1266.13\" y=\"73.2\">Value Function for Vanilla Model</text>\n",
       "</g>\n",
       "<g clip-path=\"url(#clip3401)\">\n",
       "<text style=\"fill:#000000; fill-opacity:1; font-family:Arial,Helvetica Neue,Helvetica,sans-serif; font-size:66px; text-anchor:middle;\" transform=\"rotate(0, 1266.13, 1590.4)\" x=\"1266.13\" y=\"1590.4\">x</text>\n",
       "</g>\n",
       "<g clip-path=\"url(#clip3401)\">\n",
       "<text style=\"fill:#000000; fill-opacity:1; font-family:Arial,Helvetica Neue,Helvetica,sans-serif; font-size:66px; text-anchor:middle;\" transform=\"rotate(-90, 57.6, 783.233)\" x=\"57.6\" y=\"783.233\">v(x)</text>\n",
       "</g>\n",
       "<polyline clip-path=\"url(#clip3403)\" style=\"stroke:#009af9; stroke-width:4; stroke-opacity:1; fill:none\" points=\"\n",
       "  270.729,1403.28 277.387,1403.28 284.046,1403.28 290.704,1403.28 297.362,1403.28 304.02,1403.28 310.678,1403.28 317.337,1403.28 323.995,1403.28 330.653,1403.28 \n",
       "  337.311,1403.28 343.97,1403.28 350.628,1403.28 357.286,1403.28 363.944,1403.28 370.602,1403.28 377.261,1403.28 383.919,1403.28 390.577,1403.28 397.235,1403.28 \n",
       "  403.894,1403.28 410.552,1403.28 417.21,1403.28 423.868,1403.28 430.526,1403.28 437.185,1403.28 443.843,1403.28 450.501,1403.28 457.159,1403.28 463.817,1403.28 \n",
       "  470.476,1403.28 477.134,1403.28 483.792,1403.28 490.45,1403.28 497.109,1403.28 503.767,1403.28 510.425,1403.28 517.083,1403.28 523.741,1403.28 530.4,1403.28 \n",
       "  537.058,1403.28 543.716,1403.28 550.374,1403.28 557.032,1403.28 563.691,1403.28 570.349,1403.28 577.007,1403.28 583.665,1403.28 590.324,1403.28 596.982,1403.28 \n",
       "  603.64,1403.28 610.298,1403.28 616.956,1403.28 623.615,1403.28 630.273,1403.28 636.931,1403.28 643.589,1403.28 650.247,1403.28 656.906,1403.28 663.564,1403.28 \n",
       "  670.222,1403.28 676.88,1403.28 683.539,1403.28 690.197,1403.28 696.855,1403.28 703.513,1403.28 710.171,1403.28 716.83,1403.28 723.488,1403.28 730.146,1403.28 \n",
       "  736.804,1403.28 743.462,1403.28 750.121,1403.12 756.779,1402.79 763.437,1402.31 770.095,1401.66 776.754,1400.87 783.412,1399.92 790.07,1398.82 796.728,1397.59 \n",
       "  803.386,1396.21 810.045,1394.69 816.703,1393.04 823.361,1391.26 830.019,1389.35 836.678,1387.32 843.336,1385.16 849.994,1382.89 856.652,1380.5 863.31,1377.99 \n",
       "  869.969,1375.37 876.627,1372.65 883.285,1369.81 889.943,1366.88 896.601,1363.84 903.26,1360.7 909.918,1357.47 916.576,1354.14 923.234,1350.72 929.893,1347.21 \n",
       "  936.551,1343.61 943.209,1339.92 949.867,1336.15 956.525,1332.3 963.184,1328.37 969.842,1324.36 976.5,1320.28 983.158,1316.12 989.816,1311.89 996.475,1307.59 \n",
       "  1003.13,1303.22 1009.79,1298.78 1016.45,1294.28 1023.11,1289.71 1029.77,1285.08 1036.42,1280.39 1043.08,1275.64 1049.74,1270.83 1056.4,1265.97 1063.06,1261.05 \n",
       "  1069.72,1256.08 1076.37,1251.05 1083.03,1245.98 1089.69,1240.85 1096.35,1235.68 1103.01,1230.46 1109.66,1225.2 1116.32,1219.89 1122.98,1214.54 1129.64,1209.14 \n",
       "  1136.3,1203.71 1142.96,1198.23 1149.61,1192.72 1156.27,1187.17 1162.93,1181.58 1169.59,1175.95 1176.25,1170.3 1182.9,1164.61 1189.56,1158.88 1196.22,1153.13 \n",
       "  1202.88,1147.34 1209.54,1141.52 1216.2,1135.68 1222.85,1129.81 1229.51,1123.91 1236.17,1117.98 1242.83,1112.03 1249.49,1106.05 1256.15,1100.05 1262.8,1094.03 \n",
       "  1269.46,1087.99 1276.12,1081.92 1282.78,1075.83 1289.44,1069.72 1296.09,1063.59 1302.75,1057.45 1309.41,1051.28 1316.07,1045.1 1322.73,1038.9 1329.39,1032.69 \n",
       "  1336.04,1026.46 1342.7,1020.21 1349.36,1013.95 1356.02,1007.67 1362.68,1001.39 1369.33,995.087 1375.99,988.774 1382.65,982.45 1389.31,976.114 1395.97,969.768 \n",
       "  1402.63,963.412 1409.28,957.045 1415.94,950.67 1422.6,944.286 1429.26,937.893 1435.92,931.492 1442.58,925.084 1449.23,918.669 1455.89,912.248 1462.55,905.82 \n",
       "  1469.21,899.386 1475.87,892.947 1482.52,886.502 1489.18,880.053 1495.84,873.6 1502.5,867.142 1509.16,860.681 1515.82,854.217 1522.47,847.75 1529.13,841.28 \n",
       "  1535.79,834.807 1542.45,828.333 1549.11,821.856 1555.76,815.379 1562.42,808.9 1569.08,802.42 1575.74,795.94 1582.4,789.459 1589.06,782.979 1595.71,776.498 \n",
       "  1602.37,770.018 1609.03,763.539 1615.69,757.06 1622.35,750.583 1629.01,744.107 1635.66,737.632 1642.32,731.16 1648.98,724.689 1655.64,718.221 1662.3,711.755 \n",
       "  1668.95,705.291 1675.61,698.831 1682.27,692.373 1688.93,685.919 1695.59,679.468 1702.25,673.021 1708.9,666.577 1715.56,660.137 1722.22,653.701 1728.88,647.27 \n",
       "  1735.54,640.842 1742.19,634.419 1748.85,628.001 1755.51,621.588 1762.17,615.179 1768.83,608.776 1775.49,602.378 1782.14,595.985 1788.8,589.597 1795.46,583.215 \n",
       "  1802.12,576.839 1808.78,570.469 1815.44,564.104 1822.09,557.745 1828.75,551.393 1835.41,545.046 1842.07,538.706 1848.73,532.373 1855.38,526.046 1862.04,519.725 \n",
       "  1868.7,513.411 1875.36,507.104 1882.02,500.804 1888.68,494.511 1895.33,488.225 1901.99,481.945 1908.65,475.673 1915.31,469.408 1921.97,463.151 1928.62,456.901 \n",
       "  1935.28,450.658 1941.94,444.423 1948.6,438.195 1955.26,431.975 1961.92,425.762 1968.57,419.558 1975.23,413.361 1981.89,407.171 1988.55,400.99 1995.21,394.817 \n",
       "  2001.87,388.651 2008.52,382.494 2015.18,376.344 2021.84,370.203 2028.5,364.07 2035.16,357.945 2041.81,351.828 2048.47,345.72 2055.13,339.619 2061.79,333.527 \n",
       "  2068.45,327.444 2075.11,321.369 2081.76,315.302 2088.42,309.243 2095.08,303.193 2101.74,297.152 2108.4,291.118 2115.05,285.094 2121.71,279.078 2128.37,273.07 \n",
       "  2135.03,267.072 2141.69,261.081 2148.35,255.1 2155,249.128 2161.66,243.164 2168.32,237.211 2174.98,231.267 2181.64,225.335 2188.3,219.416 2194.95,213.513 \n",
       "  2201.61,207.631 2208.27,201.779 2214.93,195.971 2221.59,190.233 2228.24,184.606 2234.9,179.161 2241.56,174.016 2248.22,169.373 2254.88,165.572 2261.54,163.187 \n",
       "  \n",
       "  \"/>\n",
       "</svg>\n"
      ]
     },
     "execution_count": 29,
     "metadata": {},
     "output_type": "execute_result"
    }
   ],
   "source": [
    "using Plots\n",
    "v = sol_z + S \n",
    "plot(v, title = \"Value Function for Vanilla Model\", legend = false, xlabel = \"x\", ylabel = \"v(x)\")"
   ]
  },
  {
   "cell_type": "markdown",
   "metadata": {},
   "source": [
    "This is the kind of thing we expect --- below some threshold you get the stopping value $S \\equiv 10$, and above it you get a smoothly increasing value."
   ]
  },
  {
   "cell_type": "markdown",
   "metadata": {},
   "source": [
    "**Note:** `PATHSolver.jl` is the backend used by `Complementarity.jl`, so there's no need to test that package separately (and, in fact, I couldn't get the macro/JuMP setup to work.)"
   ]
  },
  {
   "cell_type": "markdown",
   "metadata": {},
   "source": [
    "### Approach 2: Same Problem with NLsolve"
   ]
  },
  {
   "cell_type": "code",
   "execution_count": 30,
   "metadata": {},
   "outputs": [],
   "source": [
    "using NLsolve"
   ]
  },
  {
   "cell_type": "code",
   "execution_count": 31,
   "metadata": {},
   "outputs": [
    {
     "data": {
      "text/plain": [
       "f! (generic function with 1 method)"
      ]
     },
     "execution_count": 31,
     "metadata": {},
     "output_type": "execute_result"
    }
   ],
   "source": [
    "function f!(F, z)\n",
    "    F .= B*z + q # in place assignment\n",
    "end"
   ]
  },
  {
   "cell_type": "code",
   "execution_count": 32,
   "metadata": {},
   "outputs": [
    {
     "name": "stdout",
     "output_type": "stream",
     "text": [
      "  0.220560 seconds (152.00 k allocations: 49.272 MiB, 4.58% gc time)\n"
     ]
    },
    {
     "data": {
      "text/plain": [
       "Results of Nonlinear Solver Algorithm\n",
       " * Algorithm: Trust-region with dogleg and autoscaling\n",
       " * Starting Point: [0.0, 0.0, 0.0, 0.0, 0.0, 0.0, 0.0, 0.0, 0.0, 0.0, 0.0, 0.0, 0.0, 0.0, 0.0, 0.0, 0.0, 0.0, 0.0, 0.0, 0.0, 0.0, 0.0, 0.0, 0.0, 0.0, 0.0, 0.0, 0.0, 0.0, 0.0, 0.0, 0.0, 0.0, 0.0, 0.0, 0.0, 0.0, 0.0, 0.0, 0.0, 0.0, 0.0, 0.0, 0.0, 0.0, 0.0, 0.0, 0.0, 0.0, 0.0, 0.0, 0.0, 0.0, 0.0, 0.0, 0.0, 0.0, 0.0, 0.0, 0.0, 0.0, 0.0, 0.0, 0.0, 0.0, 0.0, 0.0, 0.0, 0.0, 0.0, 0.0, 0.0, 0.0, 0.0, 0.0, 0.0, 0.0, 0.0, 0.0, 0.0, 0.0, 0.0, 0.0, 0.0, 0.0, 0.0, 0.0, 0.0, 0.0, 0.0, 0.0, 0.0, 0.0, 0.0, 0.0, 0.0, 0.0, 0.0, 0.0, 0.0, 0.0, 0.0, 0.0, 0.0, 0.0, 0.0, 0.0, 0.0, 0.0, 0.0, 0.0, 0.0, 0.0, 0.0, 0.0, 0.0, 0.0, 0.0, 0.0, 0.0, 0.0, 0.0, 0.0, 0.0, 0.0, 0.0, 0.0, 0.0, 0.0, 0.0, 0.0, 0.0, 0.0, 0.0, 0.0, 0.0, 0.0, 0.0, 0.0, 0.0, 0.0, 0.0, 0.0, 0.0, 0.0, 0.0, 0.0, 0.0, 0.0, 0.0, 0.0, 0.0, 0.0, 0.0, 0.0, 0.0, 0.0, 0.0, 0.0, 0.0, 0.0, 0.0, 0.0, 0.0, 0.0, 0.0, 0.0, 0.0, 0.0, 0.0, 0.0, 0.0, 0.0, 0.0, 0.0, 0.0, 0.0, 0.0, 0.0, 0.0, 0.0, 0.0, 0.0, 0.0, 0.0, 0.0, 0.0, 0.0, 0.0, 0.0, 0.0, 0.0, 0.0, 0.0, 0.0, 0.0, 0.0, 0.0, 0.0, 0.0, 0.0, 0.0, 0.0, 0.0, 0.0, 0.0, 0.0, 0.0, 0.0, 0.0, 0.0, 0.0, 0.0, 0.0, 0.0, 0.0, 0.0, 0.0, 0.0, 0.0, 0.0, 0.0, 0.0, 0.0, 0.0, 0.0, 0.0, 0.0, 0.0, 0.0, 0.0, 0.0, 0.0, 0.0, 0.0, 0.0, 0.0, 0.0, 0.0, 0.0, 0.0, 0.0, 0.0, 0.0, 0.0, 0.0, 0.0, 0.0, 0.0, 0.0, 0.0, 0.0, 0.0, 0.0, 0.0, 0.0, 0.0, 0.0, 0.0, 0.0, 0.0, 0.0, 0.0, 0.0, 0.0, 0.0, 0.0, 0.0, 0.0, 0.0, 0.0, 0.0, 0.0, 0.0, 0.0, 0.0, 0.0, 0.0, 0.0, 0.0, 0.0, 0.0, 0.0, 0.0, 0.0, 0.0, 0.0, 0.0, 0.0, 0.0, 0.0, 0.0, 0.0, 0.0, 0.0, 0.0, 0.0, 0.0, 0.0]\n",
       " * Zero: [0.0, 0.0, 0.0, 0.0, 0.0, 0.0, 0.0, 0.0, 0.0, 0.0, 0.0, 0.0, 0.0, 0.0, 0.0, 0.0, 0.0, 0.0, 0.0, 0.0, 0.0, 0.0, 0.0, 0.0, 0.0, 0.0, 0.0, 0.0, 0.0, 0.0, 0.0, 0.0, 0.0, 0.0, 0.0, 0.0, 0.0, 0.0, 0.0, 0.0, 0.0, 0.0, 0.0, 0.0, 0.0, 0.0, 0.0, 0.0, 0.0, 0.0, 0.0, 0.0, 0.0, 0.0, 0.0, 0.0, 0.0, 0.0, 0.0, 0.0, 0.0, 0.0, 0.0, 0.0, 0.0, 0.0, 0.0, -2.18279e-20, 5.15863e-20, 5.63115e-19, -1.48511e-19, -3.23749e-21, 0.00100298, 0.0030337, 0.00606908, 0.0100866, 0.015064, 0.0209799, 0.0278129, 0.0355425, 0.0441483, 0.0536104, 0.0639096, 0.0750267, 0.0869432, 0.0996407, 0.113102, 0.127308, 0.142244, 0.157891, 0.174234, 0.191256, 0.208943, 0.227277, 0.246245, 0.265832, 0.286022, 0.306803, 0.328159, 0.350078, 0.372547, 0.395551, 0.419079, 0.443118, 0.467655, 0.49268, 0.518179, 0.544141, 0.570556, 0.597412, 0.624698, 0.652404, 0.680519, 0.709034, 0.737938, 0.767221, 0.796875, 0.826889, 0.857254, 0.887962, 0.919004, 0.950371, 0.982054, 1.01405, 1.04634, 1.07892, 1.11179, 1.14494, 1.17836, 1.21203, 1.24597, 1.28015, 1.31457, 1.34923, 1.38412, 1.41922, 1.45455, 1.49008, 1.52581, 1.56174, 1.59787, 1.63418, 1.67066, 1.70733, 1.74416, 1.78116, 1.81831, 1.85562, 1.89308, 1.93069, 1.96843, 2.00631, 2.04432, 2.08245, 2.12071, 2.15908, 2.19757, 2.23616, 2.27487, 2.31367, 2.35257, 2.39156, 2.43065, 2.46982, 2.50907, 2.54841, 2.58782, 2.6273, 2.66686, 2.70648, 2.74616, 2.78591, 2.82571, 2.86557, 2.90548, 2.94544, 2.98544, 3.02549, 3.06558, 3.10572, 3.14588, 3.18608, 3.22632, 3.26658, 3.30687, 3.34718, 3.38752, 3.42788, 3.46826, 3.50865, 3.54906, 3.58948, 3.62991, 3.67035, 3.7108, 3.75125, 3.79171, 3.83217, 3.87263, 3.91309, 3.95354, 3.994, 4.03444, 4.07488, 4.11531, 4.15573, 4.19614, 4.23654, 4.27692, 4.31729, 4.35764, 4.39798, 4.43829, 4.47859, 4.51886, 4.55911, 4.59934, 4.63955, 4.67973, 4.71988, 4.76001, 4.80011, 4.84018, 4.88022, 4.92022, 4.9602, 5.00015, 5.04006, 5.07994, 5.11978, 5.15959, 5.19936, 5.2391, 5.27879, 5.31845, 5.35807, 5.39766, 5.4372, 5.4767, 5.51616, 5.55558, 5.59495, 5.63429, 5.67358, 5.71282, 5.75202, 5.79118, 5.83029, 5.86936, 5.90838, 5.94736, 5.98628, 6.02516, 6.064, 6.10278, 6.14152, 6.18021, 6.21885, 6.25744, 6.29598, 6.33447, 6.37291, 6.41131, 6.44965, 6.48794, 6.52618, 6.56436, 6.6025, 6.64058, 6.67862, 6.7166, 6.75453, 6.7924, 6.83023, 6.868, 6.90572, 6.94338, 6.981, 7.01856, 7.05606, 7.09351, 7.13091, 7.16825, 7.20554, 7.24277, 7.27994, 7.31704, 7.35408, 7.39103, 7.42789, 7.46461, 7.50114, 7.5374, 7.57322, 7.60835, 7.64235, 7.67447, 7.70346, 7.72719, 7.74208]\n",
       " * Inf-norm of residuals: 0.000000\n",
       " * Iterations: 17\n",
       " * Convergence: true\n",
       "   * |x - x'| < 0.0e+00: false\n",
       "   * |f(x)| < 1.0e-12: true\n",
       " * Function Calls (f): 18\n",
       " * Jacobian Calls (df/dx): 18"
      ]
     },
     "execution_count": 32,
     "metadata": {},
     "output_type": "execute_result"
    }
   ],
   "source": [
    "@time r = mcpsolve(f!, lb, ub,\n",
    "                zeros(n), # initial condition\n",
    "                reformulation = :smooth, # uses a so-called \"Fischer function\" to smooth out the problem\n",
    "                autodiff = :forward,\n",
    "                ftol = 1e-12)"
   ]
  },
  {
   "cell_type": "markdown",
   "metadata": {},
   "source": [
    "As before, we can plot the resulting value function."
   ]
  },
  {
   "cell_type": "code",
   "execution_count": 33,
   "metadata": {},
   "outputs": [
    {
     "data": {
      "image/svg+xml": [
       "<?xml version=\"1.0\" encoding=\"utf-8\"?>\n",
       "<svg xmlns=\"http://www.w3.org/2000/svg\" xmlns:xlink=\"http://www.w3.org/1999/xlink\" width=\"600\" height=\"400\" viewBox=\"0 0 2400 1600\">\n",
       "<defs>\n",
       "  <clipPath id=\"clip3600\">\n",
       "    <rect x=\"0\" y=\"0\" width=\"2000\" height=\"2000\"/>\n",
       "  </clipPath>\n",
       "</defs>\n",
       "<defs>\n",
       "  <clipPath id=\"clip3601\">\n",
       "    <rect x=\"0\" y=\"0\" width=\"2400\" height=\"1600\"/>\n",
       "  </clipPath>\n",
       "</defs>\n",
       "<polygon clip-path=\"url(#clip3601)\" points=\"\n",
       "0,1600 2400,1600 2400,0 0,0 \n",
       "  \" fill=\"#ffffff\" fill-rule=\"evenodd\" fill-opacity=\"1\"/>\n",
       "<defs>\n",
       "  <clipPath id=\"clip3602\">\n",
       "    <rect x=\"480\" y=\"0\" width=\"1681\" height=\"1600\"/>\n",
       "  </clipPath>\n",
       "</defs>\n",
       "<polygon clip-path=\"url(#clip3601)\" points=\"\n",
       "211.005,1440.48 2321.26,1440.48 2321.26,125.984 211.005,125.984 \n",
       "  \" fill=\"#ffffff\" fill-rule=\"evenodd\" fill-opacity=\"1\"/>\n",
       "<defs>\n",
       "  <clipPath id=\"clip3603\">\n",
       "    <rect x=\"211\" y=\"125\" width=\"2111\" height=\"1315\"/>\n",
       "  </clipPath>\n",
       "</defs>\n",
       "<polyline clip-path=\"url(#clip3603)\" style=\"stroke:#000000; stroke-width:2; stroke-opacity:0.1; fill:none\" points=\"\n",
       "  264.071,1440.48 264.071,125.984 \n",
       "  \"/>\n",
       "<polyline clip-path=\"url(#clip3603)\" style=\"stroke:#000000; stroke-width:2; stroke-opacity:0.1; fill:none\" points=\"\n",
       "  929.893,1440.48 929.893,125.984 \n",
       "  \"/>\n",
       "<polyline clip-path=\"url(#clip3603)\" style=\"stroke:#000000; stroke-width:2; stroke-opacity:0.1; fill:none\" points=\"\n",
       "  1595.71,1440.48 1595.71,125.984 \n",
       "  \"/>\n",
       "<polyline clip-path=\"url(#clip3603)\" style=\"stroke:#000000; stroke-width:2; stroke-opacity:0.1; fill:none\" points=\"\n",
       "  2261.54,1440.48 2261.54,125.984 \n",
       "  \"/>\n",
       "<polyline clip-path=\"url(#clip3603)\" style=\"stroke:#000000; stroke-width:2; stroke-opacity:0.1; fill:none\" points=\"\n",
       "  211.005,1403.28 2321.26,1403.28 \n",
       "  \"/>\n",
       "<polyline clip-path=\"url(#clip3603)\" style=\"stroke:#000000; stroke-width:2; stroke-opacity:0.1; fill:none\" points=\"\n",
       "  211.005,1082.93 2321.26,1082.93 \n",
       "  \"/>\n",
       "<polyline clip-path=\"url(#clip3603)\" style=\"stroke:#000000; stroke-width:2; stroke-opacity:0.1; fill:none\" points=\"\n",
       "  211.005,762.577 2321.26,762.577 \n",
       "  \"/>\n",
       "<polyline clip-path=\"url(#clip3603)\" style=\"stroke:#000000; stroke-width:2; stroke-opacity:0.1; fill:none\" points=\"\n",
       "  211.005,442.226 2321.26,442.226 \n",
       "  \"/>\n",
       "<polyline clip-path=\"url(#clip3601)\" style=\"stroke:#000000; stroke-width:4; stroke-opacity:1; fill:none\" points=\"\n",
       "  211.005,1440.48 2321.26,1440.48 \n",
       "  \"/>\n",
       "<polyline clip-path=\"url(#clip3601)\" style=\"stroke:#000000; stroke-width:4; stroke-opacity:1; fill:none\" points=\"\n",
       "  211.005,1440.48 211.005,125.984 \n",
       "  \"/>\n",
       "<polyline clip-path=\"url(#clip3601)\" style=\"stroke:#000000; stroke-width:4; stroke-opacity:1; fill:none\" points=\"\n",
       "  264.071,1440.48 264.071,1420.77 \n",
       "  \"/>\n",
       "<polyline clip-path=\"url(#clip3601)\" style=\"stroke:#000000; stroke-width:4; stroke-opacity:1; fill:none\" points=\"\n",
       "  929.893,1440.48 929.893,1420.77 \n",
       "  \"/>\n",
       "<polyline clip-path=\"url(#clip3601)\" style=\"stroke:#000000; stroke-width:4; stroke-opacity:1; fill:none\" points=\"\n",
       "  1595.71,1440.48 1595.71,1420.77 \n",
       "  \"/>\n",
       "<polyline clip-path=\"url(#clip3601)\" style=\"stroke:#000000; stroke-width:4; stroke-opacity:1; fill:none\" points=\"\n",
       "  2261.54,1440.48 2261.54,1420.77 \n",
       "  \"/>\n",
       "<polyline clip-path=\"url(#clip3601)\" style=\"stroke:#000000; stroke-width:4; stroke-opacity:1; fill:none\" points=\"\n",
       "  211.005,1403.28 242.659,1403.28 \n",
       "  \"/>\n",
       "<polyline clip-path=\"url(#clip3601)\" style=\"stroke:#000000; stroke-width:4; stroke-opacity:1; fill:none\" points=\"\n",
       "  211.005,1082.93 242.659,1082.93 \n",
       "  \"/>\n",
       "<polyline clip-path=\"url(#clip3601)\" style=\"stroke:#000000; stroke-width:4; stroke-opacity:1; fill:none\" points=\"\n",
       "  211.005,762.577 242.659,762.577 \n",
       "  \"/>\n",
       "<polyline clip-path=\"url(#clip3601)\" style=\"stroke:#000000; stroke-width:4; stroke-opacity:1; fill:none\" points=\"\n",
       "  211.005,442.226 242.659,442.226 \n",
       "  \"/>\n",
       "<g clip-path=\"url(#clip3601)\">\n",
       "<text style=\"fill:#000000; fill-opacity:1; font-family:Arial,Helvetica Neue,Helvetica,sans-serif; font-size:48px; text-anchor:middle;\" transform=\"rotate(0, 264.071, 1494.48)\" x=\"264.071\" y=\"1494.48\">0</text>\n",
       "</g>\n",
       "<g clip-path=\"url(#clip3601)\">\n",
       "<text style=\"fill:#000000; fill-opacity:1; font-family:Arial,Helvetica Neue,Helvetica,sans-serif; font-size:48px; text-anchor:middle;\" transform=\"rotate(0, 929.893, 1494.48)\" x=\"929.893\" y=\"1494.48\">100</text>\n",
       "</g>\n",
       "<g clip-path=\"url(#clip3601)\">\n",
       "<text style=\"fill:#000000; fill-opacity:1; font-family:Arial,Helvetica Neue,Helvetica,sans-serif; font-size:48px; text-anchor:middle;\" transform=\"rotate(0, 1595.71, 1494.48)\" x=\"1595.71\" y=\"1494.48\">200</text>\n",
       "</g>\n",
       "<g clip-path=\"url(#clip3601)\">\n",
       "<text style=\"fill:#000000; fill-opacity:1; font-family:Arial,Helvetica Neue,Helvetica,sans-serif; font-size:48px; text-anchor:middle;\" transform=\"rotate(0, 2261.54, 1494.48)\" x=\"2261.54\" y=\"1494.48\">300</text>\n",
       "</g>\n",
       "<g clip-path=\"url(#clip3601)\">\n",
       "<text style=\"fill:#000000; fill-opacity:1; font-family:Arial,Helvetica Neue,Helvetica,sans-serif; font-size:48px; text-anchor:end;\" transform=\"rotate(0, 187.005, 1420.78)\" x=\"187.005\" y=\"1420.78\">10</text>\n",
       "</g>\n",
       "<g clip-path=\"url(#clip3601)\">\n",
       "<text style=\"fill:#000000; fill-opacity:1; font-family:Arial,Helvetica Neue,Helvetica,sans-serif; font-size:48px; text-anchor:end;\" transform=\"rotate(0, 187.005, 1100.43)\" x=\"187.005\" y=\"1100.43\">12</text>\n",
       "</g>\n",
       "<g clip-path=\"url(#clip3601)\">\n",
       "<text style=\"fill:#000000; fill-opacity:1; font-family:Arial,Helvetica Neue,Helvetica,sans-serif; font-size:48px; text-anchor:end;\" transform=\"rotate(0, 187.005, 780.077)\" x=\"187.005\" y=\"780.077\">14</text>\n",
       "</g>\n",
       "<g clip-path=\"url(#clip3601)\">\n",
       "<text style=\"fill:#000000; fill-opacity:1; font-family:Arial,Helvetica Neue,Helvetica,sans-serif; font-size:48px; text-anchor:end;\" transform=\"rotate(0, 187.005, 459.726)\" x=\"187.005\" y=\"459.726\">16</text>\n",
       "</g>\n",
       "<g clip-path=\"url(#clip3601)\">\n",
       "<text style=\"fill:#000000; fill-opacity:1; font-family:Arial,Helvetica Neue,Helvetica,sans-serif; font-size:84px; text-anchor:middle;\" transform=\"rotate(0, 1266.13, 73.2)\" x=\"1266.13\" y=\"73.2\">Value Function for Vanilla Model</text>\n",
       "</g>\n",
       "<g clip-path=\"url(#clip3601)\">\n",
       "<text style=\"fill:#000000; fill-opacity:1; font-family:Arial,Helvetica Neue,Helvetica,sans-serif; font-size:66px; text-anchor:middle;\" transform=\"rotate(0, 1266.13, 1590.4)\" x=\"1266.13\" y=\"1590.4\">x</text>\n",
       "</g>\n",
       "<g clip-path=\"url(#clip3601)\">\n",
       "<text style=\"fill:#000000; fill-opacity:1; font-family:Arial,Helvetica Neue,Helvetica,sans-serif; font-size:66px; text-anchor:middle;\" transform=\"rotate(-90, 57.6, 783.233)\" x=\"57.6\" y=\"783.233\">v(x)</text>\n",
       "</g>\n",
       "<polyline clip-path=\"url(#clip3603)\" style=\"stroke:#009af9; stroke-width:4; stroke-opacity:1; fill:none\" points=\"\n",
       "  270.729,1403.28 277.387,1403.28 284.046,1403.28 290.704,1403.28 297.362,1403.28 304.02,1403.28 310.678,1403.28 317.337,1403.28 323.995,1403.28 330.653,1403.28 \n",
       "  337.311,1403.28 343.97,1403.28 350.628,1403.28 357.286,1403.28 363.944,1403.28 370.602,1403.28 377.261,1403.28 383.919,1403.28 390.577,1403.28 397.235,1403.28 \n",
       "  403.894,1403.28 410.552,1403.28 417.21,1403.28 423.868,1403.28 430.526,1403.28 437.185,1403.28 443.843,1403.28 450.501,1403.28 457.159,1403.28 463.817,1403.28 \n",
       "  470.476,1403.28 477.134,1403.28 483.792,1403.28 490.45,1403.28 497.109,1403.28 503.767,1403.28 510.425,1403.28 517.083,1403.28 523.741,1403.28 530.4,1403.28 \n",
       "  537.058,1403.28 543.716,1403.28 550.374,1403.28 557.032,1403.28 563.691,1403.28 570.349,1403.28 577.007,1403.28 583.665,1403.28 590.324,1403.28 596.982,1403.28 \n",
       "  603.64,1403.28 610.298,1403.28 616.956,1403.28 623.615,1403.28 630.273,1403.28 636.931,1403.28 643.589,1403.28 650.247,1403.28 656.906,1403.28 663.564,1403.28 \n",
       "  670.222,1403.28 676.88,1403.28 683.539,1403.28 690.197,1403.28 696.855,1403.28 703.513,1403.28 710.171,1403.28 716.83,1403.28 723.488,1403.28 730.146,1403.28 \n",
       "  736.804,1403.28 743.462,1403.28 750.121,1403.12 756.779,1402.79 763.437,1402.31 770.095,1401.66 776.754,1400.87 783.412,1399.92 790.07,1398.82 796.728,1397.59 \n",
       "  803.386,1396.21 810.045,1394.69 816.703,1393.04 823.361,1391.26 830.019,1389.35 836.678,1387.32 843.336,1385.16 849.994,1382.89 856.652,1380.5 863.31,1377.99 \n",
       "  869.969,1375.37 876.627,1372.65 883.285,1369.81 889.943,1366.88 896.601,1363.84 903.26,1360.7 909.918,1357.47 916.576,1354.14 923.234,1350.72 929.893,1347.21 \n",
       "  936.551,1343.61 943.209,1339.92 949.867,1336.15 956.525,1332.3 963.184,1328.37 969.842,1324.36 976.5,1320.28 983.158,1316.12 989.816,1311.89 996.475,1307.59 \n",
       "  1003.13,1303.22 1009.79,1298.78 1016.45,1294.28 1023.11,1289.71 1029.77,1285.08 1036.42,1280.39 1043.08,1275.64 1049.74,1270.83 1056.4,1265.97 1063.06,1261.05 \n",
       "  1069.72,1256.08 1076.37,1251.05 1083.03,1245.98 1089.69,1240.85 1096.35,1235.68 1103.01,1230.46 1109.66,1225.2 1116.32,1219.89 1122.98,1214.54 1129.64,1209.14 \n",
       "  1136.3,1203.71 1142.96,1198.23 1149.61,1192.72 1156.27,1187.17 1162.93,1181.58 1169.59,1175.95 1176.25,1170.3 1182.9,1164.61 1189.56,1158.88 1196.22,1153.13 \n",
       "  1202.88,1147.34 1209.54,1141.52 1216.2,1135.68 1222.85,1129.81 1229.51,1123.91 1236.17,1117.98 1242.83,1112.03 1249.49,1106.05 1256.15,1100.05 1262.8,1094.03 \n",
       "  1269.46,1087.99 1276.12,1081.92 1282.78,1075.83 1289.44,1069.72 1296.09,1063.59 1302.75,1057.45 1309.41,1051.28 1316.07,1045.1 1322.73,1038.9 1329.39,1032.69 \n",
       "  1336.04,1026.46 1342.7,1020.21 1349.36,1013.95 1356.02,1007.67 1362.68,1001.39 1369.33,995.087 1375.99,988.774 1382.65,982.45 1389.31,976.114 1395.97,969.768 \n",
       "  1402.63,963.412 1409.28,957.045 1415.94,950.67 1422.6,944.286 1429.26,937.893 1435.92,931.492 1442.58,925.084 1449.23,918.669 1455.89,912.248 1462.55,905.82 \n",
       "  1469.21,899.386 1475.87,892.947 1482.52,886.502 1489.18,880.053 1495.84,873.6 1502.5,867.142 1509.16,860.681 1515.82,854.217 1522.47,847.75 1529.13,841.28 \n",
       "  1535.79,834.807 1542.45,828.333 1549.11,821.856 1555.76,815.379 1562.42,808.9 1569.08,802.42 1575.74,795.94 1582.4,789.459 1589.06,782.979 1595.71,776.498 \n",
       "  1602.37,770.018 1609.03,763.539 1615.69,757.06 1622.35,750.583 1629.01,744.107 1635.66,737.632 1642.32,731.16 1648.98,724.689 1655.64,718.221 1662.3,711.755 \n",
       "  1668.95,705.291 1675.61,698.831 1682.27,692.373 1688.93,685.919 1695.59,679.468 1702.25,673.021 1708.9,666.577 1715.56,660.137 1722.22,653.701 1728.88,647.27 \n",
       "  1735.54,640.842 1742.19,634.419 1748.85,628.001 1755.51,621.588 1762.17,615.179 1768.83,608.776 1775.49,602.378 1782.14,595.985 1788.8,589.597 1795.46,583.215 \n",
       "  1802.12,576.839 1808.78,570.469 1815.44,564.104 1822.09,557.745 1828.75,551.393 1835.41,545.046 1842.07,538.706 1848.73,532.373 1855.38,526.046 1862.04,519.725 \n",
       "  1868.7,513.411 1875.36,507.104 1882.02,500.804 1888.68,494.511 1895.33,488.225 1901.99,481.945 1908.65,475.673 1915.31,469.408 1921.97,463.151 1928.62,456.901 \n",
       "  1935.28,450.658 1941.94,444.423 1948.6,438.195 1955.26,431.975 1961.92,425.762 1968.57,419.558 1975.23,413.361 1981.89,407.171 1988.55,400.99 1995.21,394.817 \n",
       "  2001.87,388.651 2008.52,382.494 2015.18,376.344 2021.84,370.203 2028.5,364.07 2035.16,357.945 2041.81,351.828 2048.47,345.72 2055.13,339.619 2061.79,333.527 \n",
       "  2068.45,327.444 2075.11,321.369 2081.76,315.302 2088.42,309.243 2095.08,303.193 2101.74,297.152 2108.4,291.118 2115.05,285.094 2121.71,279.078 2128.37,273.07 \n",
       "  2135.03,267.072 2141.69,261.081 2148.35,255.1 2155,249.128 2161.66,243.164 2168.32,237.211 2174.98,231.267 2181.64,225.335 2188.3,219.416 2194.95,213.513 \n",
       "  2201.61,207.631 2208.27,201.779 2214.93,195.971 2221.59,190.233 2228.24,184.606 2234.9,179.161 2241.56,174.016 2248.22,169.373 2254.88,165.572 2261.54,163.187 \n",
       "  \n",
       "  \"/>\n",
       "</svg>\n"
      ]
     },
     "execution_count": 33,
     "metadata": {},
     "output_type": "execute_result"
    }
   ],
   "source": [
    "v = r.zero + S \n",
    "plot(v, title = \"Value Function for Vanilla Model\", legend = false, xlabel = \"x\", ylabel = \"v(x)\")"
   ]
  },
  {
   "cell_type": "markdown",
   "metadata": {},
   "source": [
    "Reassuringly, they look about the same."
   ]
  },
  {
   "cell_type": "code",
   "execution_count": 39,
   "metadata": {},
   "outputs": [],
   "source": [
    "using Suppressor"
   ]
  },
  {
   "cell_type": "code",
   "execution_count": 40,
   "metadata": {},
   "outputs": [
    {
     "data": {
      "text/plain": [
       "LCP_1 (generic function with 1 method)"
      ]
     },
     "execution_count": 40,
     "metadata": {},
     "output_type": "execute_result"
    }
   ],
   "source": [
    "function LCP_1()\n",
    "    sp = StoppingProblem()\n",
    "    @unpack A, B, S, q = LCP_objects(sp)\n",
    "    f = z -> B*z + q\n",
    "    n = sp.M\n",
    "    lb = zeros(n)\n",
    "    ub = 1000*ones(n) # a reasonable guess?\n",
    "    @suppress options(convergence_tolerance = 1e-12, output = :no, time_limit = 600) # 10 minute budget\n",
    "    @suppress solveLCP(f, lb, ub);\n",
    "end"
   ]
  },
  {
   "cell_type": "code",
   "execution_count": 41,
   "metadata": {},
   "outputs": [
    {
     "data": {
      "text/plain": [
       "LCP_2 (generic function with 1 method)"
      ]
     },
     "execution_count": 41,
     "metadata": {},
     "output_type": "execute_result"
    }
   ],
   "source": [
    "function LCP_2()\n",
    "    sp = StoppingProblem()\n",
    "    @unpack A, B, S, q = LCP_objects(sp)\n",
    "    f = z -> B*z + q\n",
    "    n = sp.M\n",
    "    lb = zeros(n)\n",
    "    ub = 1000*ones(n) # a reasonable guess?\n",
    "    function f!(F, z)\n",
    "        F .= B*z + q # in place assignment\n",
    "    end\n",
    "    r = mcpsolve(f!, lb, ub,\n",
    "                zeros(n), # initial condition\n",
    "                reformulation = :smooth, # uses a so-called \"Fischer function\" to smooth out the problem\n",
    "                autodiff = :forward,\n",
    "                ftol = 1e-12)\n",
    "end"
   ]
  },
  {
   "cell_type": "code",
   "execution_count": 42,
   "metadata": {},
   "outputs": [
    {
     "name": "stdout",
     "output_type": "stream",
     "text": [
      "  4.049 ms (742 allocations: 2.70 MiB)\n"
     ]
    },
    {
     "data": {
      "text/plain": [
       "(:Solved, [0.0, 0.0, 0.0, 0.0, 0.0, 0.0, 0.0, 0.0, 0.0, 0.0  …  7.46461, 7.50114, 7.5374, 7.57322, 7.60835, 7.64235, 7.67447, 7.70346, 7.72719, 7.74208], [0.4, 0.384627, 0.371073, 0.358815, 0.34754, 0.337042, 0.327182, 0.317854, 0.308981, 0.300502  …  -4.77396e-15, -2.66454e-15, -2.66454e-15, -5.21805e-15, -6.66134e-15, 2.44249e-15, 4.44089e-15, 7.88258e-15, -1.22125e-15, 0.0])"
      ]
     },
     "execution_count": 42,
     "metadata": {},
     "output_type": "execute_result"
    }
   ],
   "source": [
    "using BenchmarkTools\n",
    "@btime LCP_1()"
   ]
  },
  {
   "cell_type": "code",
   "execution_count": 43,
   "metadata": {},
   "outputs": [
    {
     "name": "stdout",
     "output_type": "stream",
     "text": [
      "  65.819 ms (7715 allocations: 42.31 MiB)\n"
     ]
    },
    {
     "data": {
      "text/plain": [
       "Results of Nonlinear Solver Algorithm\n",
       " * Algorithm: Trust-region with dogleg and autoscaling\n",
       " * Starting Point: [0.0, 0.0, 0.0, 0.0, 0.0, 0.0, 0.0, 0.0, 0.0, 0.0, 0.0, 0.0, 0.0, 0.0, 0.0, 0.0, 0.0, 0.0, 0.0, 0.0, 0.0, 0.0, 0.0, 0.0, 0.0, 0.0, 0.0, 0.0, 0.0, 0.0, 0.0, 0.0, 0.0, 0.0, 0.0, 0.0, 0.0, 0.0, 0.0, 0.0, 0.0, 0.0, 0.0, 0.0, 0.0, 0.0, 0.0, 0.0, 0.0, 0.0, 0.0, 0.0, 0.0, 0.0, 0.0, 0.0, 0.0, 0.0, 0.0, 0.0, 0.0, 0.0, 0.0, 0.0, 0.0, 0.0, 0.0, 0.0, 0.0, 0.0, 0.0, 0.0, 0.0, 0.0, 0.0, 0.0, 0.0, 0.0, 0.0, 0.0, 0.0, 0.0, 0.0, 0.0, 0.0, 0.0, 0.0, 0.0, 0.0, 0.0, 0.0, 0.0, 0.0, 0.0, 0.0, 0.0, 0.0, 0.0, 0.0, 0.0, 0.0, 0.0, 0.0, 0.0, 0.0, 0.0, 0.0, 0.0, 0.0, 0.0, 0.0, 0.0, 0.0, 0.0, 0.0, 0.0, 0.0, 0.0, 0.0, 0.0, 0.0, 0.0, 0.0, 0.0, 0.0, 0.0, 0.0, 0.0, 0.0, 0.0, 0.0, 0.0, 0.0, 0.0, 0.0, 0.0, 0.0, 0.0, 0.0, 0.0, 0.0, 0.0, 0.0, 0.0, 0.0, 0.0, 0.0, 0.0, 0.0, 0.0, 0.0, 0.0, 0.0, 0.0, 0.0, 0.0, 0.0, 0.0, 0.0, 0.0, 0.0, 0.0, 0.0, 0.0, 0.0, 0.0, 0.0, 0.0, 0.0, 0.0, 0.0, 0.0, 0.0, 0.0, 0.0, 0.0, 0.0, 0.0, 0.0, 0.0, 0.0, 0.0, 0.0, 0.0, 0.0, 0.0, 0.0, 0.0, 0.0, 0.0, 0.0, 0.0, 0.0, 0.0, 0.0, 0.0, 0.0, 0.0, 0.0, 0.0, 0.0, 0.0, 0.0, 0.0, 0.0, 0.0, 0.0, 0.0, 0.0, 0.0, 0.0, 0.0, 0.0, 0.0, 0.0, 0.0, 0.0, 0.0, 0.0, 0.0, 0.0, 0.0, 0.0, 0.0, 0.0, 0.0, 0.0, 0.0, 0.0, 0.0, 0.0, 0.0, 0.0, 0.0, 0.0, 0.0, 0.0, 0.0, 0.0, 0.0, 0.0, 0.0, 0.0, 0.0, 0.0, 0.0, 0.0, 0.0, 0.0, 0.0, 0.0, 0.0, 0.0, 0.0, 0.0, 0.0, 0.0, 0.0, 0.0, 0.0, 0.0, 0.0, 0.0, 0.0, 0.0, 0.0, 0.0, 0.0, 0.0, 0.0, 0.0, 0.0, 0.0, 0.0, 0.0, 0.0, 0.0, 0.0, 0.0, 0.0, 0.0, 0.0, 0.0, 0.0, 0.0, 0.0, 0.0, 0.0, 0.0, 0.0, 0.0, 0.0, 0.0, 0.0, 0.0, 0.0, 0.0, 0.0, 0.0, 0.0]\n",
       " * Zero: [0.0, 0.0, 0.0, 0.0, 0.0, 0.0, 0.0, 0.0, 0.0, 0.0, 0.0, 0.0, 0.0, 0.0, 0.0, 0.0, 0.0, 0.0, 0.0, 0.0, 0.0, 0.0, 0.0, 0.0, 0.0, 0.0, 0.0, 0.0, 0.0, 0.0, 0.0, 0.0, 0.0, 0.0, 0.0, 0.0, 0.0, 0.0, 0.0, 0.0, 0.0, 0.0, 0.0, 0.0, 0.0, 0.0, 0.0, 0.0, 0.0, 0.0, 0.0, 0.0, 0.0, 0.0, 0.0, 0.0, 0.0, 0.0, 0.0, 0.0, 0.0, 0.0, 0.0, 0.0, 0.0, 0.0, 0.0, -2.18279e-20, 5.15863e-20, 5.63115e-19, -1.48511e-19, -3.23749e-21, 0.00100298, 0.0030337, 0.00606908, 0.0100866, 0.015064, 0.0209799, 0.0278129, 0.0355425, 0.0441483, 0.0536104, 0.0639096, 0.0750267, 0.0869432, 0.0996407, 0.113102, 0.127308, 0.142244, 0.157891, 0.174234, 0.191256, 0.208943, 0.227277, 0.246245, 0.265832, 0.286022, 0.306803, 0.328159, 0.350078, 0.372547, 0.395551, 0.419079, 0.443118, 0.467655, 0.49268, 0.518179, 0.544141, 0.570556, 0.597412, 0.624698, 0.652404, 0.680519, 0.709034, 0.737938, 0.767221, 0.796875, 0.826889, 0.857254, 0.887962, 0.919004, 0.950371, 0.982054, 1.01405, 1.04634, 1.07892, 1.11179, 1.14494, 1.17836, 1.21203, 1.24597, 1.28015, 1.31457, 1.34923, 1.38412, 1.41922, 1.45455, 1.49008, 1.52581, 1.56174, 1.59787, 1.63418, 1.67066, 1.70733, 1.74416, 1.78116, 1.81831, 1.85562, 1.89308, 1.93069, 1.96843, 2.00631, 2.04432, 2.08245, 2.12071, 2.15908, 2.19757, 2.23616, 2.27487, 2.31367, 2.35257, 2.39156, 2.43065, 2.46982, 2.50907, 2.54841, 2.58782, 2.6273, 2.66686, 2.70648, 2.74616, 2.78591, 2.82571, 2.86557, 2.90548, 2.94544, 2.98544, 3.02549, 3.06558, 3.10572, 3.14588, 3.18608, 3.22632, 3.26658, 3.30687, 3.34718, 3.38752, 3.42788, 3.46826, 3.50865, 3.54906, 3.58948, 3.62991, 3.67035, 3.7108, 3.75125, 3.79171, 3.83217, 3.87263, 3.91309, 3.95354, 3.994, 4.03444, 4.07488, 4.11531, 4.15573, 4.19614, 4.23654, 4.27692, 4.31729, 4.35764, 4.39798, 4.43829, 4.47859, 4.51886, 4.55911, 4.59934, 4.63955, 4.67973, 4.71988, 4.76001, 4.80011, 4.84018, 4.88022, 4.92022, 4.9602, 5.00015, 5.04006, 5.07994, 5.11978, 5.15959, 5.19936, 5.2391, 5.27879, 5.31845, 5.35807, 5.39766, 5.4372, 5.4767, 5.51616, 5.55558, 5.59495, 5.63429, 5.67358, 5.71282, 5.75202, 5.79118, 5.83029, 5.86936, 5.90838, 5.94736, 5.98628, 6.02516, 6.064, 6.10278, 6.14152, 6.18021, 6.21885, 6.25744, 6.29598, 6.33447, 6.37291, 6.41131, 6.44965, 6.48794, 6.52618, 6.56436, 6.6025, 6.64058, 6.67862, 6.7166, 6.75453, 6.7924, 6.83023, 6.868, 6.90572, 6.94338, 6.981, 7.01856, 7.05606, 7.09351, 7.13091, 7.16825, 7.20554, 7.24277, 7.27994, 7.31704, 7.35408, 7.39103, 7.42789, 7.46461, 7.50114, 7.5374, 7.57322, 7.60835, 7.64235, 7.67447, 7.70346, 7.72719, 7.74208]\n",
       " * Inf-norm of residuals: 0.000000\n",
       " * Iterations: 17\n",
       " * Convergence: true\n",
       "   * |x - x'| < 0.0e+00: false\n",
       "   * |f(x)| < 1.0e-12: true\n",
       " * Function Calls (f): 18\n",
       " * Jacobian Calls (df/dx): 18"
      ]
     },
     "execution_count": 43,
     "metadata": {},
     "output_type": "execute_result"
    }
   ],
   "source": [
    "@btime LCP_2()"
   ]
  }
 ],
 "metadata": {
  "kernelspec": {
   "display_name": "Julia 1.0.2",
   "language": "julia",
   "name": "julia-1.0"
  },
  "language_info": {
   "file_extension": ".jl",
   "mimetype": "application/julia",
   "name": "julia",
   "version": "1.0.2"
  }
 },
 "nbformat": 4,
 "nbformat_minor": 2
}
